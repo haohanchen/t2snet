{
 "cells": [
  {
   "cell_type": "markdown",
   "metadata": {},
   "source": [
    "# import Library"
   ]
  },
  {
   "cell_type": "code",
   "execution_count": 1,
   "metadata": {},
   "outputs": [],
   "source": [
    "import numpy as np\n",
    "import pandas as pd\n",
    "import matplotlib.pyplot as plt\n",
    "%matplotlib inline\n",
    "\n",
    "import json\n",
    "import os"
   ]
  },
  {
   "cell_type": "markdown",
   "metadata": {},
   "source": [
    "# Data Set Load"
   ]
  },
  {
   "cell_type": "code",
   "execution_count": 2,
   "metadata": {},
   "outputs": [],
   "source": [
    "path = 'c:/research_persona/sentiment_analysis/movie_review_sentiment'\n",
    "\n",
    "df = pd.read_csv(path + '/raw_data_nsmc.csv')"
   ]
  },
  {
   "cell_type": "code",
   "execution_count": 3,
   "metadata": {},
   "outputs": [
    {
     "data": {
      "text/html": [
       "<div>\n",
       "<style scoped>\n",
       "    .dataframe tbody tr th:only-of-type {\n",
       "        vertical-align: middle;\n",
       "    }\n",
       "\n",
       "    .dataframe tbody tr th {\n",
       "        vertical-align: top;\n",
       "    }\n",
       "\n",
       "    .dataframe thead th {\n",
       "        text-align: right;\n",
       "    }\n",
       "</style>\n",
       "<table border=\"1\" class=\"dataframe\">\n",
       "  <thead>\n",
       "    <tr style=\"text-align: right;\">\n",
       "      <th></th>\n",
       "      <th>author</th>\n",
       "      <th>date</th>\n",
       "      <th>movie_id</th>\n",
       "      <th>rating</th>\n",
       "      <th>review</th>\n",
       "      <th>review_id</th>\n",
       "      <th>year</th>\n",
       "      <th>class</th>\n",
       "    </tr>\n",
       "  </thead>\n",
       "  <tbody>\n",
       "    <tr>\n",
       "      <th>0</th>\n",
       "      <td>dhrl****</td>\n",
       "      <td>15.08.25</td>\n",
       "      <td>10001</td>\n",
       "      <td>10</td>\n",
       "      <td>전체관람가는 아닌것 같아요</td>\n",
       "      <td>10275182</td>\n",
       "      <td>15</td>\n",
       "      <td>POS</td>\n",
       "    </tr>\n",
       "    <tr>\n",
       "      <th>1</th>\n",
       "      <td>yuns****</td>\n",
       "      <td>15.08.25</td>\n",
       "      <td>10001</td>\n",
       "      <td>10</td>\n",
       "      <td>디렉터스컷으로봐서 거의 3시간짜리인데 참 흡인력있다</td>\n",
       "      <td>10272934</td>\n",
       "      <td>15</td>\n",
       "      <td>POS</td>\n",
       "    </tr>\n",
       "    <tr>\n",
       "      <th>2</th>\n",
       "      <td>supe****</td>\n",
       "      <td>15.08.23</td>\n",
       "      <td>10001</td>\n",
       "      <td>10</td>\n",
       "      <td>태어나 처음으로 가슴아리는 영화였다.  20년이상 지났지만.. 생각하면  또 가슴이...</td>\n",
       "      <td>10265507</td>\n",
       "      <td>15</td>\n",
       "      <td>POS</td>\n",
       "    </tr>\n",
       "    <tr>\n",
       "      <th>3</th>\n",
       "      <td>clai****</td>\n",
       "      <td>15.08.14</td>\n",
       "      <td>10001</td>\n",
       "      <td>10</td>\n",
       "      <td>어린시절 고딩때 봤던 때랑 또 결혼하고 나서 봤을때의 느낌은 확실히 다르네요. 뭔가...</td>\n",
       "      <td>10228406</td>\n",
       "      <td>15</td>\n",
       "      <td>POS</td>\n",
       "    </tr>\n",
       "    <tr>\n",
       "      <th>4</th>\n",
       "      <td>dlag****</td>\n",
       "      <td>15.08.11</td>\n",
       "      <td>10001</td>\n",
       "      <td>10</td>\n",
       "      <td>토토에게 넓은 세상을 보여주고픈 알프레도.. 그가 토토를 위해 정을 떼려고 했던 장...</td>\n",
       "      <td>10216349</td>\n",
       "      <td>15</td>\n",
       "      <td>POS</td>\n",
       "    </tr>\n",
       "  </tbody>\n",
       "</table>\n",
       "</div>"
      ],
      "text/plain": [
       "     author      date  movie_id  rating  \\\n",
       "0  dhrl****  15.08.25     10001      10   \n",
       "1  yuns****  15.08.25     10001      10   \n",
       "2  supe****  15.08.23     10001      10   \n",
       "3  clai****  15.08.14     10001      10   \n",
       "4  dlag****  15.08.11     10001      10   \n",
       "\n",
       "                                              review  review_id  year class  \n",
       "0                                     전체관람가는 아닌것 같아요   10275182    15   POS  \n",
       "1                       디렉터스컷으로봐서 거의 3시간짜리인데 참 흡인력있다   10272934    15   POS  \n",
       "2  태어나 처음으로 가슴아리는 영화였다.  20년이상 지났지만.. 생각하면  또 가슴이...   10265507    15   POS  \n",
       "3  어린시절 고딩때 봤던 때랑 또 결혼하고 나서 봤을때의 느낌은 확실히 다르네요. 뭔가...   10228406    15   POS  \n",
       "4  토토에게 넓은 세상을 보여주고픈 알프레도.. 그가 토토를 위해 정을 떼려고 했던 장...   10216349    15   POS  "
      ]
     },
     "execution_count": 3,
     "metadata": {},
     "output_type": "execute_result"
    }
   ],
   "source": [
    "df.head()"
   ]
  },
  {
   "cell_type": "code",
   "execution_count": 4,
   "metadata": {},
   "outputs": [
    {
     "data": {
      "text/plain": [
       "<matplotlib.axes._subplots.AxesSubplot at 0x1aa339eba90>"
      ]
     },
     "execution_count": 4,
     "metadata": {},
     "output_type": "execute_result"
    },
    {
     "data": {
      "image/png": "[encoded data removed]",
      "text/plain": [
       "<Figure size 432x288 with 1 Axes>"
      ]
     },
     "metadata": {
      "needs_background": "light"
     },
     "output_type": "display_data"
    }
   ],
   "source": [
    "df['rating'].hist()"
   ]
  },
  {
   "cell_type": "code",
   "execution_count": 5,
   "metadata": {},
   "outputs": [],
   "source": [
    "d_path = 'd:/naver_review/'\n",
    "review_folder = os.listdir(d_path)\n",
    "\n",
    "t = {}\n",
    "for ix, review_file in enumerate(review_folder):\n",
    "    with open(d_path + review_file, 'rb') as f:\n",
    "        t[ix] = json.load(f)"
   ]
  },
  {
   "cell_type": "code",
   "execution_count": 6,
   "metadata": {},
   "outputs": [
    {
     "data": {
      "text/plain": [
       "dict_keys([0, 1, 2, 3, 4, 5, 6, 7])"
      ]
     },
     "execution_count": 6,
     "metadata": {},
     "output_type": "execute_result"
    }
   ],
   "source": [
    "t.keys()"
   ]
  },
  {
   "cell_type": "code",
   "execution_count": 7,
   "metadata": {},
   "outputs": [],
   "source": [
    "t1 = pd.DataFrame.from_dict(t[0])\n",
    "t2 = pd.DataFrame.from_dict(t[1])\n",
    "t3 = pd.DataFrame.from_dict(t[2])\n",
    "t4 = pd.DataFrame.from_dict(t[3])\n",
    "t5 = pd.DataFrame.from_dict(t[4])\n",
    "t6 = pd.DataFrame.from_dict(t[5])"
   ]
  },
  {
   "cell_type": "code",
   "execution_count": 8,
   "metadata": {
    "scrolled": true
   },
   "outputs": [
    {
     "data": {
      "text/plain": [
       "((336938, 10),\n",
       " (337740, 10),\n",
       " (337081, 10),\n",
       " (339721, 10),\n",
       " (839385, 10),\n",
       " (341550, 10))"
      ]
     },
     "execution_count": 8,
     "metadata": {},
     "output_type": "execute_result"
    }
   ],
   "source": [
    "t1.shape, t2.shape, t3.shape, t4.shape, t5.shape, t6.shape"
   ]
  },
  {
   "cell_type": "code",
   "execution_count": 9,
   "metadata": {},
   "outputs": [
    {
     "data": {
      "text/plain": [
       "2532415"
      ]
     },
     "execution_count": 9,
     "metadata": {},
     "output_type": "execute_result"
    }
   ],
   "source": [
    "336938 + 337740 + 337081 + 339721+ 839385 + 341550"
   ]
  },
  {
   "cell_type": "code",
   "execution_count": 10,
   "metadata": {},
   "outputs": [],
   "source": [
    "a = pd.concat((t1, t2, t3, t4, t5, t6))"
   ]
  },
  {
   "cell_type": "code",
   "execution_count": 11,
   "metadata": {},
   "outputs": [
    {
     "data": {
      "text/plain": [
       "<matplotlib.axes._subplots.AxesSubplot at 0x1aa277675c0>"
      ]
     },
     "execution_count": 11,
     "metadata": {},
     "output_type": "execute_result"
    },
    {
     "data": {
      "image/png": "[encoded data removed]",
      "text/plain": [
       "<Figure size 432x288 with 1 Axes>"
      ]
     },
     "metadata": {
      "needs_background": "light"
     },
     "output_type": "display_data"
    }
   ],
   "source": [
    "a['point'].hist()"
   ]
  },
  {
   "cell_type": "code",
   "execution_count": 12,
   "metadata": {},
   "outputs": [],
   "source": [
    "del t, t1, t2, t3, t4, t5, t6"
   ]
  },
  {
   "cell_type": "code",
   "execution_count": 13,
   "metadata": {},
   "outputs": [
    {
     "data": {
      "text/plain": [
       "'인권의 대지로 건너가는 징검다리의 돌 하나같은 영화'"
      ]
     },
     "execution_count": 13,
     "metadata": {},
     "output_type": "execute_result"
    }
   ],
   "source": [
    "import re\n",
    "re.sub(r'관람객\\n\\n', '', '관람객\\n\\n인권의 대지로 건너가는 징검다리의 돌 하나같은 영화')"
   ]
  },
  {
   "cell_type": "code",
   "execution_count": 14,
   "metadata": {},
   "outputs": [],
   "source": [
    "a['review'] = a['review'].map(lambda x : re.sub(r'관람객\\n\\n', '', x))"
   ]
  },
  {
   "cell_type": "markdown",
   "metadata": {},
   "source": [
    "# 감정 사전 로드"
   ]
  },
  {
   "cell_type": "code",
   "execution_count": 70,
   "metadata": {},
   "outputs": [],
   "source": [
    "def read_sentiwordnet(filename, encoding='utf-8', col_ind=None):\n",
    "    with open(filename, 'r', encoding=encoding) as f:\n",
    "        d = f.readlines()\n",
    "        d = [i.split('\\t') for i in d]\n",
    "        columns = ['POS', 'ID', 'PosScore', 'NegScore', 'SynsetTerms', 'Gloss']\n",
    "        if col_ind:\n",
    "            columns = ['POS', 'ID', 'SynsetTerms']\n",
    "        swn = pd.DataFrame(data=d[1:-1], columns=columns)\n",
    "    return swn"
   ]
  },
  {
   "cell_type": "code",
   "execution_count": 89,
   "metadata": {},
   "outputs": [],
   "source": [
    "from ksenticnet_kaist import *\n",
    "\n",
    "ksenticnet = get_ksenticnet()\n",
    "sentiwordknu = pd.read_excel('../감정단어사전0603.xlsx')\n",
    "swn_raw = read_sentiwordnet('SentiWordNet_3.0.0.txt')\n",
    "swn_translated = read_sentiwordnet('SentiWordNet_3.0.0_only_word.txt', encoding='utf-16', col_ind=True)\n",
    "swn = pd.concat((swn_raw, swn_translated['SynsetTerms']), axis=1)"
   ]
  },
  {
   "cell_type": "code",
   "execution_count": 92,
   "metadata": {},
   "outputs": [
    {
     "data": {
      "text/plain": [
       "0                                        [전체관람가는, 아닌것, 같아요]\n",
       "1                        [디렉터스컷으로봐서, 거의, 3시간짜리인데, 참, 흡인력있다]\n",
       "2         [태어나, 처음으로, 가슴아리는, 영화였다., , 20년이상, 지났지만.., 생각하...\n",
       "3         [어린시절, 고딩때, 봤던, 때랑, 또, 결혼하고, 나서, 봤을때의, 느낌은, 확실...\n",
       "4         [토토에게, 넓은, 세상을, 보여주고픈, 알프레도.., 그가, 토토를, 위해, 정을...\n",
       "5              [인생, 최고의, 영화., 말이, 필요없음., 감독판은, 감동이, 좀, 덜함.]\n",
       "6              [아름다운, 영화, 지금까지, 봤던, 영화, 중, 끝까지, 감동적이었던, 영화]\n",
       "7                                        [전율과, 여운이, 남는, 영화]\n",
       "8         [여지껏, 내인생에서, 젤, 감동인, 영화~!, , , 영화음악의, 거장, '엔리오...\n",
       "9         [내가, 죽을때까지, 이런, 명작은, 나오기, 힘들것, 같다.., 너무, 아름답고,...\n",
       "10        [내인생, 최고의, 영화!!, 아직까지, 이, 영화를, 봤을때의, 감동을, 잊을수,...\n",
       "11        [음악을, 들으면, 자동으로, 연상이, 되는, 정말, 최고의, 영화..감수성을, 자...\n",
       "12        [추억은, 방울방울, 추억을, 먹고, 사는, 나이가, 되니, 이, 영화가, 눈물나도...\n",
       "13        [이, 영화에서, 나의, 향수를, 느꼈다., 알베르토와, 토토가, 함께, 자전거를,...\n",
       "14                     [정말, 잘, 만든, 영화입니다., 몇, 번을, 봐도, 그대로.]\n",
       "15                            [나이를, 먹고, 보니, 또, 다른, 맛이, 난다.]\n",
       "16                 [영화, 자체에, 대한, 순수한, 꿈,, 꿈, 속에서, 자리하는, 영화]\n",
       "17                              [영화의, 영화에, 의한, 영화를, 의한, 명작]\n",
       "18        [3시간짜리, 감독판만, 봤다., 초반부는, 좋다.중반, 넘어가서는, 대체, 뭐하자...\n",
       "19        [워낙, 이름난, 작품이라, 봤는데,, 저는, 왠지, 별, 감흥이, 없네요., 나중...\n",
       "20                          [이걸, 보지, 않고, 영화를, 봤다고, 말하지, 말라]\n",
       "21        [이보다, 완벽한, 영화가, 또, 있을까?, 중2때, 배트맨을, 보러, 갔다가, 동...\n",
       "22                    [최고의, 영화를, 지금, 다시, 볼, 수, 있어서, 좋았습니다.]\n",
       "23                 [아름답고, 여운이, 남는,, 좋은, 영화1988년도의, 최고의, 명작]\n",
       "24                        [영화의, 처음과, 끝., 나의, 감성을, 일깨워준, 영화]\n",
       "25        [순수하게, 봤던, 극장판,, 순수하지, 못한, 감독판., 뉘앙스가, 달라진, 알프...\n",
       "26            [알프레도의, 아바다카다브라와, 토토가, 받은, 키스신장면은, 최고로, 아름답다]\n",
       "27                       [커서, 영화의, 관한, 직업을, 갖고싶다면, 꼭, 볼것!!]\n",
       "28        [이십대중반, 여자친구랑, 몇일, 전, 헤어지고, 혼자, 보고, 펑펑울며, 봤습니다...\n",
       "29              [성매매,스토킹,불륜..., 이런, 쓰레기, 영화가, 어떻게, 전체관람가냐?]\n",
       "                                ...                        \n",
       "712353    [심정은, 알겠는데..., 너무, 슬픔을, 강요하는게, 짜증난다., 또한, 중구난방...\n",
       "712354    [잔잔하면서도, 감동적인, 영화입니다.애인,사랑,, 결혼,자식,이별,죽음~블루그래스...\n",
       "712355                   [이겨낼, 수, 없는, 슬픔을, 사랑과, 음악으로, 견디는법]\n",
       "712356    [믿음을, 부서트리기, 위한, 악마의, 장치,, 브로큰, 써클., 욥기를, 다시금,...\n",
       "712357    [송효정이란, 사람은, 뭐지?, 5점을, 준다는게, 말이, 되나., 이, 영화는, ...\n",
       "712358                  [간만에, 볼만한, 영화라, 반가운, 마음이, 먼저, 드네요.]\n",
       "712359    [컨트리, 음악에, 실은, 사랑과, 생사의, 드라마., 신성모독은, 통쾌했으나, 삶...\n",
       "712360                               [근, 몇년사이에, 본것중, 최고였음.]\n",
       "712361    [몸에, 새겨도, 영원치, 않고,, 이름을, 바꾸어도, 변화되지, 않을, 때,, 현...\n",
       "712362    [원스이후, 최고의, 음악드라마를, 만났다., 10점을, 주어도, 아깝지, 않다.,...\n",
       "712363    [ㅡ저, 송효정이라는, 영화, 평론가, 처럼, 대충, 꼬리표, 식으로, 달고서, 5...\n",
       "712364                             [두말할, 것도, 없이, 최고의, 영화!!]\n",
       "712365           [맨날, 울고불고, 꼭, 누구, 하나, 죽고.., 뻔한, 구닥다리, 방화.]\n",
       "712366                  [인간의, 연약함과, 죄성을, 볼, 수, 있어서, 좋았습니다.]\n",
       "712367            [같은여자인데, 엘리제한테반햇어요, 노래도좋고.., 힐링되는영화였어요!!]\n",
       "712368             [엘리제의, 사랑스런, 눈빛에, 사로잡혀, 버렸다..., 어떻게해...]\n",
       "712369                            [이번, 겨울에, 꼭, 봐야할, 영화, 강추]\n",
       "712370                        [나도, 이렇게, 멋진, 사랑을, 하고, 싶다아아앙]\n",
       "712371                  [올, 가을, 영화로, 괜찮네요, 극장가서, 보고, 싶네요^^]\n",
       "712372                       [힐링이, 필요, 하다면, 꼭, 봐야, 할, 영화!!]\n",
       "712373                          [감동적인, 영화., 반드시, 보셔야, 합니다.]\n",
       "712374                            [눈물이, 눈물을, 닦아내는, 정말좋은영화.]\n",
       "712375                                    [삐료!, 정말화가난다!, !]\n",
       "712376                     [뭐야, 울동네, 왜개봉안해!!, 서울까지가야되?, OO]\n",
       "712377                       [이, 계절에, 맞는, 감성돋는, 영화네요~좋습니다~]\n",
       "712378    [아직까지, 여운이...., 우연히, 봤다가, 펑펑, 울었네요., 음악때문에, 감동...\n",
       "712379           [쓸쓸한, 가을, , 감성을, 채워주는, 영화네요.., 사랑하고시프다...]\n",
       "712380                     [단언컨대, 올, 가을, 최고의, 영화!!, 장담한다!!]\n",
       "712381          [기대없이, 봤다가, 너무너무, 반하게, 된, 영화!, 가을, 감성에, 딱!]\n",
       "712382    [나도, 모르게, 눈물이, 주륵주륵!, 가을, 감성, 영화!, 강추!!!!OST너무...\n",
       "Name: review, Length: 712383, dtype: object"
      ]
     },
     "execution_count": 92,
     "metadata": {},
     "output_type": "execute_result"
    }
   ],
   "source": [
    "df['review'].map(lambda x : x.split(' '))"
   ]
  },
  {
   "cell_type": "code",
   "execution_count": 94,
   "metadata": {},
   "outputs": [
    {
     "data": {
      "text/plain": [
       "0          감동입니다.. 말이 필요 없습니다 꼭 보세요그리고 상영관을 늘려 주심 감사하겠습니다^^\n",
       "1                                          쩌네요 장관이구요 걸경입니다.\n",
       "2         우리민족이 북한이 말하는 지상낙원이 아니라 생지옥, 생감옥에  지금 이시간에도 그곳...\n",
       "3              북한의 현실을 보여주는 영화입니다.. 정말 이런 영화가 많이 배급되어야 합니다!\n",
       "4         많이 울었습니다..화도나고 속상하고.. 북한의 현실을 나라꼭대기에 앉아있는 그분과 ...\n",
       "5                                          모든 국민이 다 봐야되는 영화\n",
       "6         북한의 실상에 대해 더 절실히 알게되는 영화였습니다. 귀한 영화 만들어 주셔서 감사...\n",
       "7         북한의 실상을 보여주는..가슴아픈 영화였습니다. 하루빨리 북한에도 진정한 자유가 주...\n",
       "8                                            이건 꼭 봐야할 영화입니다\n",
       "9         현실은 우리를 행동하게만드다..영화를 보는 내내 정말 현실이지않기를 바랬던 유일한 ...\n",
       "10                                       최고의영화 다들 꼭봐야할영화입니다\n",
       "11                                            진짜 꼭봐야될 영화입니다\n",
       "12        북한 신봉하는  놈들아 제발 정신좀 차리길 자본주의에서 누릴거 다 누려놓고 북한 빠...\n",
       "13                                 자유민주주의를 위하여, 북한의 인권을 위하여\n",
       "14         적어도 만명 돌파는 가야합니다. 상영관 멀어서 못가시는 분들은 좌파들처럼 영혼보냅시다.\n",
       "15                                          재인이가 이영화를 싫어합니다\n",
       "16        실화를 바탕으로 제작한 영화, 대한민국 국민 모두가 꼭 봐야할 영화입니다. 물론 미...\n",
       "17                                              독립영화 화이팅~~~\n",
       "18                        이렇게 훌륭한 영화가 국내에서 외면 받는 현실이 참 슬프네요\n",
       "19        인권의 대지로 건너가는 징검다리의 돌 하나같은 영화. 북한 인권에 대한 관심이 끊어...\n",
       "20                                   참  인생에   남을  명작  이었습니다\n",
       "21                                너~무 보고 싶은대... 상영관이 없어요 ㅠㅜ\n",
       "22                           가족을 향한 따뜻함이 오랫동안 여운이 남는 영화입니다.\n",
       "23        대한민국 국민은 다봐야할 영화다라는 생각이 드네요..김규민 감독님이 실제 탈북하신분...\n",
       "24          가짜조국 가짜 대통령이 있는 한 울나라는 북으로 갑니다.다시 자유대한민국을 만듭시다.\n",
       "25        지금 북한의 현실인데 북한을 사모하는 주사파정권에 경종을 울리는 인권영화 이번 추석...\n",
       "26                                             꼭 보세요 추천합니다ㅠ\n",
       "27        김소민 배우님 연기력에 대한 언급이 많아 기대하고 봤는데 역시나.. 너무 연기 잘하...\n",
       "28        북한인권을 위해 우리가 꼭 봐야할 우리 영화입니다!실화를 바탕으로 한 가족 영화라 ...\n",
       "29        온 가족이 함께 보고 왔네요.북한의 현 상황은 이 보다 더 하겠지요...자주 평화 ...\n",
       "                                ...                        \n",
       "341520                            영화도 좋지만, 책을 읽고 보면 감동이 두 배\n",
       "341521                                 관객적인 호응은 이끌어 낼만한 작품.\n",
       "341522                                   어른들을 위한 동화같은 이야기..\n",
       "341523             대단히 시각과 관점을 찾아낸 영화이나 약간은 그 자세 자체에 반감을 보내\n",
       "341524                뛰어난 연출과 명배우들의 연기! 중간중간 틈이 생기는 스토리가 흠!\n",
       "341525                   [그린마일]정말 정말 슬픈 영화... 눈시울이 붉어집니다...\n",
       "341526                            나 자신을 돌아보며 눈물 흘리게 하는 영화..\n",
       "341527                                   정말 감동스러운 영화 강추입니다.\n",
       "341528                              진짜 후회하지 않을만큼 감동적인 영화,,,\n",
       "341529                                  역시 톰행크스..좋은 영화입니다..\n",
       "341530              인위적인 감동뿐인 헐리웃 영화에..그린마일은 정말 白眉 입니다. 만점!\n",
       "341531                                        그린마일 참 감동스러워요\n",
       "341532                                           눈물이 흐릅니다..\n",
       "341533             감각적인액션에젖은이들에게는지루한,그러나그런이들에게도 감동을주는영화best\n",
       "341534                                                  절대선\n",
       "341535                                  최고 그냥 최고 그 자체 입니다..\n",
       "341536                 저역시 방금 이영화를 방금 보았습니다. 정말 추천하고싶은영화입니다\n",
       "341537                                        훌륭한 영화 그 자체네요\n",
       "341538                                  대작. 인생의 지침이 되어줄 영화.\n",
       "341539                                        이영화 보구 울었어요,,\n",
       "341540                        마지막사형할때의 톰행크스이 표정이 잊혀지지않을것같아요\n",
       "341541                             영화 매니아라면 꼭 한번은 봐야할 영화(!)\n",
       "341542                       방금 봤는데...도대체가... 이런 느낌은 처음입니다.\n",
       "341543                           뭐라고 말할수 없네요, 사랑하는 분에게 꼭...\n",
       "341544                                 모 채널에 서 하는거 봤는데 최꼰!!\n",
       "341545                           저도 방금 OCN에서 봤거든요... 감동 ㅠ_ㅠ\n",
       "341546                                 오랜만에 좋은 영화 본 것 같은 느낌\n",
       "341547                                    좋은 영화입니다.잘봤습니다..!\n",
       "341548                           역대 사형수들에 관한 영화 중 가장 재미있었다.\n",
       "341549                                          비처럼 젖어드는 감동\n",
       "Name: review, Length: 2532415, dtype: object"
      ]
     },
     "execution_count": 94,
     "metadata": {},
     "output_type": "execute_result"
    }
   ],
   "source": [
    "a['review']"
   ]
  }
 ],
 "metadata": {
  "kernelspec": {
   "display_name": "keras",
   "language": "python",
   "name": "keras"
  },
  "language_info": {
   "codemirror_mode": {
    "name": "ipython",
    "version": 3
   },
   "file_extension": ".py",
   "mimetype": "text/x-python",
   "name": "python",
   "nbconvert_exporter": "python",
   "pygments_lexer": "ipython3",
   "version": "3.6.8"
  }
 },
 "nbformat": 4,
 "nbformat_minor": 2
}
