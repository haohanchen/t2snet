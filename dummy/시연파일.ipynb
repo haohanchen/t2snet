{
 "cells": [
  {
   "cell_type": "code",
   "execution_count": 2,
   "metadata": {},
   "outputs": [],
   "source": [
    "import numpy as np\n",
    "import pandas as pd\n",
    "import matplotlib.pyplot as plt\n",
    "%matplotlib inline\n",
    "\n",
    "import json\n",
    "import os\n",
    "import pickle\n",
    "import sys\n",
    "\n",
    "from konlpy.tag import Kkma, Okt\n",
    "import gc\n",
    "\n",
    "import re\n",
    "from sklearn.feature_extraction.text import CountVectorizer\n",
    "\n",
    "from collections import defaultdict\n",
    "\n",
    "from ksenticnet_kaist import *\n",
    "\n",
    "ksenticnet = get_ksenticnet()\n",
    "\n",
    "keys = list(ksenticnet.keys())\n",
    "senticvals = [[float(i) for i in val[:4]] for val in  ksenticnet.values()]\n",
    "sentiments = []\n",
    "polarity = []\n",
    "semantics = []\n",
    "for key, val in ksenticnet.items():\n",
    "    for i in val[4:]:\n",
    "        if i in ['positive', 'negative']:\n",
    "            polar_ind = val.index(i)\n",
    "            sentiments.append(val[4 : polar_ind])\n",
    "            polarity.append(val[polar_ind : polar_ind+2])\n",
    "            semantics.append(val[polar_ind+2 :])\n",
    "            break\n",
    "\n",
    "ksenticnets = defaultdict(dict)\n",
    "for key, val, senti, p, seman in zip(keys, \n",
    "                                     senticvals, \n",
    "                                     sentiments, \n",
    "                                     polarity, \n",
    "                                     semantics):\n",
    "    ksenticnets[key]['sentic_value'] = val\n",
    "    ksenticnets[key]['sentiment'] = senti\n",
    "    ksenticnets[key]['polarity'] = p\n",
    "    ksenticnets[key]['semantic'] = seman\n",
    "\n",
    "f = lambda x : [i if i > 0 else 0 for i in x]\n",
    "g = lambda x : [abs(i) if i < 0 else 0 for i in x]\n",
    "scores = np.array(list(map(lambda x : f(x) + g(x), senticvals)))\n",
    "scores /= scores.sum(axis=1).reshape(-1, 1)\n",
    "\n",
    "class KSenticNet():\n",
    "    keys = {j : i for i, j in  enumerate(keys)}\n",
    "    scores = scores\n",
    "    \n",
    "MAX_VOCAB_SIZE = 50000\n",
    "\n",
    "def sampleFromDirichlet(alpha):\n",
    "    return np.random.dirichlet(alpha)\n",
    "\n",
    "def sampleFromCategorical(theta):\n",
    "    theta = theta / np.sum(theta)\n",
    "    return np.random.multinomial(1, theta).argmax()\n",
    "\n",
    "def word_indices(wordOccurenceVec):\n",
    "    for idx in wordOccurenceVec.nonzero()[0]:\n",
    "        for i in range(int(wordOccurenceVec[idx])):\n",
    "            yield idx\n",
    "            \n",
    "class KSenticNet():\n",
    "    keys = {j : i for i, j in  enumerate(keys)}\n",
    "    scores = scores\n",
    "    \n",
    "class SentimentLDAGibbsSampler:\n",
    "    \n",
    "    def __init__(self, numTopics, alpha, beta, gamma, numSentiments=2):\n",
    "        self.alpha = alpha\n",
    "        self.beta = beta\n",
    "        self.gamma = gamma\n",
    "        self.numTopics = numTopics\n",
    "        self.numSentiments = numSentiments\n",
    "        \n",
    "    def processSingleReview(self, review, st, d=None, stopwords=None):\n",
    "        letters_only = re.sub('[^ㄱ-하-ㅣ가-힣]', ' ', review).strip()\n",
    "        if not stopwords:\n",
    "            stops = list('의가이은을로들는좀잘걍과도를자에와한것') + ['으로', '하다']\n",
    "        else:\n",
    "            stops = stopwords\n",
    "        words = st.morphs(letters_only, stem=True, norm=True)\n",
    "        meaningful_words = [w for w in words if w not in stops]\n",
    "        return ' '.join(meaningful_words)\n",
    "    \n",
    "    def processReviews(self, reviews, st, saveAs=None, saveOverride=False, \n",
    "                       do_preprocess=True, return_processed_review=False):\n",
    "        import os\n",
    "        import dill\n",
    "        if not saveOverride and saveAs and os.path.isfile(saveAs):\n",
    "            [wordOccurenceMatrix, self.vectorizer] = dill.load(open(saveAs, 'r'))\n",
    "            return wordOccurenceMatrix\n",
    "        if do_preprocess:\n",
    "            processed_reviews = []\n",
    "            for i, review in enumerate(reviews):\n",
    "                if (i + 1) % 10000 == 0:\n",
    "                    print(' Review {} of {}'.format(i + 1, len(reviews)))\n",
    "                processed_reviews.append(self.processSingleReview(review, st, i))\n",
    "        else:\n",
    "            processed_reviews = reviews\n",
    "        if return_processed_review:\n",
    "            return processed_reviews\n",
    "        self.vectorizer = CountVectorizer(analyzer='word',\n",
    "                                          tokenizer=None,\n",
    "                                          preprocessor=None,\n",
    "                                          max_features=MAX_VOCAB_SIZE)\n",
    "        train_data_features = self.vectorizer.fit_transform(processed_reviews)\n",
    "        wordOccurenceMatrix = train_data_features\n",
    "        if saveAs:\n",
    "            dill.dump([wordOccurenceMatrix, self.vectorizer], open(saveAs, 'w'))\n",
    "        return wordOccurenceMatrix\n",
    "    \n",
    "    def _initialize_(self, reviews, st, saveAs=None, saveOverride=False, do_preprocess=True):\n",
    "        self.wordOccurenceMatrix = self.processReviews(reviews, st, saveAs, saveOverride, do_preprocess)\n",
    "        numDocs, vocabSize = self.wordOccurenceMatrix.shape\n",
    "        \n",
    "        # Pseudocounts\n",
    "        self.n_dt = np.zeros((numDocs, self.numTopics))\n",
    "        self.n_dts = np.zeros((numDocs, self.numTopics, self.numSentiments))\n",
    "        self.n_d = np.zeros((numDocs))\n",
    "        self.n_vts = np.zeros((vocabSize, self.numTopics, self.numSentiments))\n",
    "        self.n_ts = np.zeros((self.numTopics, self.numSentiments))\n",
    "        self.topics = {}\n",
    "        self.sentiments = {}\n",
    "        self.priorSentiment = {}\n",
    "        \n",
    "        alphaVec = self.alpha * np.ones(self.numTopics)\n",
    "        gammaVec = self.gamma * np.ones(self.numSentiments)\n",
    "        \n",
    "        print('--* KSenticNet으로 사전 확률 조작 중... *--')\n",
    "        # 감정 사전 (KSenticNEt)을 사용하여 사전 확률을 조작 중.\n",
    "        for i, word in enumerate(self.vectorizer.get_feature_names()):\n",
    "            w = KSenticNet.keys.get(word)\n",
    "            if not w: continue\n",
    "            synsets = KSenticNet.scores[w, :]\n",
    "            self.priorSentiment[i] = np.random.choice(self.numSentiments, p=synsets)\n",
    "        \n",
    "        print('--* initialize 작업 진행 중... *--')\n",
    "        for d in range(numDocs):\n",
    "            if d % 5000 == 0: print(' Doc {} of {} Reviews'.format(d, numDocs))\n",
    "            topicDistribution = sampleFromDirichlet(alphaVec)\n",
    "            sentimentDistribution = np.zeros((self.numTopics, self.numSentiments))\n",
    "            for t in range(self.numTopics):\n",
    "                sentimentDistribution[t, :] = sampleFromDirichlet(gammaVec)\n",
    "            for i, w in enumerate(word_indices(self.wordOccurenceMatrix[d, :].toarray()[0])):\n",
    "                t = sampleFromCategorical(topicDistribution)\n",
    "                s = sampleFromCategorical(sentimentDistribution[t, :])\n",
    "                \n",
    "                self.topics[(d, i)] = t\n",
    "                self.sentiments[(d, i)] = s\n",
    "                self.n_dt[d, t] += 1\n",
    "                self.n_dts[d, t, s] += 1\n",
    "                self.n_d[d] += 1\n",
    "                self.n_vts[w, t, s] += 1\n",
    "                self.n_ts[t, s] += 1\n",
    "                \n",
    "    def conditionalDistribution(self, d, v):\n",
    "        probabilites_ts = np.ones((self.numTopics, self.numSentiments))\n",
    "        firstFactor = (self.n_dt[d] + self.alpha) / \\\n",
    "                (self.n_d[d] + self.numTopics * self.alpha)\n",
    "        secondFactor = (self.n_dts[d, :, :] + self.gamma) / \\\n",
    "                (self.n_dt[d, :] + self.numSentiments * self.gamma)[:, np.newaxis]\n",
    "        thirdFactor = (self.n_vts[v, :, :] + self.beta) / \\\n",
    "                (self.n_ts + self.n_vts.shape[0] * self.beta)\n",
    "        probabilites_ts *= firstFactor[:, np.newaxis]\n",
    "        probabilites_ts *= secondFactor * thirdFactor\n",
    "        probabilites_ts /= np.sum(probabilites_ts)\n",
    "        return probabilites_ts\n",
    "                \n",
    "    def run(self, reviews, st, maxIters=30, saveAs=None, saveOverride=False, do_preprocess=True):\n",
    "        self._initialize_(reviews, st, saveAs, saveOverride, do_preprocess)\n",
    "        numDocs, vocabSize = self.wordOccurenceMatrix.shape\n",
    "        for iteration in range(maxIters):\n",
    "            gc.collect()\n",
    "            print('Starting iteration {} of {}'.format(iteration + 1, maxIters))\n",
    "            for d in range(numDocs):\n",
    "                for i, v in enumerate(word_indices(self.wordOccurenceMatrix[d, :].toarray()[0])):\n",
    "                    t = self.topics[(d, i)]\n",
    "                    s = self.sentiments[(d, i)]\n",
    "                    self.n_dt[d, t] -= 1\n",
    "                    self.n_d[d] -= 1\n",
    "                    self.n_dts[d, t, s] -= 1\n",
    "                    self.n_vts[v, t, s] -= 1\n",
    "                    self.n_ts[t, s] -= 1\n",
    "                    \n",
    "                    probabilites_ts = self.conditionalDistribution(d, v)\n",
    "                    if v in self.priorSentiment:\n",
    "                        s = self.priorSentiment[v]\n",
    "                        t = sampleFromCategorical(probabilites_ts[:, s])\n",
    "                    else:\n",
    "                        ind = sampleFromCategorical(probabilites_ts.flatten())\n",
    "                        t, s = np.unravel_index(ind, probabilites_ts.shape)\n",
    "                    \n",
    "                    self.topics[(d, i)] = t\n",
    "                    self.sentiments[(d, i)] = s\n",
    "                    self.n_dt[d, t] += 1\n",
    "                    self.n_d[d] += 1\n",
    "                    self.n_dts[d, t, s] += 1\n",
    "                    self.n_vts[v, t, s] += 1\n",
    "                    self.n_ts[t, s] += 1\n",
    "        print('Done.')"
   ]
  },
  {
   "cell_type": "code",
   "execution_count": 3,
   "metadata": {},
   "outputs": [],
   "source": [
    "# 데이터 호출 (spacing 전처리 수행 o)\n",
    "df2 = pd.read_csv('spacing_nsmc_data.csv')"
   ]
  },
  {
   "cell_type": "code",
   "execution_count": 4,
   "metadata": {},
   "outputs": [],
   "source": [
    "# 감정 분류 호출\n",
    "with open('1st_jst_result.pkl', 'rb') as f:\n",
    "    JST = pickle.load(f)"
   ]
  },
  {
   "cell_type": "code",
   "execution_count": 5,
   "metadata": {},
   "outputs": [],
   "source": [
    "res = defaultdict(list)\n",
    "for i, j in JST.sentiments.items():\n",
    "    res[i[0]].append(j)\n",
    "\n",
    "from collections import Counter\n",
    "res = {i : Counter(j) for i, j in res.items()}\n",
    "\n",
    "i2senti = {0 : 'joy', 1 : 'interest', 2 : 'anger', 3 : 'admiration',\n",
    "           4 : 'sadness', 5 : 'surprise', 6 : 'fear', 7 : 'disgust'}"
   ]
  },
  {
   "cell_type": "code",
   "execution_count": 6,
   "metadata": {},
   "outputs": [],
   "source": [
    "senti_label_each_review = [[] for _ in range(len(df2))]\n",
    "for i in range(len(df2)):\n",
    "    if res.get(i):\n",
    "        for j in res.get(i).most_common(2):\n",
    "            senti_label_each_review[i].append(i2senti[j[0]])\n",
    "    else:\n",
    "        senti_label_each_review[i].append(['neutral'])"
   ]
  },
  {
   "cell_type": "code",
   "execution_count": 7,
   "metadata": {},
   "outputs": [],
   "source": [
    "X_train = df2['review'].copy()\n",
    "y_train = senti_label_each_review"
   ]
  },
  {
   "cell_type": "code",
   "execution_count": 8,
   "metadata": {},
   "outputs": [
    {
     "name": "stderr",
     "output_type": "stream",
     "text": [
      "C:\\ProgramData\\Anaconda3\\envs\\keras\\lib\\site-packages\\jpype\\_core.py:210: UserWarning: \n",
      "-------------------------------------------------------------------------------\n",
      "Deprecated: convertStrings was not specified when starting the JVM. The default\n",
      "behavior in JPype will be False starting in JPype 0.8. The recommended setting\n",
      "for new code is convertStrings=False.  The legacy value of True was assumed for\n",
      "this session. If you are a user of an application that reported this warning,\n",
      "please file a ticket with the developer.\n",
      "-------------------------------------------------------------------------------\n",
      "\n",
      "  \"\"\")\n"
     ]
    }
   ],
   "source": [
    "from konlpy.tag import Okt\n",
    "okt = Okt()\n",
    "def tokenizer_morphs(doc):\n",
    "    return okt.morphs(doc)"
   ]
  },
  {
   "cell_type": "code",
   "execution_count": 9,
   "metadata": {},
   "outputs": [],
   "source": [
    "from sklearn.feature_extraction.text import TfidfVectorizer\n",
    "from sklearn.naive_bayes import MultinomialNB\n",
    "from sklearn.linear_model import SGDClassifier\n",
    "from sklearn.pipeline import Pipeline\n",
    "from sklearn.metrics import accuracy_score"
   ]
  },
  {
   "cell_type": "code",
   "execution_count": 9,
   "metadata": {},
   "outputs": [],
   "source": [
    "X_train2 = np.array(X_train.values)\n",
    "y_train2 = np.array([i[0] for i in y_train])\n",
    "\n",
    "y_label = np.zeros((len(y_train), len(i2senti.values())))\n",
    "senti2i = {j : i for i, j in i2senti.items()}\n",
    "for ix, contents in enumerate(y_train):\n",
    "    for j in contents:\n",
    "        if j == ['neutral']:\n",
    "            continue\n",
    "        if y_label[ix, senti2i[j]] == 0:\n",
    "            y_label[ix, senti2i[j]] += 1"
   ]
  },
  {
   "cell_type": "code",
   "execution_count": 10,
   "metadata": {},
   "outputs": [
    {
     "ename": "NameError",
     "evalue": "name 'y_label' is not defined",
     "output_type": "error",
     "traceback": [
      "\u001b[1;31m---------------------------------------------------------------------------\u001b[0m",
      "\u001b[1;31mNameError\u001b[0m                                 Traceback (most recent call last)",
      "\u001b[1;32m<ipython-input-10-468892b67162>\u001b[0m in \u001b[0;36m<module>\u001b[1;34m\u001b[0m\n\u001b[1;32m----> 1\u001b[1;33m \u001b[0mind\u001b[0m \u001b[1;33m=\u001b[0m \u001b[0mnp\u001b[0m\u001b[1;33m.\u001b[0m\u001b[0mwhere\u001b[0m\u001b[1;33m(\u001b[0m\u001b[0my_label\u001b[0m\u001b[1;33m.\u001b[0m\u001b[0msum\u001b[0m\u001b[1;33m(\u001b[0m\u001b[0maxis\u001b[0m\u001b[1;33m=\u001b[0m\u001b[1;36m1\u001b[0m\u001b[1;33m)\u001b[0m \u001b[1;33m!=\u001b[0m \u001b[1;36m0\u001b[0m\u001b[1;33m)\u001b[0m\u001b[1;33m\u001b[0m\u001b[1;33m\u001b[0m\u001b[0m\n\u001b[0m",
      "\u001b[1;31mNameError\u001b[0m: name 'y_label' is not defined"
     ]
    }
   ],
   "source": [
    "ind = np.where(y_label.sum(axis=1) != 0)"
   ]
  },
  {
   "cell_type": "code",
   "execution_count": null,
   "metadata": {},
   "outputs": [],
   "source": [
    "X_train2 = X_train2[ind]\n",
    "y_label = y_label[ind]\n",
    "y_train2 = y_train2[ind]"
   ]
  },
  {
   "cell_type": "code",
   "execution_count": 12,
   "metadata": {},
   "outputs": [],
   "source": [
    "tfidf = TfidfVectorizer(tokenizer=tokenizer_morphs, max_features=50000)"
   ]
  },
  {
   "cell_type": "code",
   "execution_count": 13,
   "metadata": {},
   "outputs": [
    {
     "name": "stdout",
     "output_type": "stream",
     "text": [
      "Wall time: 18min 4s\n"
     ]
    }
   ],
   "source": [
    "%time tfidf_x_train2 = tfidf.fit_transform(X_train2[:500000])"
   ]
  },
  {
   "cell_type": "code",
   "execution_count": 14,
   "metadata": {},
   "outputs": [],
   "source": [
    "multi_nbc = MultinomialNB()"
   ]
  },
  {
   "cell_type": "code",
   "execution_count": 15,
   "metadata": {},
   "outputs": [],
   "source": [
    "y_train2 = list(map(lambda x : senti2i[x], y_train2[:500000]))"
   ]
  },
  {
   "cell_type": "code",
   "execution_count": 16,
   "metadata": {},
   "outputs": [
    {
     "data": {
      "text/plain": [
       "MultinomialNB(alpha=1.0, class_prior=None, fit_prior=True)"
      ]
     },
     "execution_count": 16,
     "metadata": {},
     "output_type": "execute_result"
    }
   ],
   "source": [
    "multi_nbc.fit(tfidf_x_train2, y_train2)"
   ]
  },
  {
   "cell_type": "code",
   "execution_count": 43,
   "metadata": {},
   "outputs": [],
   "source": [
    "import pickle\n",
    "with open('tfidf_20191112.pkl', 'wb') as f:\n",
    "    pickle.dump(tfidf, f, protocol=pickle.HIGHEST_PROTOCOL)"
   ]
  },
  {
   "cell_type": "code",
   "execution_count": 17,
   "metadata": {},
   "outputs": [],
   "source": [
    "import pickle\n",
    "with open('gnb_clf_tfidf_20191112.pkl', 'wb') as f:\n",
    "    pickle.dump(multi_nbc, f, protocol=pickle.HIGHEST_PROTOCOL)"
   ]
  },
  {
   "cell_type": "code",
   "execution_count": 18,
   "metadata": {},
   "outputs": [],
   "source": [
    "import seaborn as sns\n",
    "sns.set_style('whitegrid')"
   ]
  },
  {
   "cell_type": "code",
   "execution_count": 34,
   "metadata": {},
   "outputs": [],
   "source": [
    "def plot_res(text, o=True, cmap='Spectral'):\n",
    "    if o:\n",
    "        t = tfidf.transform([spacer.space(re.sub('[ㄱ-ㅎㅏ-ㅣ가힣]', ' ', text))])\n",
    "    else:\n",
    "        t = tfidf.transform([text])\n",
    "    d = multi_nbc.predict_proba(t)\n",
    "    print('\\nProbability Distribution:\\n', d[0])\n",
    "    print('\\n{}'.format(i2senti[d[0].argmax()].upper()))\n",
    "    data_color = d[0][np.argsort(d[0])]\n",
    "    my_cmap = plt.cm.get_cmap(cmap)\n",
    "    colors = my_cmap(data_color)\n",
    "\n",
    "    plt.barh(np.arange(8), d[0][np.argsort(d[0])], color=colors, edgecolor='k')\n",
    "    plt.yticks(np.arange(8), np.array(['Joy', 'Interest', 'Anger', 'Admiration', 'Sadness', 'Surprise', 'Fear', 'Disgust'])[np.argsort(d[0])])\n",
    "    plt.show()"
   ]
  },
  {
   "cell_type": "code",
   "execution_count": 28,
   "metadata": {},
   "outputs": [
    {
     "name": "stdout",
     "output_type": "stream",
     "text": [
      "Loading JIT Compiled ChatSpace Model\n"
     ]
    }
   ],
   "source": [
    "from chatspace import ChatSpace\n",
    "\n",
    "spacer = ChatSpace()"
   ]
  },
  {
   "cell_type": "markdown",
   "metadata": {},
   "source": [
    "# 시연"
   ]
  },
  {
   "cell_type": "code",
   "execution_count": 41,
   "metadata": {},
   "outputs": [
    {
     "name": "stdout",
     "output_type": "stream",
     "text": [
      "너무나 아름답고 쓸쓸한 영화... 나도 외롭다 ㅡ흑. 보는 내내 취한 듯이 보고 있었다\n",
      "\n",
      "Probability Distribution:\n",
      " [0.35707631 0.16408131 0.02981376 0.18278722 0.09335791 0.0121649\n",
      " 0.13365995 0.02705866]\n",
      "\n",
      "JOY\n"
     ]
    },
    {
     "data": {
      "image/png": "[encoded data removed]",
      "text/plain": [
       "<Figure size 432x288 with 1 Axes>"
      ]
     },
     "metadata": {},
     "output_type": "display_data"
    }
   ],
   "source": [
    "text = input()\n",
    "plot_res(text, o=True)"
   ]
  },
  {
   "cell_type": "code",
   "execution_count": 42,
   "metadata": {},
   "outputs": [
    {
     "name": "stdout",
     "output_type": "stream",
     "text": [
      "아 왜이리 사기치는 기분같지...\n",
      "\n",
      "Probability Distribution:\n",
      " [0.11308088 0.07300512 0.10584828 0.06074024 0.13585548 0.16245848\n",
      " 0.27614576 0.07286576]\n",
      "\n",
      "FEAR\n"
     ]
    },
    {
     "data": {
      "image/png": "[encoded data removed]",
      "text/plain": [
       "<Figure size 432x288 with 1 Axes>"
      ]
     },
     "metadata": {},
     "output_type": "display_data"
    }
   ],
   "source": [
    "text = input()\n",
    "plot_res(text, o=True)"
   ]
  }
 ],
 "metadata": {
  "kernelspec": {
   "display_name": "keras",
   "language": "python",
   "name": "keras"
  },
  "language_info": {
   "codemirror_mode": {
    "name": "ipython",
    "version": 3
   },
   "file_extension": ".py",
   "mimetype": "text/x-python",
   "name": "python",
   "nbconvert_exporter": "python",
   "pygments_lexer": "ipython3",
   "version": "3.6.8"
  }
 },
 "nbformat": 4,
 "nbformat_minor": 2
}
