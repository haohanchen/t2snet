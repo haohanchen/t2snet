{
 "cells": [
  {
   "cell_type": "markdown",
   "metadata": {},
   "source": [
    "# 호현아 부탁한다 이거 굉장히 오래걸릴거야\n",
    "- 1,000개당 1분 20초 정도 걸림\n",
    "- 그걸 254만개에 수행해야 함\n",
    "- 부탁함"
   ]
  },
  {
   "cell_type": "code",
   "execution_count": null,
   "metadata": {},
   "outputs": [],
   "source": [
    "# https://frhyme.github.io/python-lib/pipeline_in_python/\n",
    "\n",
    "import re\n",
    "from chatspace import ChatSpace # Requirements;\n",
    "                                # https://lsjsj92.tistory.com/494\n",
    "                                # conda install pytorch torchvision cudatoolkit=9.0 -c python\n",
    "                                # pip install chatspace\n",
    "from konlpy.tag import Okt\n",
    "import functools\n",
    "spacer = ChatSpace()\n",
    "okt = Okt()\n",
    "\n",
    "stopwords = list('의가이은을로들는좀잘걍과도를자에그와한것다') + ['으로', '하다', '에서', '이다']\n",
    "\n",
    "def composeFuncs(func1, func2):\n",
    "    return lambda x : func2(func1(x))\n",
    "\n",
    "pipes = [lambda x : re.sub('[^ㄱ-ㅎㅏ-ㅣ가-힣]', ' ', x),\n",
    "         lambda x : spallcheck(x).checked,\n",
    "         lambda x : x.replace(' ', ''),\n",
    "         lambda x : spacer.space(x),\n",
    "         lambda x : okt.morphs(x, stem=True, norm=True),\n",
    "#          lambda x : mecab.morphs(''.join(x)),\n",
    "         lambda x : [s for s in x if s not in stopwords]]\n",
    "\n",
    "preprocessText = functools.reduce(composeFuncs, pipes)"
   ]
  },
  {
   "cell_type": "code",
   "execution_count": null,
   "metadata": {},
   "outputs": [],
   "source": [
    "reviews5over = pd.read_csv('reviews5over.csv')"
   ]
  },
  {
   "cell_type": "code",
   "execution_count": null,
   "metadata": {},
   "outputs": [],
   "source": [
    "reviews5over.head()"
   ]
  },
  {
   "cell_type": "code",
   "execution_count": null,
   "metadata": {},
   "outputs": [],
   "source": [
    "reviews5over.size"
   ]
  },
  {
   "cell_type": "code",
   "execution_count": null,
   "metadata": {},
   "outputs": [],
   "source": [
    "import pickle\n",
    "import time\n",
    "res = []\n",
    "start, semi_start = time.time(), time.time()\n",
    "for ix, text in enumerate(reviews5over['reviews'].values):\n",
    "    # 1,000개마다 결과 출력\n",
    "    if ix % 1000 == 0:\n",
    "        if time.time() - start >= 60:\n",
    "            a = (time.time() - start) / 3600\n",
    "            b = 'hours'\n",
    "        else:\n",
    "            a = (time.time() - start) / 60\n",
    "            b = 'mins'\n",
    "        print(ix, '\\t\\tcollapse {:.2f} mins\\t\\tcumulative time is {:.2f} {:s}'.format(\n",
    "            (time.time() - semi_start) / 60, a, b)\n",
    "        semi_start = time.time()\n",
    "    res.append(preprocessText(text))\n",
    "    # 100,000개마다 결과 저장\n",
    "    if ix % 100000 == 0:\n",
    "        with open('preprocessReview_{}'.format(ix), 'wb') as f:\n",
    "            pickle.dump(res, f, protocol=pickle.HIGHEST_PROTOCOL)\n",
    "        res = []"
   ]
  }
 ],
 "metadata": {
  "kernelspec": {
   "display_name": "keras",
   "language": "python",
   "name": "keras"
  },
  "language_info": {
   "codemirror_mode": {
    "name": "ipython",
    "version": 3
   },
   "file_extension": ".py",
   "mimetype": "text/x-python",
   "name": "python",
   "nbconvert_exporter": "python",
   "pygments_lexer": "ipython3",
   "version": "3.6.8"
  }
 },
 "nbformat": 4,
 "nbformat_minor": 2
}
