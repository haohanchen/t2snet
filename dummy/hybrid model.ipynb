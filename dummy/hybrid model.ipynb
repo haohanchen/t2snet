{
 "cells": [
  {
   "cell_type": "code",
   "execution_count": 1,
   "metadata": {},
   "outputs": [],
   "source": [
    "import numpy as np\n",
    "import pandas as pd\n",
    "import matplotlib.pyplot as plt\n",
    "%matplotlib inline\n",
    "\n",
    "import json\n",
    "import os\n",
    "import pickle\n",
    "import sys\n",
    "\n",
    "from konlpy.tag import Kkma, Okt\n",
    "import gc\n",
    "\n",
    "import re\n",
    "from sklearn.feature_extraction.text import CountVectorizer\n",
    "\n",
    "from collections import defaultdict\n",
    "\n",
    "from ksenticnet_kaist import *\n",
    "\n",
    "ksenticnet = get_ksenticnet()\n",
    "\n",
    "keys = list(ksenticnet.keys())\n",
    "senticvals = [[float(i) for i in val[:4]] for val in  ksenticnet.values()]\n",
    "sentiments = []\n",
    "polarity = []\n",
    "semantics = []\n",
    "for key, val in ksenticnet.items():\n",
    "    for i in val[4:]:\n",
    "        if i in ['positive', 'negative']:\n",
    "            polar_ind = val.index(i)\n",
    "            sentiments.append(val[4 : polar_ind])\n",
    "            polarity.append(val[polar_ind : polar_ind+2])\n",
    "            semantics.append(val[polar_ind+2 :])\n",
    "            break\n",
    "\n",
    "ksenticnets = defaultdict(dict)\n",
    "for key, val, senti, p, seman in zip(keys, \n",
    "                                     senticvals, \n",
    "                                     sentiments, \n",
    "                                     polarity, \n",
    "                                     semantics):\n",
    "    ksenticnets[key]['sentic_value'] = val\n",
    "    ksenticnets[key]['sentiment'] = senti\n",
    "    ksenticnets[key]['polarity'] = p\n",
    "    ksenticnets[key]['semantic'] = seman\n",
    "\n",
    "f = lambda x : [i if i > 0 else 0 for i in x]\n",
    "g = lambda x : [abs(i) if i < 0 else 0 for i in x]\n",
    "scores = np.array(list(map(lambda x : f(x) + g(x), senticvals)))\n",
    "scores /= scores.sum(axis=1).reshape(-1, 1)\n",
    "\n",
    "class KSenticNet():\n",
    "    keys = {j : i for i, j in  enumerate(keys)}\n",
    "    scores = scores\n",
    "    \n",
    "MAX_VOCAB_SIZE = 50000\n",
    "\n",
    "def sampleFromDirichlet(alpha):\n",
    "    return np.random.dirichlet(alpha)\n",
    "\n",
    "def sampleFromCategorical(theta):\n",
    "    theta = theta / np.sum(theta)\n",
    "    return np.random.multinomial(1, theta).argmax()\n",
    "\n",
    "def word_indices(wordOccurenceVec):\n",
    "    for idx in wordOccurenceVec.nonzero()[0]:\n",
    "        for i in range(int(wordOccurenceVec[idx])):\n",
    "            yield idx\n",
    "            \n",
    "class KSenticNet():\n",
    "    keys = {j : i for i, j in  enumerate(keys)}\n",
    "    scores = scores\n",
    "    \n",
    "class SentimentLDAGibbsSampler:\n",
    "    \n",
    "    def __init__(self, numTopics, alpha, beta, gamma, numSentiments=2):\n",
    "        self.alpha = alpha\n",
    "        self.beta = beta\n",
    "        self.gamma = gamma\n",
    "        self.numTopics = numTopics\n",
    "        self.numSentiments = numSentiments\n",
    "        \n",
    "    def processSingleReview(self, review, st, d=None, stopwords=None):\n",
    "        letters_only = re.sub('[^ㄱ-하-ㅣ가-힣]', ' ', review).strip()\n",
    "        if not stopwords:\n",
    "            stops = list('의가이은을로들는좀잘걍과도를자에와한것') + ['으로', '하다']\n",
    "        else:\n",
    "            stops = stopwords\n",
    "        words = st.morphs(letters_only, stem=True, norm=True)\n",
    "        meaningful_words = [w for w in words if w not in stops]\n",
    "        return ' '.join(meaningful_words)\n",
    "    \n",
    "    def processReviews(self, reviews, st, saveAs=None, saveOverride=False, \n",
    "                       do_preprocess=True, return_processed_review=False):\n",
    "        import os\n",
    "        import dill\n",
    "        if not saveOverride and saveAs and os.path.isfile(saveAs):\n",
    "            [wordOccurenceMatrix, self.vectorizer] = dill.load(open(saveAs, 'r'))\n",
    "            return wordOccurenceMatrix\n",
    "        if do_preprocess:\n",
    "            processed_reviews = []\n",
    "            for i, review in enumerate(reviews):\n",
    "                if (i + 1) % 10000 == 0:\n",
    "                    print(' Review {} of {}'.format(i + 1, len(reviews)))\n",
    "                processed_reviews.append(self.processSingleReview(review, st, i))\n",
    "        else:\n",
    "            processed_reviews = reviews\n",
    "        if return_processed_review:\n",
    "            return processed_reviews\n",
    "        self.vectorizer = CountVectorizer(analyzer='word',\n",
    "                                          tokenizer=None,\n",
    "                                          preprocessor=None,\n",
    "                                          max_features=MAX_VOCAB_SIZE)\n",
    "        train_data_features = self.vectorizer.fit_transform(processed_reviews)\n",
    "        wordOccurenceMatrix = train_data_features\n",
    "        if saveAs:\n",
    "            dill.dump([wordOccurenceMatrix, self.vectorizer], open(saveAs, 'w'))\n",
    "        return wordOccurenceMatrix\n",
    "    \n",
    "    def _initialize_(self, reviews, st, saveAs=None, saveOverride=False, do_preprocess=True):\n",
    "        self.wordOccurenceMatrix = self.processReviews(reviews, st, saveAs, saveOverride, do_preprocess)\n",
    "        numDocs, vocabSize = self.wordOccurenceMatrix.shape\n",
    "        \n",
    "        # Pseudocounts\n",
    "        self.n_dt = np.zeros((numDocs, self.numTopics))\n",
    "        self.n_dts = np.zeros((numDocs, self.numTopics, self.numSentiments))\n",
    "        self.n_d = np.zeros((numDocs))\n",
    "        self.n_vts = np.zeros((vocabSize, self.numTopics, self.numSentiments))\n",
    "        self.n_ts = np.zeros((self.numTopics, self.numSentiments))\n",
    "        self.topics = {}\n",
    "        self.sentiments = {}\n",
    "        self.priorSentiment = {}\n",
    "        \n",
    "        alphaVec = self.alpha * np.ones(self.numTopics)\n",
    "        gammaVec = self.gamma * np.ones(self.numSentiments)\n",
    "        \n",
    "        print('--* KSenticNet으로 사전 확률 조작 중... *--')\n",
    "        # 감정 사전 (KSenticNEt)을 사용하여 사전 확률을 조작 중.\n",
    "        for i, word in enumerate(self.vectorizer.get_feature_names()):\n",
    "            w = KSenticNet.keys.get(word)\n",
    "            if not w: continue\n",
    "            synsets = KSenticNet.scores[w, :]\n",
    "            self.priorSentiment[i] = np.random.choice(self.numSentiments, p=synsets)\n",
    "        \n",
    "        print('--* initialize 작업 진행 중... *--')\n",
    "        for d in range(numDocs):\n",
    "            if d % 5000 == 0: print(' Doc {} of {} Reviews'.format(d, numDocs))\n",
    "            topicDistribution = sampleFromDirichlet(alphaVec)\n",
    "            sentimentDistribution = np.zeros((self.numTopics, self.numSentiments))\n",
    "            for t in range(self.numTopics):\n",
    "                sentimentDistribution[t, :] = sampleFromDirichlet(gammaVec)\n",
    "            for i, w in enumerate(word_indices(self.wordOccurenceMatrix[d, :].toarray()[0])):\n",
    "                t = sampleFromCategorical(topicDistribution)\n",
    "                s = sampleFromCategorical(sentimentDistribution[t, :])\n",
    "                \n",
    "                self.topics[(d, i)] = t\n",
    "                self.sentiments[(d, i)] = s\n",
    "                self.n_dt[d, t] += 1\n",
    "                self.n_dts[d, t, s] += 1\n",
    "                self.n_d[d] += 1\n",
    "                self.n_vts[w, t, s] += 1\n",
    "                self.n_ts[t, s] += 1\n",
    "                \n",
    "    def conditionalDistribution(self, d, v):\n",
    "        probabilites_ts = np.ones((self.numTopics, self.numSentiments))\n",
    "        firstFactor = (self.n_dt[d] + self.alpha) / \\\n",
    "                (self.n_d[d] + self.numTopics * self.alpha)\n",
    "        secondFactor = (self.n_dts[d, :, :] + self.gamma) / \\\n",
    "                (self.n_dt[d, :] + self.numSentiments * self.gamma)[:, np.newaxis]\n",
    "        thirdFactor = (self.n_vts[v, :, :] + self.beta) / \\\n",
    "                (self.n_ts + self.n_vts.shape[0] * self.beta)\n",
    "        probabilites_ts *= firstFactor[:, np.newaxis]\n",
    "        probabilites_ts *= secondFactor * thirdFactor\n",
    "        probabilites_ts /= np.sum(probabilites_ts)\n",
    "        return probabilites_ts\n",
    "                \n",
    "    def run(self, reviews, st, maxIters=30, saveAs=None, saveOverride=False, do_preprocess=True):\n",
    "        self._initialize_(reviews, st, saveAs, saveOverride, do_preprocess)\n",
    "        numDocs, vocabSize = self.wordOccurenceMatrix.shape\n",
    "        for iteration in range(maxIters):\n",
    "            gc.collect()\n",
    "            print('Starting iteration {} of {}'.format(iteration + 1, maxIters))\n",
    "            for d in range(numDocs):\n",
    "                for i, v in enumerate(word_indices(self.wordOccurenceMatrix[d, :].toarray()[0])):\n",
    "                    t = self.topics[(d, i)]\n",
    "                    s = self.sentiments[(d, i)]\n",
    "                    self.n_dt[d, t] -= 1\n",
    "                    self.n_d[d] -= 1\n",
    "                    self.n_dts[d, t, s] -= 1\n",
    "                    self.n_vts[v, t, s] -= 1\n",
    "                    self.n_ts[t, s] -= 1\n",
    "                    \n",
    "                    probabilites_ts = self.conditionalDistribution(d, v)\n",
    "                    if v in self.priorSentiment:\n",
    "                        s = self.priorSentiment[v]\n",
    "                        t = sampleFromCategorical(probabilites_ts[:, s])\n",
    "                    else:\n",
    "                        ind = sampleFromCategorical(probabilites_ts.flatten())\n",
    "                        t, s = np.unravel_index(ind, probabilites_ts.shape)\n",
    "                    \n",
    "                    self.topics[(d, i)] = t\n",
    "                    self.sentiments[(d, i)] = s\n",
    "                    self.n_dt[d, t] += 1\n",
    "                    self.n_d[d] += 1\n",
    "                    self.n_dts[d, t, s] += 1\n",
    "                    self.n_vts[v, t, s] += 1\n",
    "                    self.n_ts[t, s] += 1\n",
    "        print('Done.')"
   ]
  },
  {
   "cell_type": "code",
   "execution_count": 2,
   "metadata": {},
   "outputs": [],
   "source": [
    "# 데이터 호출 (spacing 전처리 수행 o)\n",
    "df2 = pd.read_csv('spacing_nsmc_data.csv')"
   ]
  },
  {
   "cell_type": "code",
   "execution_count": 3,
   "metadata": {},
   "outputs": [],
   "source": [
    "# 감정 분류 호출\n",
    "with open('1st_jst_result.pkl', 'rb') as f:\n",
    "    JST = pickle.load(f)"
   ]
  },
  {
   "cell_type": "code",
   "execution_count": 4,
   "metadata": {},
   "outputs": [
    {
     "data": {
      "text/plain": [
       "'전체 관람가는 아닌 것 같아요'"
      ]
     },
     "execution_count": 4,
     "metadata": {},
     "output_type": "execute_result"
    }
   ],
   "source": [
    "df2.loc[0, 'review']"
   ]
  },
  {
   "cell_type": "code",
   "execution_count": 5,
   "metadata": {},
   "outputs": [
    {
     "data": {
      "text/plain": [
       "array([[0., 0., 0., 0., 0., 0., 0., 0.],\n",
       "       [0., 0., 0., 1., 1., 0., 2., 0.],\n",
       "       [0., 0., 0., 0., 0., 0., 0., 0.],\n",
       "       [0., 1., 0., 0., 0., 0., 0., 0.]])"
      ]
     },
     "execution_count": 5,
     "metadata": {},
     "output_type": "execute_result"
    }
   ],
   "source": [
    "JST.n_dts[0]"
   ]
  },
  {
   "cell_type": "code",
   "execution_count": 11,
   "metadata": {},
   "outputs": [],
   "source": [
    "res = defaultdict(list)\n",
    "for i, j in JST.sentiments.items():\n",
    "    res[i[0]].append(j)\n",
    "\n",
    "from collections import Counter\n",
    "res = {i : Counter(j) for i, j in res.items()}\n",
    "\n",
    "i2senti = {0 : 'joy', 1 : 'interest', 2 : 'anger', 3 : 'admiration',\n",
    "           4 : 'sadness', 5 : 'surprise', 6 : 'fear', 7 : 'disgust'}"
   ]
  },
  {
   "cell_type": "code",
   "execution_count": 12,
   "metadata": {},
   "outputs": [],
   "source": [
    "senti_label_each_review = [[] for _ in range(len(df2))]\n",
    "for i in range(len(df2)):\n",
    "    if res.get(i):\n",
    "        for j in res.get(i).most_common(2):\n",
    "            senti_label_each_review[i].append(i2senti[j[0]])\n",
    "    else:\n",
    "        senti_label_each_review[i].append(['neutral'])"
   ]
  },
  {
   "cell_type": "code",
   "execution_count": 13,
   "metadata": {},
   "outputs": [],
   "source": [
    "X_train = df2['review'].copy()\n",
    "y_train = senti_label_each_review"
   ]
  },
  {
   "cell_type": "code",
   "execution_count": 14,
   "metadata": {},
   "outputs": [
    {
     "name": "stderr",
     "output_type": "stream",
     "text": [
      "C:\\ProgramData\\Anaconda3\\envs\\keras\\lib\\site-packages\\jpype\\_core.py:210: UserWarning: \n",
      "-------------------------------------------------------------------------------\n",
      "Deprecated: convertStrings was not specified when starting the JVM. The default\n",
      "behavior in JPype will be False starting in JPype 0.8. The recommended setting\n",
      "for new code is convertStrings=False.  The legacy value of True was assumed for\n",
      "this session. If you are a user of an application that reported this warning,\n",
      "please file a ticket with the developer.\n",
      "-------------------------------------------------------------------------------\n",
      "\n",
      "  \"\"\")\n"
     ]
    }
   ],
   "source": [
    "from konlpy.tag import Okt\n",
    "okt = Okt()\n",
    "def tokenizer_morphs(doc):\n",
    "    return okt.morphs(doc)"
   ]
  },
  {
   "cell_type": "code",
   "execution_count": 15,
   "metadata": {},
   "outputs": [],
   "source": [
    "from sklearn.feature_extraction.text import TfidfVectorizer\n",
    "from sklearn.naive_bayes import MultinomialNB\n",
    "from sklearn.linear_model import SGDClassifier\n",
    "from sklearn.pipeline import Pipeline\n",
    "from sklearn.metrics import accuracy_score"
   ]
  },
  {
   "cell_type": "code",
   "execution_count": 16,
   "metadata": {},
   "outputs": [],
   "source": [
    "X_train2 = np.array(X_train.values)\n",
    "y_train2 = np.array([i[0] for i in y_train])\n",
    "\n",
    "y_label = np.zeros((len(y_train), len(i2senti.values())))\n",
    "senti2i = {j : i for i, j in i2senti.items()}\n",
    "for ix, contents in enumerate(y_train):\n",
    "    for j in contents:\n",
    "        if j == ['neutral']:\n",
    "            continue\n",
    "        if y_label[ix, senti2i[j]] == 0:\n",
    "            y_label[ix, senti2i[j]] += 1"
   ]
  },
  {
   "cell_type": "code",
   "execution_count": 17,
   "metadata": {},
   "outputs": [],
   "source": [
    "ind = np.where(y_label.sum(axis=1) != 0)"
   ]
  },
  {
   "cell_type": "code",
   "execution_count": 18,
   "metadata": {},
   "outputs": [],
   "source": [
    "X_train2 = X_train2[ind]\n",
    "y_label = y_label[ind]\n",
    "y_train2 = y_train2[ind]"
   ]
  },
  {
   "cell_type": "code",
   "execution_count": 19,
   "metadata": {},
   "outputs": [],
   "source": [
    "y_train2 = list(map(lambda x : senti2i[x], y_train2[:500000]))"
   ]
  },
  {
   "cell_type": "markdown",
   "metadata": {},
   "source": [
    "# 작업을 이렇게 빠르게 진행하자\n",
    "- JST 성능 평가는 포기한다. (500개 정도만 대략적으로 진행, 혹은 향후 이렇게 평가할 것이다 정의)\n",
    "- test index를 정의해서 앞으로 동일하게 성능을 평가한다.\n",
    "- 253만개에서 데이터를 어떻게 선정할 지 기준을 정해서 table로 정리한다. (vesion 0.1)\n",
    "- version 0.0은 baseline, 원래 수행한 내용을 그대로 업로드한다."
   ]
  },
  {
   "cell_type": "code",
   "execution_count": 20,
   "metadata": {},
   "outputs": [],
   "source": [
    "# 데이터 호출 (spacing 전처리 수행 o)\n",
    "df2 = pd.read_csv('spacing_nsmc_data.csv')"
   ]
  },
  {
   "cell_type": "code",
   "execution_count": 21,
   "metadata": {},
   "outputs": [],
   "source": [
    "d_path = 'd:/naver_review/'\n",
    "review_folder = os.listdir(d_path)\n",
    "t = {}\n",
    "for ix, review_file in enumerate(review_folder):\n",
    "    with open(d_path + review_file, 'rb') as f:\n",
    "        t[ix] = json.load(f)\n",
    "t1 = pd.DataFrame.from_dict(t[0])\n",
    "t2 = pd.DataFrame.from_dict(t[1])\n",
    "t3 = pd.DataFrame.from_dict(t[2])\n",
    "t4 = pd.DataFrame.from_dict(t[3])\n",
    "t5 = pd.DataFrame.from_dict(t[4])\n",
    "t6 = pd.DataFrame.from_dict(t[5])\n",
    "\n",
    "dfnew = pd.concat((t1, t2, t3, t4, t5, t6))\n",
    "del t, t1, t2, t3, t4, t5, t6"
   ]
  },
  {
   "cell_type": "code",
   "execution_count": 22,
   "metadata": {},
   "outputs": [
    {
     "data": {
      "text/html": [
       "<div>\n",
       "<style scoped>\n",
       "    .dataframe tbody tr th:only-of-type {\n",
       "        vertical-align: middle;\n",
       "    }\n",
       "\n",
       "    .dataframe tbody tr th {\n",
       "        vertical-align: top;\n",
       "    }\n",
       "\n",
       "    .dataframe thead th {\n",
       "        text-align: right;\n",
       "    }\n",
       "</style>\n",
       "<table border=\"1\" class=\"dataframe\">\n",
       "  <thead>\n",
       "    <tr style=\"text-align: right;\">\n",
       "      <th></th>\n",
       "      <th>movie_id</th>\n",
       "      <th>rating</th>\n",
       "      <th>review</th>\n",
       "    </tr>\n",
       "  </thead>\n",
       "  <tbody>\n",
       "    <tr>\n",
       "      <th>0</th>\n",
       "      <td>10001</td>\n",
       "      <td>10</td>\n",
       "      <td>전체 관람가는 아닌 것 같아요</td>\n",
       "    </tr>\n",
       "    <tr>\n",
       "      <th>1</th>\n",
       "      <td>10001</td>\n",
       "      <td>10</td>\n",
       "      <td>디렉터스 컷으로 봐서 거의 3시간 짜리인데 참 흡인력 있다</td>\n",
       "    </tr>\n",
       "    <tr>\n",
       "      <th>2</th>\n",
       "      <td>10001</td>\n",
       "      <td>10</td>\n",
       "      <td>태어나 처음으로 가슴 아리는 영화였다. 20년 이상 지났지만.. 생각하면 또 가슴이...</td>\n",
       "    </tr>\n",
       "    <tr>\n",
       "      <th>3</th>\n",
       "      <td>10001</td>\n",
       "      <td>10</td>\n",
       "      <td>어린시절 고딩 때 봤던 때랑 또 결혼하고 나서 봤을 때의 느낌은 확실히 다르네요. ...</td>\n",
       "    </tr>\n",
       "    <tr>\n",
       "      <th>4</th>\n",
       "      <td>10001</td>\n",
       "      <td>10</td>\n",
       "      <td>토토에게 넓은 세상을 보여주고 픈 알프레도.. 그가 토토를 위해 정을 떼려고 했던 ...</td>\n",
       "    </tr>\n",
       "  </tbody>\n",
       "</table>\n",
       "</div>"
      ],
      "text/plain": [
       "   movie_id  rating                                             review\n",
       "0     10001      10                                   전체 관람가는 아닌 것 같아요\n",
       "1     10001      10                   디렉터스 컷으로 봐서 거의 3시간 짜리인데 참 흡인력 있다\n",
       "2     10001      10  태어나 처음으로 가슴 아리는 영화였다. 20년 이상 지났지만.. 생각하면 또 가슴이...\n",
       "3     10001      10  어린시절 고딩 때 봤던 때랑 또 결혼하고 나서 봤을 때의 느낌은 확실히 다르네요. ...\n",
       "4     10001      10  토토에게 넓은 세상을 보여주고 픈 알프레도.. 그가 토토를 위해 정을 떼려고 했던 ..."
      ]
     },
     "execution_count": 22,
     "metadata": {},
     "output_type": "execute_result"
    }
   ],
   "source": [
    "df2[['movie_id', 'rating', 'review']].head()"
   ]
  },
  {
   "cell_type": "code",
   "execution_count": 23,
   "metadata": {},
   "outputs": [
    {
     "data": {
      "text/html": [
       "<div>\n",
       "<style scoped>\n",
       "    .dataframe tbody tr th:only-of-type {\n",
       "        vertical-align: middle;\n",
       "    }\n",
       "\n",
       "    .dataframe tbody tr th {\n",
       "        vertical-align: top;\n",
       "    }\n",
       "\n",
       "    .dataframe thead th {\n",
       "        text-align: right;\n",
       "    }\n",
       "</style>\n",
       "<table border=\"1\" class=\"dataframe\">\n",
       "  <thead>\n",
       "    <tr style=\"text-align: right;\">\n",
       "      <th></th>\n",
       "      <th>MovieCode</th>\n",
       "      <th>point</th>\n",
       "      <th>review</th>\n",
       "    </tr>\n",
       "  </thead>\n",
       "  <tbody>\n",
       "    <tr>\n",
       "      <th>0</th>\n",
       "      <td>182699</td>\n",
       "      <td>10.0</td>\n",
       "      <td>감동입니다.. 말이 필요 없습니다 꼭 보세요그리고 상영관을 늘려 주심 감사하겠습니다^^</td>\n",
       "    </tr>\n",
       "    <tr>\n",
       "      <th>1</th>\n",
       "      <td>182699</td>\n",
       "      <td>1.0</td>\n",
       "      <td>쩌네요 장관이구요 걸경입니다.</td>\n",
       "    </tr>\n",
       "    <tr>\n",
       "      <th>2</th>\n",
       "      <td>182699</td>\n",
       "      <td>10.0</td>\n",
       "      <td>우리민족이 북한이 말하는 지상낙원이 아니라 생지옥, 생감옥에  지금 이시간에도 그곳...</td>\n",
       "    </tr>\n",
       "    <tr>\n",
       "      <th>3</th>\n",
       "      <td>182699</td>\n",
       "      <td>10.0</td>\n",
       "      <td>북한의 현실을 보여주는 영화입니다.. 정말 이런 영화가 많이 배급되어야 합니다!</td>\n",
       "    </tr>\n",
       "    <tr>\n",
       "      <th>4</th>\n",
       "      <td>182699</td>\n",
       "      <td>10.0</td>\n",
       "      <td>많이 울었습니다..화도나고 속상하고.. 북한의 현실을 나라꼭대기에 앉아있는 그분과 ...</td>\n",
       "    </tr>\n",
       "  </tbody>\n",
       "</table>\n",
       "</div>"
      ],
      "text/plain": [
       "  MovieCode  point                                             review\n",
       "0    182699   10.0   감동입니다.. 말이 필요 없습니다 꼭 보세요그리고 상영관을 늘려 주심 감사하겠습니다^^\n",
       "1    182699    1.0                                   쩌네요 장관이구요 걸경입니다.\n",
       "2    182699   10.0  우리민족이 북한이 말하는 지상낙원이 아니라 생지옥, 생감옥에  지금 이시간에도 그곳...\n",
       "3    182699   10.0       북한의 현실을 보여주는 영화입니다.. 정말 이런 영화가 많이 배급되어야 합니다!\n",
       "4    182699   10.0  많이 울었습니다..화도나고 속상하고.. 북한의 현실을 나라꼭대기에 앉아있는 그분과 ..."
      ]
     },
     "execution_count": 23,
     "metadata": {},
     "output_type": "execute_result"
    }
   ],
   "source": [
    "dfnew[['MovieCode', 'point', 'review']].head()"
   ]
  },
  {
   "cell_type": "code",
   "execution_count": 24,
   "metadata": {},
   "outputs": [
    {
     "data": {
      "text/plain": [
       "<matplotlib.axes._subplots.AxesSubplot at 0x1cbcc244cc0>"
      ]
     },
     "execution_count": 24,
     "metadata": {},
     "output_type": "execute_result"
    },
    {
     "data": {
      "image/png": "[encoded data removed]",
      "text/plain": [
       "<Figure size 432x288 with 1 Axes>"
      ]
     },
     "metadata": {
      "needs_background": "light"
     },
     "output_type": "display_data"
    }
   ],
   "source": [
    "df2['rating'].hist()"
   ]
  },
  {
   "cell_type": "code",
   "execution_count": 25,
   "metadata": {},
   "outputs": [
    {
     "data": {
      "text/plain": [
       "<matplotlib.axes._subplots.AxesSubplot at 0x1cc6d7ef518>"
      ]
     },
     "execution_count": 25,
     "metadata": {},
     "output_type": "execute_result"
    },
    {
     "data": {
      "image/png": "[encoded data removed]",
      "text/plain": [
       "<Figure size 432x288 with 1 Axes>"
      ]
     },
     "metadata": {
      "needs_background": "light"
     },
     "output_type": "display_data"
    }
   ],
   "source": [
    "dfnew['point'].hist()"
   ]
  },
  {
   "cell_type": "code",
   "execution_count": 26,
   "metadata": {},
   "outputs": [
    {
     "name": "stdout",
     "output_type": "stream",
     "text": [
      "Loading JIT Compiled ChatSpace Model\n"
     ]
    }
   ],
   "source": [
    "from chatspace import ChatSpace\n",
    "\n",
    "spacer = ChatSpace()"
   ]
  },
  {
   "cell_type": "markdown",
   "metadata": {},
   "source": [
    "# Selenium"
   ]
  },
  {
   "cell_type": "code",
   "execution_count": 411,
   "metadata": {},
   "outputs": [],
   "source": [
    "from selenium import webdriver\n",
    "\n",
    "# Chrome의 경우 | 아까 받은 crhomedriver의 위치를 지정해준다.\n",
    "driver = webdriver.Chrome('C:/research_persona/Crawler/chromedriver')\n",
    "# PhantomJS의 경우 | 아까 받은 PhantomJS의 위치를 지정해준다.\n",
    "# driver = webdriver.PhanhomJS()\n",
    "driver.implicitly_wait(3)\n",
    "# url에 접근한다.\n",
    "driver.get('https://speller.cs.pusan.ac.kr/')"
   ]
  },
  {
   "cell_type": "code",
   "execution_count": 453,
   "metadata": {},
   "outputs": [],
   "source": [
    "driver.find_element_by_name('text1').send_keys('나 잡아봐라앗~')"
   ]
  },
  {
   "cell_type": "code",
   "execution_count": 454,
   "metadata": {},
   "outputs": [],
   "source": [
    "driver.find_element_by_id('btnCheck').click()"
   ]
  },
  {
   "cell_type": "code",
   "execution_count": 460,
   "metadata": {},
   "outputs": [],
   "source": [
    "html = driver.page_source"
   ]
  },
  {
   "cell_type": "code",
   "execution_count": 252,
   "metadata": {},
   "outputs": [],
   "source": [
    "from bs4 import BeautifulSoup"
   ]
  },
  {
   "cell_type": "code",
   "execution_count": 461,
   "metadata": {},
   "outputs": [],
   "source": [
    "soup = BeautifulSoup(html, 'html.parser')"
   ]
  },
  {
   "cell_type": "code",
   "execution_count": 462,
   "metadata": {},
   "outputs": [],
   "source": [
    "announceText = soup.find('td', {'id':'pageAnnounce'}).text"
   ]
  },
  {
   "cell_type": "code",
   "execution_count": 463,
   "metadata": {},
   "outputs": [
    {
     "data": {
      "text/plain": [
       "''"
      ]
     },
     "execution_count": 463,
     "metadata": {},
     "output_type": "execute_result"
    }
   ],
   "source": [
    "announceText"
   ]
  },
  {
   "cell_type": "code",
   "execution_count": 464,
   "metadata": {},
   "outputs": [],
   "source": [
    "if announceText:\n",
    "    print('dfads')"
   ]
  },
  {
   "cell_type": "code",
   "execution_count": 447,
   "metadata": {},
   "outputs": [
    {
     "data": {
      "text/plain": [
       "2"
      ]
     },
     "execution_count": 447,
     "metadata": {},
     "output_type": "execute_result"
    }
   ],
   "source": [
    "int(announceText.split(' ')[1].split('페이지')[0])"
   ]
  },
  {
   "cell_type": "code",
   "execution_count": 449,
   "metadata": {},
   "outputs": [
    {
     "name": "stdout",
     "output_type": "stream",
     "text": [
      "1\n"
     ]
    }
   ],
   "source": [
    "for i in range(1, int(announceText.split(' ')[1].split('페이지')[0])):\n",
    "    print(i)"
   ]
  },
  {
   "cell_type": "code",
   "execution_count": 450,
   "metadata": {},
   "outputs": [],
   "source": [
    "driver.find_element_by_id('nextBtn').click()"
   ]
  },
  {
   "cell_type": "code",
   "execution_count": 452,
   "metadata": {},
   "outputs": [],
   "source": [
    "driver.find_element_by_id('btnRenew2').click()"
   ]
  },
  {
   "cell_type": "code",
   "execution_count": 353,
   "metadata": {},
   "outputs": [],
   "source": [
    "t = soup.find('div', {\"class\":\"divScrollbarStyle\", 'id':'divLeft1'}).td"
   ]
  },
  {
   "cell_type": "code",
   "execution_count": 354,
   "metadata": {},
   "outputs": [],
   "source": [
    "rule = {i.next.next_sibling : i.span.text for i in t.find_all('font')}"
   ]
  },
  {
   "cell_type": "code",
   "execution_count": 355,
   "metadata": {},
   "outputs": [],
   "source": [
    "text =     '''\n",
    "    과연 이것도 막을 수 있을까?\n",
    "    내가 사랑한 모든 행복을 더해도 우리의 삶의 낙만 못하죠\n",
    "    어떻게 잊을까요 어떻게 견뎌낼까요\n",
    "    나는 기도해요 사랑이 우수운 나이 까지\n",
    "    가숨이 흘러 내려 \n",
    "    바라만 봐도 좋았던 나였는데\n",
    "    욕심이 자라서 이렇게 벌을 받나요오오\n",
    "    '''"
   ]
  },
  {
   "cell_type": "code",
   "execution_count": 357,
   "metadata": {},
   "outputs": [
    {
     "data": {
      "text/plain": [
       "{'잊을까요 어떻게': '잊을까요? 어떻게',\n",
       " '기도해요 사랑이': '기도해요. 사랑이',\n",
       " '우수운': '우스운',\n",
       " '나이 까지': '나이까지',\n",
       " '가숨이': '가슴이',\n",
       " '흘러 내려': '흘러내려',\n",
       " '받나요오오': '받나요 오오'}"
      ]
     },
     "execution_count": 357,
     "metadata": {},
     "output_type": "execute_result"
    }
   ],
   "source": [
    "rule"
   ]
  },
  {
   "cell_type": "code",
   "execution_count": 358,
   "metadata": {},
   "outputs": [],
   "source": [
    "for i,j in rule.items():\n",
    "    text = text.replace(i, j)"
   ]
  },
  {
   "cell_type": "code",
   "execution_count": 359,
   "metadata": {},
   "outputs": [
    {
     "data": {
      "text/plain": [
       "'\\n    과연 이것도 막을 수 있을까?\\n    내가 사랑한 모든 행복을 더해도 우리의 삶의 낙만 못하죠\\n    어떻게 잊을까요? 어떻게 견뎌낼까요\\n    나는 기도해요. 사랑이 우스운 나이까지\\n    가슴이 흘러내려 \\n    바라만 봐도 좋았던 나였는데\\n    욕심이 자라서 이렇게 벌을 받나요 오오\\n    '"
      ]
     },
     "execution_count": 359,
     "metadata": {},
     "output_type": "execute_result"
    }
   ],
   "source": [
    "text"
   ]
  },
  {
   "cell_type": "code",
   "execution_count": 299,
   "metadata": {},
   "outputs": [
    {
     "data": {
      "text/plain": [
       "['아닌 것 같아요', '떠나가도', '뒤에 질래', '가슴이 온전히', '위한다 너를']"
      ]
     },
     "execution_count": 299,
     "metadata": {},
     "output_type": "execute_result"
    }
   ],
   "source": [
    "[ for i in t.find_all('font')]"
   ]
  },
  {
   "cell_type": "code",
   "execution_count": 218,
   "metadata": {},
   "outputs": [
    {
     "data": {
      "text/plain": [
       "'떠나가도'"
      ]
     },
     "execution_count": 218,
     "metadata": {},
     "output_type": "execute_result"
    }
   ],
   "source": [
    "soup.find('div', {\"class\":\"divScrollbarStyle\", 'id':'divLeft1'}).span.text"
   ]
  },
  {
   "cell_type": "code",
   "execution_count": 465,
   "metadata": {},
   "outputs": [],
   "source": [
    "driver.close()"
   ]
  },
  {
   "cell_type": "code",
   "execution_count": 171,
   "metadata": {},
   "outputs": [],
   "source": [
    "reviews = np.hstack((df2['review'].values, dfnew['review'].values))"
   ]
  },
  {
   "cell_type": "code",
   "execution_count": 165,
   "metadata": {},
   "outputs": [],
   "source": [
    "import time\n",
    "\n",
    "def timeit(method):\n",
    "    def timed(*args, **kw):\n",
    "        ts = time.time()\n",
    "        result = method(*args, **kw)\n",
    "        te = time.time()\n",
    "        if 'log_time' in kw:\n",
    "            name = kw.get('log_name', method.__name__.upper())\n",
    "            kw['log_time'][name] = int((te - ts) * 1000)\n",
    "        else:\n",
    "            print('\\'{:s}\\'  {:2.2f} ms  {:2.2f} sec  {:2.2f} min  {:2.2f} hour'.format(\n",
    "                  method.__name__, (te - ts) * 1000, (te - ts), (te - ts) / 60, (te - ts) / 3600))\n",
    "        return result\n",
    "    return timed"
   ]
  },
  {
   "cell_type": "code",
   "execution_count": 166,
   "metadata": {},
   "outputs": [
    {
     "name": "stdout",
     "output_type": "stream",
     "text": [
      "'test'  0.00 ms  0.00 sec  0.00 min  0.00 hour\n",
      "'test'  0.00 ms  0.00 sec  0.00 min  0.00 hour\n",
      "'test'  0.00 ms  0.00 sec  0.00 min  0.00 hour\n",
      "'test'  0.00 ms  0.00 sec  0.00 min  0.00 hour\n",
      "'test'  0.00 ms  0.00 sec  0.00 min  0.00 hour\n",
      "'test'  0.00 ms  0.00 sec  0.00 min  0.00 hour\n",
      "'test'  0.00 ms  0.00 sec  0.00 min  0.00 hour\n",
      "'test'  0.00 ms  0.00 sec  0.00 min  0.00 hour\n",
      "'test'  0.00 ms  0.00 sec  0.00 min  0.00 hour\n",
      "'test'  0.00 ms  0.00 sec  0.00 min  0.00 hour\n"
     ]
    }
   ],
   "source": [
    "def test1():\n",
    "    for i in range(10):\n",
    "        @timeit\n",
    "        def test():\n",
    "            res = 0\n",
    "            return res\n",
    "        test()\n",
    "test1()"
   ]
  },
  {
   "cell_type": "code",
   "execution_count": 451,
   "metadata": {},
   "outputs": [
    {
     "data": {
      "text/plain": [
       "'총 2페이지 중 1페이지입니다.화살표를 눌러 페이지를 이동해주세요.'"
      ]
     },
     "execution_count": 451,
     "metadata": {},
     "output_type": "execute_result"
    }
   ],
   "source": [
    "announceText"
   ]
  },
  {
   "cell_type": "code",
   "execution_count": 54,
   "metadata": {},
   "outputs": [],
   "source": [
    "from selenium import webdriver\n",
    "from bs4 import BeautifulSoup\n",
    "from copy import copy\n",
    "import time\n",
    "\n",
    "from multiprocessing import Pool # Pool import하기\n",
    "\n",
    "def spallcheck_using_pusan(reviews, num=10):\n",
    "    res, is_transform = [], []\n",
    "    def spallcheck(driver, text):\n",
    "        checked_text = copy(text)\n",
    "        driver.find_element_by_name('text1').send_keys(text)\n",
    "        driver.find_element_by_id('btnCheck').click()\n",
    "        html = driver.page_source\n",
    "        soup = BeautifulSoup(html, 'html.parser')\n",
    "        is_valid = soup.find('div', {\"class\":\"divScrollbarStyle\", 'id':'divLeft1'})\n",
    "        if is_valid:\n",
    "            announceText = soup.find('td', {'id':'pageAnnounce'}).text\n",
    "            t = is_valid.td\n",
    "            rule = {f.next.next_sibling : f.span.text for f in t.find_all('font')}\n",
    "            if announceText:\n",
    "                for i in range(1, int(announceText.split(' ')[1].split('페이지')[0])):\n",
    "                    driver.find_element_by_id('nextBtn').click()\n",
    "                    t = soup.find('div', {\"class\":\"divScrollbarStyle\", 'id':'divLeft1'}).td\n",
    "                    for f in t.find_all('font'):\n",
    "                        rule[f.next.next_sibling] = f.span.text\n",
    "            for i,j in rule.items():\n",
    "                checked_text = checked_text.replace(i, j)     \n",
    "            transform = True\n",
    "        else:\n",
    "            transform = False\n",
    "        driver.find_element_by_id('btnRenew2').click()\n",
    "        return checked_text, transform\n",
    "    driver = webdriver.Chrome('C:/research_persona/Crawler/chromedriver')\n",
    "    print('---** selenium으로 web에 접근 중 ... 3초 소요됩니다... **---')\n",
    "    driver.implicitly_wait(3)\n",
    "    print('Connected. spaller.cs.pusan.ac.kr/에 접속합니다.')\n",
    "    driver.get('https://speller.cs.pusan.ac.kr/')\n",
    "    print('text 분석을 실시합니다. 1000개 text마다 결과를 기록합니다.')\n",
    "    start, semi_start = time.time(), time.time()\n",
    "    for ix, text in enumerate(reviews):\n",
    "        if ix % num == 0:\n",
    "            if time.time() - start >= 60:\n",
    "                a = (time.time() - start) / 3600\n",
    "                b = 'hours'\n",
    "            else:\n",
    "                a = (time.time() - start) / 60\n",
    "                b = 'mins'\n",
    "            print(ix, '\\t\\tcollapse {:.2f} mins\\t\\tcumulative time is {:.2f} {:s}'.format(\n",
    "                (time.time() - semi_start) / 60, a, b))\n",
    "            semi_start = time.time()\n",
    "        try:\n",
    "            checked_text, transform = spallcheck(driver, text)\n",
    "        except:\n",
    "            print('Error: 에러 발생!')\n",
    "            return res, is_transform\n",
    "        res.append(checked_text)\n",
    "        is_transform.append(transform)\n",
    "    driver.close()\n",
    "    return res, is_transform"
   ]
  },
  {
   "cell_type": "code",
   "execution_count": 34,
   "metadata": {},
   "outputs": [],
   "source": [
    "reviews = np.hstack((df2['review'].values, dfnew['review'].values))"
   ]
  },
  {
   "cell_type": "code",
   "execution_count": 35,
   "metadata": {},
   "outputs": [],
   "source": [
    "iters = list(map(lambda x : x+'\\n', reviews))"
   ]
  },
  {
   "cell_type": "code",
   "execution_count": 41,
   "metadata": {},
   "outputs": [],
   "source": [
    "reviews300= []\n",
    "iters = list(map(lambda x : x+'\\n', reviews))\n",
    "res = ''\n",
    "for ix, text in enumerate(iters):\n",
    "    res += text\n",
    "    if (ix + 1) % 300 == 0:\n",
    "        reviews300.append(res)\n",
    "        res = ''"
   ]
  },
  {
   "cell_type": "code",
   "execution_count": 42,
   "metadata": {},
   "outputs": [
    {
     "data": {
      "text/plain": [
       "10815"
      ]
     },
     "execution_count": 42,
     "metadata": {},
     "output_type": "execute_result"
    }
   ],
   "source": [
    "len(reviews300)"
   ]
  },
  {
   "cell_type": "code",
   "execution_count": null,
   "metadata": {},
   "outputs": [],
   "source": [
    "stopwords = list('의가이은을로들는좀잘걍과도를자에그와한것다') + \\\n",
    "\t['으로', '하다', '에서', '이다']\n",
    "#\n",
    "def composeFuncs(func1, func2):\n",
    "    return lambda x : func2(func1(x))\n",
    "\n",
    "pipes = [lambda x : re.sub('[^ㄱ-ㅎㅏ-ㅣ가-힣]', ' ', x),\n",
    "         lambda x : spallcheck(x).checked,\n",
    "         lambda x : spacer.space(x.replace(' ', '')),\n",
    "         lambda x : okt.morphs(x, stem=True, norm=True),\n",
    "         lambda x : [s for s in x if s not in stopwords]]\n",
    "\n",
    "preprocessText = functools.reduce(composeFuncs, pipes)"
   ]
  },
  {
   "cell_type": "code",
   "execution_count": 56,
   "metadata": {
    "scrolled": true
   },
   "outputs": [
    {
     "name": "stdout",
     "output_type": "stream",
     "text": [
      "---** selenium으로 web에 접근 중 ... 3초 소요됩니다... **---\n",
      "Connected. spaller.cs.pusan.ac.kr/에 접속합니다.\n",
      "text 분석을 실시합니다. 1000개 text마다 결과를 기록합니다.\n",
      "0 \t\tcollapse 0.00 mins\t\tcumulative time is 0.00 mins\n",
      "10 \t\tcollapse 0.14 mins\t\tcumulative time is 0.14 mins\n",
      "20 \t\tcollapse 0.11 mins\t\tcumulative time is 0.25 mins\n",
      "30 \t\tcollapse 0.11 mins\t\tcumulative time is 0.36 mins\n",
      "40 \t\tcollapse 0.13 mins\t\tcumulative time is 0.49 mins\n",
      "50 \t\tcollapse 0.16 mins\t\tcumulative time is 0.65 mins\n",
      "60 \t\tcollapse 0.14 mins\t\tcumulative time is 0.79 mins\n",
      "70 \t\tcollapse 0.10 mins\t\tcumulative time is 0.89 mins\n",
      "80 \t\tcollapse 0.12 mins\t\tcumulative time is 0.02 hours\n",
      "90 \t\tcollapse 0.12 mins\t\tcumulative time is 0.02 hours\n",
      "100 \t\tcollapse 0.14 mins\t\tcumulative time is 0.02 hours\n",
      "110 \t\tcollapse 0.23 mins\t\tcumulative time is 0.03 hours\n",
      "120 \t\tcollapse 0.12 mins\t\tcumulative time is 0.03 hours\n",
      "130 \t\tcollapse 0.10 mins\t\tcumulative time is 0.03 hours\n",
      "140 \t\tcollapse 0.15 mins\t\tcumulative time is 0.03 hours\n",
      "150 \t\tcollapse 0.12 mins\t\tcumulative time is 0.03 hours\n",
      "160 \t\tcollapse 0.09 mins\t\tcumulative time is 0.03 hours\n",
      "170 \t\tcollapse 0.10 mins\t\tcumulative time is 0.04 hours\n",
      "180 \t\tcollapse 0.09 mins\t\tcumulative time is 0.04 hours\n",
      "190 \t\tcollapse 0.16 mins\t\tcumulative time is 0.04 hours\n",
      "200 \t\tcollapse 0.13 mins\t\tcumulative time is 0.04 hours\n",
      "210 \t\tcollapse 0.09 mins\t\tcumulative time is 0.04 hours\n",
      "220 \t\tcollapse 0.08 mins\t\tcumulative time is 0.05 hours\n",
      "230 \t\tcollapse 0.09 mins\t\tcumulative time is 0.05 hours\n",
      "240 \t\tcollapse 0.12 mins\t\tcumulative time is 0.05 hours\n",
      "250 \t\tcollapse 0.09 mins\t\tcumulative time is 0.05 hours\n",
      "260 \t\tcollapse 0.12 mins\t\tcumulative time is 0.05 hours\n",
      "270 \t\tcollapse 0.13 mins\t\tcumulative time is 0.05 hours\n",
      "280 \t\tcollapse 0.09 mins\t\tcumulative time is 0.06 hours\n",
      "290 \t\tcollapse 0.09 mins\t\tcumulative time is 0.06 hours\n",
      "300 \t\tcollapse 0.11 mins\t\tcumulative time is 0.06 hours\n",
      "310 \t\tcollapse 0.17 mins\t\tcumulative time is 0.06 hours\n",
      "320 \t\tcollapse 0.14 mins\t\tcumulative time is 0.07 hours\n",
      "330 \t\tcollapse 0.19 mins\t\tcumulative time is 0.07 hours\n",
      "340 \t\tcollapse 0.14 mins\t\tcumulative time is 0.07 hours\n",
      "350 \t\tcollapse 0.11 mins\t\tcumulative time is 0.07 hours\n",
      "360 \t\tcollapse 0.13 mins\t\tcumulative time is 0.07 hours\n",
      "370 \t\tcollapse 0.11 mins\t\tcumulative time is 0.08 hours\n",
      "380 \t\tcollapse 0.14 mins\t\tcumulative time is 0.08 hours\n",
      "390 \t\tcollapse 0.14 mins\t\tcumulative time is 0.08 hours\n",
      "400 \t\tcollapse 0.25 mins\t\tcumulative time is 0.09 hours\n",
      "410 \t\tcollapse 0.18 mins\t\tcumulative time is 0.09 hours\n",
      "420 \t\tcollapse 0.10 mins\t\tcumulative time is 0.09 hours\n",
      "430 \t\tcollapse 0.13 mins\t\tcumulative time is 0.09 hours\n",
      "440 \t\tcollapse 0.13 mins\t\tcumulative time is 0.09 hours\n",
      "450 \t\tcollapse 0.11 mins\t\tcumulative time is 0.10 hours\n",
      "460 \t\tcollapse 0.11 mins\t\tcumulative time is 0.10 hours\n",
      "470 \t\tcollapse 0.15 mins\t\tcumulative time is 0.10 hours\n",
      "480 \t\tcollapse 0.09 mins\t\tcumulative time is 0.10 hours\n",
      "490 \t\tcollapse 0.13 mins\t\tcumulative time is 0.10 hours\n",
      "500 \t\tcollapse 0.12 mins\t\tcumulative time is 0.11 hours\n",
      "510 \t\tcollapse 0.08 mins\t\tcumulative time is 0.11 hours\n",
      "520 \t\tcollapse 0.09 mins\t\tcumulative time is 0.11 hours\n",
      "530 \t\tcollapse 0.14 mins\t\tcumulative time is 0.11 hours\n",
      "540 \t\tcollapse 0.09 mins\t\tcumulative time is 0.11 hours\n",
      "550 \t\tcollapse 0.14 mins\t\tcumulative time is 0.12 hours\n",
      "560 \t\tcollapse 0.13 mins\t\tcumulative time is 0.12 hours\n",
      "570 \t\tcollapse 0.20 mins\t\tcumulative time is 0.12 hours\n",
      "580 \t\tcollapse 0.10 mins\t\tcumulative time is 0.12 hours\n",
      "590 \t\tcollapse 0.07 mins\t\tcumulative time is 0.12 hours\n",
      "600 \t\tcollapse 0.11 mins\t\tcumulative time is 0.13 hours\n",
      "610 \t\tcollapse 0.09 mins\t\tcumulative time is 0.13 hours\n",
      "620 \t\tcollapse 0.08 mins\t\tcumulative time is 0.13 hours\n",
      "630 \t\tcollapse 0.11 mins\t\tcumulative time is 0.13 hours\n",
      "640 \t\tcollapse 0.13 mins\t\tcumulative time is 0.13 hours\n",
      "650 \t\tcollapse 0.12 mins\t\tcumulative time is 0.13 hours\n",
      "660 \t\tcollapse 0.13 mins\t\tcumulative time is 0.14 hours\n",
      "670 \t\tcollapse 0.11 mins\t\tcumulative time is 0.14 hours\n",
      "680 \t\tcollapse 0.11 mins\t\tcumulative time is 0.14 hours\n",
      "690 \t\tcollapse 0.07 mins\t\tcumulative time is 0.14 hours\n",
      "700 \t\tcollapse 0.11 mins\t\tcumulative time is 0.14 hours\n",
      "710 \t\tcollapse 0.08 mins\t\tcumulative time is 0.14 hours\n",
      "720 \t\tcollapse 0.15 mins\t\tcumulative time is 0.15 hours\n",
      "730 \t\tcollapse 0.12 mins\t\tcumulative time is 0.15 hours\n",
      "740 \t\tcollapse 0.10 mins\t\tcumulative time is 0.15 hours\n",
      "750 \t\tcollapse 0.13 mins\t\tcumulative time is 0.15 hours\n",
      "760 \t\tcollapse 0.17 mins\t\tcumulative time is 0.16 hours\n",
      "770 \t\tcollapse 0.13 mins\t\tcumulative time is 0.16 hours\n",
      "780 \t\tcollapse 0.22 mins\t\tcumulative time is 0.16 hours\n",
      "790 \t\tcollapse 0.11 mins\t\tcumulative time is 0.16 hours\n",
      "800 \t\tcollapse 0.14 mins\t\tcumulative time is 0.17 hours\n",
      "810 \t\tcollapse 0.21 mins\t\tcumulative time is 0.17 hours\n",
      "820 \t\tcollapse 0.08 mins\t\tcumulative time is 0.17 hours\n",
      "830 \t\tcollapse 0.12 mins\t\tcumulative time is 0.17 hours\n",
      "840 \t\tcollapse 0.10 mins\t\tcumulative time is 0.17 hours\n",
      "850 \t\tcollapse 0.09 mins\t\tcumulative time is 0.18 hours\n",
      "860 \t\tcollapse 0.15 mins\t\tcumulative time is 0.18 hours\n",
      "870 \t\tcollapse 0.09 mins\t\tcumulative time is 0.18 hours\n",
      "880 \t\tcollapse 0.08 mins\t\tcumulative time is 0.18 hours\n",
      "890 \t\tcollapse 0.10 mins\t\tcumulative time is 0.18 hours\n",
      "900 \t\tcollapse 0.14 mins\t\tcumulative time is 0.18 hours\n",
      "910 \t\tcollapse 0.10 mins\t\tcumulative time is 0.19 hours\n",
      "920 \t\tcollapse 0.10 mins\t\tcumulative time is 0.19 hours\n",
      "930 \t\tcollapse 0.14 mins\t\tcumulative time is 0.19 hours\n",
      "940 \t\tcollapse 0.14 mins\t\tcumulative time is 0.19 hours\n",
      "950 \t\tcollapse 0.11 mins\t\tcumulative time is 0.19 hours\n",
      "960 \t\tcollapse 0.08 mins\t\tcumulative time is 0.20 hours\n",
      "970 \t\tcollapse 0.08 mins\t\tcumulative time is 0.20 hours\n",
      "980 \t\tcollapse 0.11 mins\t\tcumulative time is 0.20 hours\n",
      "990 \t\tcollapse 0.13 mins\t\tcumulative time is 0.20 hours\n",
      "Wall time: 12min 12s\n"
     ]
    }
   ],
   "source": [
    "%time res, is_transform = spallcheck_using_pusan(reviews[:1000], num=10)"
   ]
  },
  {
   "cell_type": "code",
   "execution_count": 61,
   "metadata": {},
   "outputs": [
    {
     "data": {
      "text/plain": [
       "'80년대 나온 다른 영화들과 비교해보면 확실히 시나리오 등 시대를 넘어섬! 근데 주인공은 미스 캐스팅인듯...'"
      ]
     },
     "execution_count": 61,
     "metadata": {},
     "output_type": "execute_result"
    }
   ],
   "source": [
    "reviews[1000]"
   ]
  },
  {
   "cell_type": "code",
   "execution_count": 62,
   "metadata": {},
   "outputs": [
    {
     "data": {
      "text/plain": [
       "'80년대 나온 다른 영화들과 비교해보면 확실히 시나리오 등 시대를 넘어섬! 근데 주인공은 미스 캐스팅인 듯….'"
      ]
     },
     "execution_count": 62,
     "metadata": {},
     "output_type": "execute_result"
    }
   ],
   "source": [
    "res[1000]"
   ]
  },
  {
   "cell_type": "code",
   "execution_count": 63,
   "metadata": {},
   "outputs": [
    {
     "name": "stdout",
     "output_type": "stream",
     "text": [
      "---** selenium으로 web에 접근 중 ... 3초 소요됩니다... **---\n",
      "Connected. spaller.cs.pusan.ac.kr/에 접속합니다.\n",
      "text 분석을 실시합니다. 1000개 text마다 결과를 기록합니다.\n",
      "0 \t\tcollapse 0.00 mins\t\tcumulative time is 0.00 mins\n",
      "Error: 에러 발생!\n",
      "---** selenium으로 web에 접근 중 ... 3초 소요됩니다... **---\n",
      "Connected. spaller.cs.pusan.ac.kr/에 접속합니다.\n",
      "text 분석을 실시합니다. 1000개 text마다 결과를 기록합니다.\n",
      "0 \t\tcollapse 0.00 mins\t\tcumulative time is 0.00 mins\n",
      "10 \t\tcollapse 0.13 mins\t\tcumulative time is 0.13 mins\n",
      "20 \t\tcollapse 0.10 mins\t\tcumulative time is 0.23 mins\n",
      "30 \t\tcollapse 0.09 mins\t\tcumulative time is 0.32 mins\n",
      "40 \t\tcollapse 0.08 mins\t\tcumulative time is 0.41 mins\n",
      "50 \t\tcollapse 0.11 mins\t\tcumulative time is 0.51 mins\n",
      "60 \t\tcollapse 0.09 mins\t\tcumulative time is 0.60 mins\n",
      "70 \t\tcollapse 0.10 mins\t\tcumulative time is 0.70 mins\n",
      "80 \t\tcollapse 0.12 mins\t\tcumulative time is 0.83 mins\n",
      "90 \t\tcollapse 0.12 mins\t\tcumulative time is 0.94 mins\n",
      "100 \t\tcollapse 0.15 mins\t\tcumulative time is 0.02 hours\n",
      "110 \t\tcollapse 0.19 mins\t\tcumulative time is 0.02 hours\n",
      "120 \t\tcollapse 0.10 mins\t\tcumulative time is 0.02 hours\n",
      "130 \t\tcollapse 0.10 mins\t\tcumulative time is 0.02 hours\n",
      "140 \t\tcollapse 0.08 mins\t\tcumulative time is 0.03 hours\n",
      "150 \t\tcollapse 0.08 mins\t\tcumulative time is 0.03 hours\n",
      "160 \t\tcollapse 0.09 mins\t\tcumulative time is 0.03 hours\n",
      "170 \t\tcollapse 0.09 mins\t\tcumulative time is 0.03 hours\n",
      "180 \t\tcollapse 0.10 mins\t\tcumulative time is 0.03 hours\n",
      "190 \t\tcollapse 0.11 mins\t\tcumulative time is 0.03 hours\n",
      "200 \t\tcollapse 0.12 mins\t\tcumulative time is 0.04 hours\n",
      "210 \t\tcollapse 0.11 mins\t\tcumulative time is 0.04 hours\n",
      "220 \t\tcollapse 0.11 mins\t\tcumulative time is 0.04 hours\n",
      "230 \t\tcollapse 0.13 mins\t\tcumulative time is 0.04 hours\n",
      "240 \t\tcollapse 0.13 mins\t\tcumulative time is 0.04 hours\n",
      "250 \t\tcollapse 0.11 mins\t\tcumulative time is 0.05 hours\n",
      "260 \t\tcollapse 0.23 mins\t\tcumulative time is 0.05 hours\n",
      "270 \t\tcollapse 0.18 mins\t\tcumulative time is 0.05 hours\n",
      "280 \t\tcollapse 0.12 mins\t\tcumulative time is 0.05 hours\n",
      "290 \t\tcollapse 0.14 mins\t\tcumulative time is 0.06 hours\n",
      "300 \t\tcollapse 0.11 mins\t\tcumulative time is 0.06 hours\n",
      "310 \t\tcollapse 0.11 mins\t\tcumulative time is 0.06 hours\n",
      "320 \t\tcollapse 0.12 mins\t\tcumulative time is 0.06 hours\n",
      "330 \t\tcollapse 0.10 mins\t\tcumulative time is 0.06 hours\n",
      "340 \t\tcollapse 0.09 mins\t\tcumulative time is 0.07 hours\n",
      "350 \t\tcollapse 0.09 mins\t\tcumulative time is 0.07 hours\n",
      "360 \t\tcollapse 0.09 mins\t\tcumulative time is 0.07 hours\n",
      "370 \t\tcollapse 0.08 mins\t\tcumulative time is 0.07 hours\n",
      "380 \t\tcollapse 0.10 mins\t\tcumulative time is 0.07 hours\n",
      "390 \t\tcollapse 0.12 mins\t\tcumulative time is 0.07 hours\n",
      "400 \t\tcollapse 0.08 mins\t\tcumulative time is 0.08 hours\n",
      "410 \t\tcollapse 0.11 mins\t\tcumulative time is 0.08 hours\n",
      "420 \t\tcollapse 0.12 mins\t\tcumulative time is 0.08 hours\n",
      "430 \t\tcollapse 0.09 mins\t\tcumulative time is 0.08 hours\n",
      "440 \t\tcollapse 0.14 mins\t\tcumulative time is 0.08 hours\n",
      "450 \t\tcollapse 0.10 mins\t\tcumulative time is 0.08 hours\n",
      "460 \t\tcollapse 0.10 mins\t\tcumulative time is 0.09 hours\n",
      "470 \t\tcollapse 0.11 mins\t\tcumulative time is 0.09 hours\n",
      "480 \t\tcollapse 0.10 mins\t\tcumulative time is 0.09 hours\n",
      "490 \t\tcollapse 0.21 mins\t\tcumulative time is 0.09 hours\n",
      "500 \t\tcollapse 0.14 mins\t\tcumulative time is 0.10 hours\n",
      "510 \t\tcollapse 0.11 mins\t\tcumulative time is 0.10 hours\n",
      "520 \t\tcollapse 0.11 mins\t\tcumulative time is 0.10 hours\n",
      "530 \t\tcollapse 0.11 mins\t\tcumulative time is 0.10 hours\n",
      "540 \t\tcollapse 0.09 mins\t\tcumulative time is 0.10 hours\n",
      "550 \t\tcollapse 0.08 mins\t\tcumulative time is 0.10 hours\n",
      "560 \t\tcollapse 0.09 mins\t\tcumulative time is 0.11 hours\n",
      "570 \t\tcollapse 0.09 mins\t\tcumulative time is 0.11 hours\n",
      "580 \t\tcollapse 0.11 mins\t\tcumulative time is 0.11 hours\n",
      "590 \t\tcollapse 0.09 mins\t\tcumulative time is 0.11 hours\n",
      "600 \t\tcollapse 0.09 mins\t\tcumulative time is 0.11 hours\n",
      "610 \t\tcollapse 0.12 mins\t\tcumulative time is 0.11 hours\n",
      "620 \t\tcollapse 0.09 mins\t\tcumulative time is 0.12 hours\n",
      "630 \t\tcollapse 0.10 mins\t\tcumulative time is 0.12 hours\n",
      "640 \t\tcollapse 0.13 mins\t\tcumulative time is 0.12 hours\n",
      "650 \t\tcollapse 0.10 mins\t\tcumulative time is 0.12 hours\n",
      "660 \t\tcollapse 0.12 mins\t\tcumulative time is 0.12 hours\n",
      "670 \t\tcollapse 0.12 mins\t\tcumulative time is 0.13 hours\n",
      "Error: 에러 발생!\n",
      "---** selenium으로 web에 접근 중 ... 3초 소요됩니다... **---\n",
      "Connected. spaller.cs.pusan.ac.kr/에 접속합니다.\n",
      "text 분석을 실시합니다. 1000개 text마다 결과를 기록합니다.\n",
      "0 \t\tcollapse 0.00 mins\t\tcumulative time is 0.00 mins\n",
      "10 \t\tcollapse 0.12 mins\t\tcumulative time is 0.12 mins\n",
      "20 \t\tcollapse 0.12 mins\t\tcumulative time is 0.24 mins\n",
      "30 \t\tcollapse 0.10 mins\t\tcumulative time is 0.34 mins\n",
      "40 \t\tcollapse 0.08 mins\t\tcumulative time is 0.42 mins\n",
      "50 \t\tcollapse 0.09 mins\t\tcumulative time is 0.51 mins\n",
      "60 \t\tcollapse 0.10 mins\t\tcumulative time is 0.61 mins\n",
      "70 \t\tcollapse 0.12 mins\t\tcumulative time is 0.72 mins\n",
      "80 \t\tcollapse 0.13 mins\t\tcumulative time is 0.86 mins\n",
      "90 \t\tcollapse 0.16 mins\t\tcumulative time is 0.02 hours\n",
      "100 \t\tcollapse 0.11 mins\t\tcumulative time is 0.02 hours\n",
      "110 \t\tcollapse 0.08 mins\t\tcumulative time is 0.02 hours\n",
      "120 \t\tcollapse 0.09 mins\t\tcumulative time is 0.02 hours\n",
      "130 \t\tcollapse 0.09 mins\t\tcumulative time is 0.02 hours\n",
      "140 \t\tcollapse 0.09 mins\t\tcumulative time is 0.02 hours\n",
      "150 \t\tcollapse 0.12 mins\t\tcumulative time is 0.03 hours\n",
      "160 \t\tcollapse 0.09 mins\t\tcumulative time is 0.03 hours\n",
      "170 \t\tcollapse 0.13 mins\t\tcumulative time is 0.03 hours\n",
      "180 \t\tcollapse 0.11 mins\t\tcumulative time is 0.03 hours\n",
      "190 \t\tcollapse 0.16 mins\t\tcumulative time is 0.03 hours\n",
      "200 \t\tcollapse 0.07 mins\t\tcumulative time is 0.04 hours\n",
      "210 \t\tcollapse 0.10 mins\t\tcumulative time is 0.04 hours\n",
      "220 \t\tcollapse 0.09 mins\t\tcumulative time is 0.04 hours\n",
      "230 \t\tcollapse 0.11 mins\t\tcumulative time is 0.04 hours\n",
      "240 \t\tcollapse 0.11 mins\t\tcumulative time is 0.04 hours\n",
      "250 \t\tcollapse 0.11 mins\t\tcumulative time is 0.04 hours\n",
      "260 \t\tcollapse 0.12 mins\t\tcumulative time is 0.05 hours\n",
      "270 \t\tcollapse 0.12 mins\t\tcumulative time is 0.05 hours\n",
      "280 \t\tcollapse 0.15 mins\t\tcumulative time is 0.05 hours\n",
      "290 \t\tcollapse 0.23 mins\t\tcumulative time is 0.05 hours\n",
      "300 \t\tcollapse 0.10 mins\t\tcumulative time is 0.06 hours\n",
      "310 \t\tcollapse 0.09 mins\t\tcumulative time is 0.06 hours\n",
      "320 \t\tcollapse 0.11 mins\t\tcumulative time is 0.06 hours\n",
      "330 \t\tcollapse 0.13 mins\t\tcumulative time is 0.06 hours\n",
      "340 \t\tcollapse 0.14 mins\t\tcumulative time is 0.06 hours\n",
      "350 \t\tcollapse 0.11 mins\t\tcumulative time is 0.07 hours\n",
      "360 \t\tcollapse 0.36 mins\t\tcumulative time is 0.07 hours\n",
      "370 \t\tcollapse 0.08 mins\t\tcumulative time is 0.07 hours\n",
      "380 \t\tcollapse 0.12 mins\t\tcumulative time is 0.08 hours\n",
      "390 \t\tcollapse 0.11 mins\t\tcumulative time is 0.08 hours\n",
      "400 \t\tcollapse 0.10 mins\t\tcumulative time is 0.08 hours\n",
      "410 \t\tcollapse 0.08 mins\t\tcumulative time is 0.08 hours\n",
      "420 \t\tcollapse 0.09 mins\t\tcumulative time is 0.08 hours\n",
      "430 \t\tcollapse 0.11 mins\t\tcumulative time is 0.08 hours\n",
      "440 \t\tcollapse 0.12 mins\t\tcumulative time is 0.09 hours\n",
      "450 \t\tcollapse 0.12 mins\t\tcumulative time is 0.09 hours\n",
      "460 \t\tcollapse 0.09 mins\t\tcumulative time is 0.09 hours\n",
      "470 \t\tcollapse 0.08 mins\t\tcumulative time is 0.09 hours\n",
      "480 \t\tcollapse 0.09 mins\t\tcumulative time is 0.09 hours\n",
      "490 \t\tcollapse 0.14 mins\t\tcumulative time is 0.09 hours\n",
      "500 \t\tcollapse 0.08 mins\t\tcumulative time is 0.10 hours\n",
      "510 \t\tcollapse 0.07 mins\t\tcumulative time is 0.10 hours\n",
      "520 \t\tcollapse 0.10 mins\t\tcumulative time is 0.10 hours\n",
      "530 \t\tcollapse 0.08 mins\t\tcumulative time is 0.10 hours\n",
      "540 \t\tcollapse 0.11 mins\t\tcumulative time is 0.10 hours\n",
      "550 \t\tcollapse 0.10 mins\t\tcumulative time is 0.10 hours\n",
      "560 \t\tcollapse 0.09 mins\t\tcumulative time is 0.10 hours\n",
      "570 \t\tcollapse 0.07 mins\t\tcumulative time is 0.11 hours\n",
      "580 \t\tcollapse 0.16 mins\t\tcumulative time is 0.11 hours\n",
      "590 \t\tcollapse 0.09 mins\t\tcumulative time is 0.11 hours\n",
      "600 \t\tcollapse 0.08 mins\t\tcumulative time is 0.11 hours\n",
      "610 \t\tcollapse 0.08 mins\t\tcumulative time is 0.11 hours\n",
      "620 \t\tcollapse 0.07 mins\t\tcumulative time is 0.11 hours\n",
      "630 \t\tcollapse 0.07 mins\t\tcumulative time is 0.12 hours\n",
      "640 \t\tcollapse 0.12 mins\t\tcumulative time is 0.12 hours\n",
      "650 \t\tcollapse 0.08 mins\t\tcumulative time is 0.12 hours\n",
      "660 \t\tcollapse 0.08 mins\t\tcumulative time is 0.12 hours\n",
      "670 \t\tcollapse 0.12 mins\t\tcumulative time is 0.12 hours\n",
      "680 \t\tcollapse 0.09 mins\t\tcumulative time is 0.12 hours\n",
      "690 \t\tcollapse 0.14 mins\t\tcumulative time is 0.13 hours\n",
      "700 \t\tcollapse 0.12 mins\t\tcumulative time is 0.13 hours\n",
      "710 \t\tcollapse 0.12 mins\t\tcumulative time is 0.13 hours\n",
      "720 \t\tcollapse 0.10 mins\t\tcumulative time is 0.13 hours\n",
      "730 \t\tcollapse 0.12 mins\t\tcumulative time is 0.13 hours\n",
      "740 \t\tcollapse 0.11 mins\t\tcumulative time is 0.14 hours\n",
      "750 \t\tcollapse 0.08 mins\t\tcumulative time is 0.14 hours\n",
      "760 \t\tcollapse 0.12 mins\t\tcumulative time is 0.14 hours\n",
      "770 \t\tcollapse 0.14 mins\t\tcumulative time is 0.14 hours\n",
      "780 \t\tcollapse 0.20 mins\t\tcumulative time is 0.14 hours\n",
      "790 \t\tcollapse 0.08 mins\t\tcumulative time is 0.15 hours\n",
      "800 \t\tcollapse 0.11 mins\t\tcumulative time is 0.15 hours\n",
      "810 \t\tcollapse 0.10 mins\t\tcumulative time is 0.15 hours\n",
      "820 \t\tcollapse 0.10 mins\t\tcumulative time is 0.15 hours\n",
      "830 \t\tcollapse 0.10 mins\t\tcumulative time is 0.15 hours\n",
      "840 \t\tcollapse 0.12 mins\t\tcumulative time is 0.15 hours\n",
      "850 \t\tcollapse 0.16 mins\t\tcumulative time is 0.16 hours\n",
      "860 \t\tcollapse 0.11 mins\t\tcumulative time is 0.16 hours\n",
      "870 \t\tcollapse 0.10 mins\t\tcumulative time is 0.16 hours\n",
      "880 \t\tcollapse 0.09 mins\t\tcumulative time is 0.16 hours\n",
      "890 \t\tcollapse 0.07 mins\t\tcumulative time is 0.16 hours\n",
      "900 \t\tcollapse 0.11 mins\t\tcumulative time is 0.16 hours\n",
      "910 \t\tcollapse 0.10 mins\t\tcumulative time is 0.17 hours\n",
      "920 \t\tcollapse 0.09 mins\t\tcumulative time is 0.17 hours\n",
      "930 \t\tcollapse 0.09 mins\t\tcumulative time is 0.17 hours\n",
      "940 \t\tcollapse 0.11 mins\t\tcumulative time is 0.17 hours\n",
      "950 \t\tcollapse 0.09 mins\t\tcumulative time is 0.17 hours\n",
      "960 \t\tcollapse 0.13 mins\t\tcumulative time is 0.17 hours\n",
      "970 \t\tcollapse 0.06 mins\t\tcumulative time is 0.18 hours\n",
      "980 \t\tcollapse 0.09 mins\t\tcumulative time is 0.18 hours\n",
      "990 \t\tcollapse 0.09 mins\t\tcumulative time is 0.18 hours\n",
      "---** selenium으로 web에 접근 중 ... 3초 소요됩니다... **---\n",
      "Connected. spaller.cs.pusan.ac.kr/에 접속합니다.\n",
      "text 분석을 실시합니다. 1000개 text마다 결과를 기록합니다.\n",
      "0 \t\tcollapse 0.00 mins\t\tcumulative time is 0.00 mins\n",
      "10 \t\tcollapse 0.13 mins\t\tcumulative time is 0.13 mins\n",
      "20 \t\tcollapse 0.18 mins\t\tcumulative time is 0.31 mins\n",
      "30 \t\tcollapse 0.14 mins\t\tcumulative time is 0.45 mins\n",
      "40 \t\tcollapse 0.13 mins\t\tcumulative time is 0.58 mins\n",
      "50 \t\tcollapse 0.15 mins\t\tcumulative time is 0.74 mins\n",
      "60 \t\tcollapse 0.14 mins\t\tcumulative time is 0.88 mins\n",
      "70 \t\tcollapse 0.18 mins\t\tcumulative time is 0.02 hours\n",
      "80 \t\tcollapse 0.13 mins\t\tcumulative time is 0.02 hours\n",
      "90 \t\tcollapse 0.09 mins\t\tcumulative time is 0.02 hours\n",
      "100 \t\tcollapse 0.14 mins\t\tcumulative time is 0.02 hours\n",
      "110 \t\tcollapse 0.12 mins\t\tcumulative time is 0.03 hours\n",
      "120 \t\tcollapse 0.10 mins\t\tcumulative time is 0.03 hours\n",
      "130 \t\tcollapse 0.12 mins\t\tcumulative time is 0.03 hours\n",
      "140 \t\tcollapse 0.09 mins\t\tcumulative time is 0.03 hours\n",
      "150 \t\tcollapse 0.10 mins\t\tcumulative time is 0.03 hours\n",
      "160 \t\tcollapse 0.11 mins\t\tcumulative time is 0.03 hours\n",
      "170 \t\tcollapse 0.10 mins\t\tcumulative time is 0.04 hours\n",
      "180 \t\tcollapse 0.12 mins\t\tcumulative time is 0.04 hours\n",
      "190 \t\tcollapse 0.08 mins\t\tcumulative time is 0.04 hours\n",
      "200 \t\tcollapse 0.11 mins\t\tcumulative time is 0.04 hours\n",
      "210 \t\tcollapse 0.10 mins\t\tcumulative time is 0.04 hours\n",
      "220 \t\tcollapse 0.08 mins\t\tcumulative time is 0.04 hours\n",
      "230 \t\tcollapse 0.16 mins\t\tcumulative time is 0.05 hours\n",
      "240 \t\tcollapse 0.09 mins\t\tcumulative time is 0.05 hours\n",
      "250 \t\tcollapse 0.10 mins\t\tcumulative time is 0.05 hours\n",
      "260 \t\tcollapse 0.10 mins\t\tcumulative time is 0.05 hours\n",
      "270 \t\tcollapse 0.10 mins\t\tcumulative time is 0.05 hours\n",
      "280 \t\tcollapse 0.09 mins\t\tcumulative time is 0.05 hours\n",
      "290 \t\tcollapse 0.09 mins\t\tcumulative time is 0.06 hours\n",
      "300 \t\tcollapse 0.14 mins\t\tcumulative time is 0.06 hours\n",
      "310 \t\tcollapse 0.09 mins\t\tcumulative time is 0.06 hours\n",
      "320 \t\tcollapse 0.10 mins\t\tcumulative time is 0.06 hours\n",
      "330 \t\tcollapse 0.09 mins\t\tcumulative time is 0.06 hours\n",
      "340 \t\tcollapse 0.10 mins\t\tcumulative time is 0.06 hours\n",
      "350 \t\tcollapse 0.12 mins\t\tcumulative time is 0.07 hours\n",
      "360 \t\tcollapse 0.11 mins\t\tcumulative time is 0.07 hours\n",
      "370 \t\tcollapse 0.09 mins\t\tcumulative time is 0.07 hours\n",
      "380 \t\tcollapse 0.13 mins\t\tcumulative time is 0.07 hours\n",
      "390 \t\tcollapse 0.08 mins\t\tcumulative time is 0.07 hours\n",
      "400 \t\tcollapse 0.09 mins\t\tcumulative time is 0.07 hours\n",
      "410 \t\tcollapse 0.07 mins\t\tcumulative time is 0.08 hours\n",
      "420 \t\tcollapse 0.15 mins\t\tcumulative time is 0.08 hours\n",
      "430 \t\tcollapse 0.13 mins\t\tcumulative time is 0.08 hours\n",
      "440 \t\tcollapse 0.13 mins\t\tcumulative time is 0.08 hours\n",
      "450 \t\tcollapse 0.11 mins\t\tcumulative time is 0.08 hours\n",
      "460 \t\tcollapse 0.11 mins\t\tcumulative time is 0.09 hours\n",
      "470 \t\tcollapse 0.14 mins\t\tcumulative time is 0.09 hours\n",
      "480 \t\tcollapse 0.12 mins\t\tcumulative time is 0.09 hours\n",
      "490 \t\tcollapse 0.11 mins\t\tcumulative time is 0.09 hours\n",
      "500 \t\tcollapse 0.13 mins\t\tcumulative time is 0.10 hours\n",
      "Error: 에러 발생!\n",
      "---** selenium으로 web에 접근 중 ... 3초 소요됩니다... **---\n",
      "Connected. spaller.cs.pusan.ac.kr/에 접속합니다.\n",
      "text 분석을 실시합니다. 1000개 text마다 결과를 기록합니다.\n",
      "0 \t\tcollapse 0.00 mins\t\tcumulative time is 0.00 mins\n",
      "10 \t\tcollapse 0.15 mins\t\tcumulative time is 0.15 mins\n",
      "20 \t\tcollapse 0.11 mins\t\tcumulative time is 0.27 mins\n",
      "30 \t\tcollapse 0.11 mins\t\tcumulative time is 0.37 mins\n",
      "40 \t\tcollapse 0.20 mins\t\tcumulative time is 0.57 mins\n",
      "50 \t\tcollapse 0.11 mins\t\tcumulative time is 0.68 mins\n",
      "60 \t\tcollapse 0.13 mins\t\tcumulative time is 0.80 mins\n",
      "70 \t\tcollapse 0.12 mins\t\tcumulative time is 0.92 mins\n",
      "80 \t\tcollapse 0.12 mins\t\tcumulative time is 0.02 hours\n",
      "90 \t\tcollapse 0.17 mins\t\tcumulative time is 0.02 hours\n",
      "100 \t\tcollapse 0.24 mins\t\tcumulative time is 0.02 hours\n",
      "110 \t\tcollapse 0.10 mins\t\tcumulative time is 0.03 hours\n",
      "120 \t\tcollapse 0.10 mins\t\tcumulative time is 0.03 hours\n",
      "130 \t\tcollapse 0.11 mins\t\tcumulative time is 0.03 hours\n",
      "140 \t\tcollapse 0.11 mins\t\tcumulative time is 0.03 hours\n",
      "150 \t\tcollapse 0.10 mins\t\tcumulative time is 0.03 hours\n",
      "160 \t\tcollapse 0.09 mins\t\tcumulative time is 0.03 hours\n",
      "170 \t\tcollapse 0.10 mins\t\tcumulative time is 0.04 hours\n",
      "180 \t\tcollapse 0.13 mins\t\tcumulative time is 0.04 hours\n",
      "190 \t\tcollapse 0.12 mins\t\tcumulative time is 0.04 hours\n",
      "200 \t\tcollapse 0.11 mins\t\tcumulative time is 0.04 hours\n",
      "210 \t\tcollapse 0.15 mins\t\tcumulative time is 0.04 hours\n",
      "220 \t\tcollapse 0.14 mins\t\tcumulative time is 0.05 hours\n",
      "230 \t\tcollapse 0.14 mins\t\tcumulative time is 0.05 hours\n",
      "240 \t\tcollapse 0.11 mins\t\tcumulative time is 0.05 hours\n",
      "250 \t\tcollapse 0.08 mins\t\tcumulative time is 0.05 hours\n",
      "260 \t\tcollapse 0.10 mins\t\tcumulative time is 0.05 hours\n",
      "270 \t\tcollapse 0.09 mins\t\tcumulative time is 0.06 hours\n",
      "280 \t\tcollapse 0.09 mins\t\tcumulative time is 0.06 hours\n",
      "290 \t\tcollapse 0.11 mins\t\tcumulative time is 0.06 hours\n",
      "300 \t\tcollapse 0.17 mins\t\tcumulative time is 0.06 hours\n",
      "310 \t\tcollapse 0.08 mins\t\tcumulative time is 0.06 hours\n",
      "320 \t\tcollapse 0.10 mins\t\tcumulative time is 0.06 hours\n",
      "330 \t\tcollapse 0.08 mins\t\tcumulative time is 0.07 hours\n",
      "340 \t\tcollapse 0.10 mins\t\tcumulative time is 0.07 hours\n",
      "350 \t\tcollapse 0.10 mins\t\tcumulative time is 0.07 hours\n",
      "360 \t\tcollapse 0.13 mins\t\tcumulative time is 0.07 hours\n",
      "370 \t\tcollapse 0.13 mins\t\tcumulative time is 0.07 hours\n",
      "380 \t\tcollapse 0.19 mins\t\tcumulative time is 0.08 hours\n",
      "390 \t\tcollapse 0.10 mins\t\tcumulative time is 0.08 hours\n",
      "400 \t\tcollapse 0.10 mins\t\tcumulative time is 0.08 hours\n",
      "410 \t\tcollapse 0.07 mins\t\tcumulative time is 0.08 hours\n",
      "420 \t\tcollapse 0.11 mins\t\tcumulative time is 0.08 hours\n",
      "430 \t\tcollapse 0.08 mins\t\tcumulative time is 0.08 hours\n",
      "440 \t\tcollapse 0.09 mins\t\tcumulative time is 0.09 hours\n",
      "450 \t\tcollapse 0.16 mins\t\tcumulative time is 0.09 hours\n",
      "460 \t\tcollapse 0.13 mins\t\tcumulative time is 0.09 hours\n",
      "470 \t\tcollapse 0.10 mins\t\tcumulative time is 0.09 hours\n",
      "480 \t\tcollapse 0.18 mins\t\tcumulative time is 0.10 hours\n",
      "490 \t\tcollapse 0.22 mins\t\tcumulative time is 0.10 hours\n",
      "500 \t\tcollapse 0.11 mins\t\tcumulative time is 0.10 hours\n",
      "510 \t\tcollapse 0.10 mins\t\tcumulative time is 0.10 hours\n",
      "520 \t\tcollapse 0.10 mins\t\tcumulative time is 0.10 hours\n",
      "530 \t\tcollapse 0.09 mins\t\tcumulative time is 0.11 hours\n",
      "540 \t\tcollapse 0.10 mins\t\tcumulative time is 0.11 hours\n",
      "550 \t\tcollapse 0.39 mins\t\tcumulative time is 0.11 hours\n",
      "560 \t\tcollapse 0.11 mins\t\tcumulative time is 0.12 hours\n",
      "570 \t\tcollapse 0.13 mins\t\tcumulative time is 0.12 hours\n",
      "580 \t\tcollapse 0.15 mins\t\tcumulative time is 0.12 hours\n",
      "590 \t\tcollapse 0.12 mins\t\tcumulative time is 0.12 hours\n",
      "600 \t\tcollapse 0.10 mins\t\tcumulative time is 0.12 hours\n"
     ]
    },
    {
     "name": "stdout",
     "output_type": "stream",
     "text": [
      "610 \t\tcollapse 0.13 mins\t\tcumulative time is 0.13 hours\n",
      "620 \t\tcollapse 0.08 mins\t\tcumulative time is 0.13 hours\n",
      "630 \t\tcollapse 0.09 mins\t\tcumulative time is 0.13 hours\n",
      "640 \t\tcollapse 0.07 mins\t\tcumulative time is 0.13 hours\n",
      "650 \t\tcollapse 0.11 mins\t\tcumulative time is 0.13 hours\n",
      "660 \t\tcollapse 0.11 mins\t\tcumulative time is 0.13 hours\n",
      "670 \t\tcollapse 0.11 mins\t\tcumulative time is 0.14 hours\n",
      "680 \t\tcollapse 0.16 mins\t\tcumulative time is 0.14 hours\n",
      "690 \t\tcollapse 0.17 mins\t\tcumulative time is 0.14 hours\n",
      "700 \t\tcollapse 0.10 mins\t\tcumulative time is 0.14 hours\n",
      "710 \t\tcollapse 0.08 mins\t\tcumulative time is 0.14 hours\n",
      "720 \t\tcollapse 0.07 mins\t\tcumulative time is 0.15 hours\n",
      "730 \t\tcollapse 0.07 mins\t\tcumulative time is 0.15 hours\n",
      "740 \t\tcollapse 0.07 mins\t\tcumulative time is 0.15 hours\n",
      "750 \t\tcollapse 0.11 mins\t\tcumulative time is 0.15 hours\n",
      "760 \t\tcollapse 0.08 mins\t\tcumulative time is 0.15 hours\n",
      "770 \t\tcollapse 0.11 mins\t\tcumulative time is 0.15 hours\n",
      "780 \t\tcollapse 0.09 mins\t\tcumulative time is 0.15 hours\n",
      "790 \t\tcollapse 0.12 mins\t\tcumulative time is 0.16 hours\n",
      "800 \t\tcollapse 0.16 mins\t\tcumulative time is 0.16 hours\n",
      "810 \t\tcollapse 0.09 mins\t\tcumulative time is 0.16 hours\n",
      "820 \t\tcollapse 0.12 mins\t\tcumulative time is 0.16 hours\n",
      "830 \t\tcollapse 0.10 mins\t\tcumulative time is 0.16 hours\n",
      "840 \t\tcollapse 0.11 mins\t\tcumulative time is 0.17 hours\n",
      "850 \t\tcollapse 0.11 mins\t\tcumulative time is 0.17 hours\n",
      "860 \t\tcollapse 0.13 mins\t\tcumulative time is 0.17 hours\n",
      "870 \t\tcollapse 0.19 mins\t\tcumulative time is 0.17 hours\n",
      "880 \t\tcollapse 0.12 mins\t\tcumulative time is 0.18 hours\n",
      "890 \t\tcollapse 0.08 mins\t\tcumulative time is 0.18 hours\n",
      "900 \t\tcollapse 0.10 mins\t\tcumulative time is 0.18 hours\n",
      "910 \t\tcollapse 0.09 mins\t\tcumulative time is 0.18 hours\n",
      "920 \t\tcollapse 0.08 mins\t\tcumulative time is 0.18 hours\n",
      "930 \t\tcollapse 0.09 mins\t\tcumulative time is 0.18 hours\n",
      "940 \t\tcollapse 0.08 mins\t\tcumulative time is 0.18 hours\n",
      "950 \t\tcollapse 0.07 mins\t\tcumulative time is 0.19 hours\n",
      "960 \t\tcollapse 0.14 mins\t\tcumulative time is 0.19 hours\n",
      "970 \t\tcollapse 0.14 mins\t\tcumulative time is 0.19 hours\n",
      "980 \t\tcollapse 0.11 mins\t\tcumulative time is 0.19 hours\n",
      "990 \t\tcollapse 0.09 mins\t\tcumulative time is 0.19 hours\n",
      "---** selenium으로 web에 접근 중 ... 3초 소요됩니다... **---\n",
      "Connected. spaller.cs.pusan.ac.kr/에 접속합니다.\n",
      "text 분석을 실시합니다. 1000개 text마다 결과를 기록합니다.\n",
      "0 \t\tcollapse 0.00 mins\t\tcumulative time is 0.00 mins\n",
      "10 \t\tcollapse 0.09 mins\t\tcumulative time is 0.09 mins\n",
      "20 \t\tcollapse 0.08 mins\t\tcumulative time is 0.17 mins\n",
      "30 \t\tcollapse 0.07 mins\t\tcumulative time is 0.24 mins\n",
      "Error: 에러 발생!\n",
      "---** selenium으로 web에 접근 중 ... 3초 소요됩니다... **---\n",
      "Connected. spaller.cs.pusan.ac.kr/에 접속합니다.\n",
      "text 분석을 실시합니다. 1000개 text마다 결과를 기록합니다.\n",
      "0 \t\tcollapse 0.00 mins\t\tcumulative time is 0.00 mins\n",
      "Error: 에러 발생!\n",
      "---** selenium으로 web에 접근 중 ... 3초 소요됩니다... **---\n",
      "Connected. spaller.cs.pusan.ac.kr/에 접속합니다.\n",
      "text 분석을 실시합니다. 1000개 text마다 결과를 기록합니다.\n",
      "0 \t\tcollapse 0.00 mins\t\tcumulative time is 0.00 mins\n",
      "Error: 에러 발생!\n",
      "---** selenium으로 web에 접근 중 ... 3초 소요됩니다... **---\n",
      "Connected. spaller.cs.pusan.ac.kr/에 접속합니다.\n",
      "text 분석을 실시합니다. 1000개 text마다 결과를 기록합니다.\n",
      "0 \t\tcollapse 0.00 mins\t\tcumulative time is 0.00 mins\n",
      "Error: 에러 발생!\n",
      "---** selenium으로 web에 접근 중 ... 3초 소요됩니다... **---\n",
      "Connected. spaller.cs.pusan.ac.kr/에 접속합니다.\n",
      "text 분석을 실시합니다. 1000개 text마다 결과를 기록합니다.\n",
      "0 \t\tcollapse 0.00 mins\t\tcumulative time is 0.00 mins\n",
      "10 \t\tcollapse 0.34 mins\t\tcumulative time is 0.34 mins\n",
      "20 \t\tcollapse 0.38 mins\t\tcumulative time is 0.72 mins\n",
      "30 \t\tcollapse 0.20 mins\t\tcumulative time is 0.92 mins\n",
      "40 \t\tcollapse 0.15 mins\t\tcumulative time is 0.02 hours\n",
      "50 \t\tcollapse 0.13 mins\t\tcumulative time is 0.02 hours\n",
      "60 \t\tcollapse 0.10 mins\t\tcumulative time is 0.02 hours\n",
      "70 \t\tcollapse 0.11 mins\t\tcumulative time is 0.02 hours\n",
      "80 \t\tcollapse 0.08 mins\t\tcumulative time is 0.02 hours\n",
      "90 \t\tcollapse 0.12 mins\t\tcumulative time is 0.03 hours\n",
      "100 \t\tcollapse 0.09 mins\t\tcumulative time is 0.03 hours\n",
      "110 \t\tcollapse 0.10 mins\t\tcumulative time is 0.03 hours\n",
      "120 \t\tcollapse 0.11 mins\t\tcumulative time is 0.03 hours\n",
      "130 \t\tcollapse 0.08 mins\t\tcumulative time is 0.03 hours\n",
      "140 \t\tcollapse 0.10 mins\t\tcumulative time is 0.03 hours\n",
      "150 \t\tcollapse 0.11 mins\t\tcumulative time is 0.04 hours\n",
      "160 \t\tcollapse 0.11 mins\t\tcumulative time is 0.04 hours\n",
      "170 \t\tcollapse 0.10 mins\t\tcumulative time is 0.04 hours\n",
      "180 \t\tcollapse 0.10 mins\t\tcumulative time is 0.04 hours\n",
      "190 \t\tcollapse 0.08 mins\t\tcumulative time is 0.04 hours\n",
      "200 \t\tcollapse 0.10 mins\t\tcumulative time is 0.04 hours\n",
      "210 \t\tcollapse 0.12 mins\t\tcumulative time is 0.05 hours\n",
      "220 \t\tcollapse 0.11 mins\t\tcumulative time is 0.05 hours\n",
      "230 \t\tcollapse 0.10 mins\t\tcumulative time is 0.05 hours\n",
      "240 \t\tcollapse 0.09 mins\t\tcumulative time is 0.05 hours\n",
      "250 \t\tcollapse 0.08 mins\t\tcumulative time is 0.05 hours\n",
      "260 \t\tcollapse 0.09 mins\t\tcumulative time is 0.05 hours\n",
      "270 \t\tcollapse 0.13 mins\t\tcumulative time is 0.06 hours\n",
      "280 \t\tcollapse 0.14 mins\t\tcumulative time is 0.06 hours\n",
      "290 \t\tcollapse 0.08 mins\t\tcumulative time is 0.06 hours\n",
      "300 \t\tcollapse 0.13 mins\t\tcumulative time is 0.06 hours\n",
      "310 \t\tcollapse 0.12 mins\t\tcumulative time is 0.06 hours\n",
      "320 \t\tcollapse 0.10 mins\t\tcumulative time is 0.07 hours\n",
      "330 \t\tcollapse 0.11 mins\t\tcumulative time is 0.07 hours\n",
      "340 \t\tcollapse 0.10 mins\t\tcumulative time is 0.07 hours\n",
      "350 \t\tcollapse 0.21 mins\t\tcumulative time is 0.07 hours\n",
      "360 \t\tcollapse 0.12 mins\t\tcumulative time is 0.08 hours\n",
      "370 \t\tcollapse 0.10 mins\t\tcumulative time is 0.08 hours\n",
      "380 \t\tcollapse 0.12 mins\t\tcumulative time is 0.08 hours\n",
      "390 \t\tcollapse 0.10 mins\t\tcumulative time is 0.08 hours\n",
      "400 \t\tcollapse 0.23 mins\t\tcumulative time is 0.08 hours\n",
      "410 \t\tcollapse 0.18 mins\t\tcumulative time is 0.09 hours\n",
      "420 \t\tcollapse 0.13 mins\t\tcumulative time is 0.09 hours\n",
      "430 \t\tcollapse 0.10 mins\t\tcumulative time is 0.09 hours\n",
      "440 \t\tcollapse 0.10 mins\t\tcumulative time is 0.09 hours\n",
      "450 \t\tcollapse 0.13 mins\t\tcumulative time is 0.10 hours\n",
      "460 \t\tcollapse 0.12 mins\t\tcumulative time is 0.10 hours\n",
      "470 \t\tcollapse 0.12 mins\t\tcumulative time is 0.10 hours\n",
      "480 \t\tcollapse 0.14 mins\t\tcumulative time is 0.10 hours\n",
      "490 \t\tcollapse 0.12 mins\t\tcumulative time is 0.10 hours\n",
      "500 \t\tcollapse 0.15 mins\t\tcumulative time is 0.11 hours\n",
      "510 \t\tcollapse 0.13 mins\t\tcumulative time is 0.11 hours\n",
      "520 \t\tcollapse 0.13 mins\t\tcumulative time is 0.11 hours\n",
      "530 \t\tcollapse 0.10 mins\t\tcumulative time is 0.11 hours\n",
      "540 \t\tcollapse 0.08 mins\t\tcumulative time is 0.11 hours\n",
      "550 \t\tcollapse 0.18 mins\t\tcumulative time is 0.12 hours\n",
      "560 \t\tcollapse 0.11 mins\t\tcumulative time is 0.12 hours\n",
      "570 \t\tcollapse 0.16 mins\t\tcumulative time is 0.12 hours\n",
      "580 \t\tcollapse 0.14 mins\t\tcumulative time is 0.12 hours\n",
      "590 \t\tcollapse 0.11 mins\t\tcumulative time is 0.13 hours\n",
      "600 \t\tcollapse 0.11 mins\t\tcumulative time is 0.13 hours\n",
      "610 \t\tcollapse 0.10 mins\t\tcumulative time is 0.13 hours\n",
      "620 \t\tcollapse 0.16 mins\t\tcumulative time is 0.13 hours\n",
      "630 \t\tcollapse 0.08 mins\t\tcumulative time is 0.13 hours\n",
      "640 \t\tcollapse 0.11 mins\t\tcumulative time is 0.13 hours\n",
      "650 \t\tcollapse 0.10 mins\t\tcumulative time is 0.14 hours\n",
      "660 \t\tcollapse 0.08 mins\t\tcumulative time is 0.14 hours\n",
      "670 \t\tcollapse 0.13 mins\t\tcumulative time is 0.14 hours\n",
      "680 \t\tcollapse 0.13 mins\t\tcumulative time is 0.14 hours\n",
      "690 \t\tcollapse 0.15 mins\t\tcumulative time is 0.14 hours\n",
      "700 \t\tcollapse 0.15 mins\t\tcumulative time is 0.15 hours\n",
      "710 \t\tcollapse 0.10 mins\t\tcumulative time is 0.15 hours\n",
      "720 \t\tcollapse 0.07 mins\t\tcumulative time is 0.15 hours\n",
      "730 \t\tcollapse 0.11 mins\t\tcumulative time is 0.15 hours\n",
      "740 \t\tcollapse 0.07 mins\t\tcumulative time is 0.15 hours\n",
      "750 \t\tcollapse 0.08 mins\t\tcumulative time is 0.15 hours\n",
      "760 \t\tcollapse 0.12 mins\t\tcumulative time is 0.16 hours\n",
      "770 \t\tcollapse 0.08 mins\t\tcumulative time is 0.16 hours\n",
      "780 \t\tcollapse 0.16 mins\t\tcumulative time is 0.16 hours\n",
      "790 \t\tcollapse 0.14 mins\t\tcumulative time is 0.16 hours\n",
      "800 \t\tcollapse 0.07 mins\t\tcumulative time is 0.16 hours\n",
      "810 \t\tcollapse 0.13 mins\t\tcumulative time is 0.17 hours\n",
      "820 \t\tcollapse 0.10 mins\t\tcumulative time is 0.17 hours\n",
      "830 \t\tcollapse 0.09 mins\t\tcumulative time is 0.17 hours\n",
      "840 \t\tcollapse 0.11 mins\t\tcumulative time is 0.17 hours\n",
      "850 \t\tcollapse 0.09 mins\t\tcumulative time is 0.17 hours\n",
      "860 \t\tcollapse 0.11 mins\t\tcumulative time is 0.17 hours\n",
      "870 \t\tcollapse 0.10 mins\t\tcumulative time is 0.18 hours\n",
      "880 \t\tcollapse 0.08 mins\t\tcumulative time is 0.18 hours\n",
      "890 \t\tcollapse 0.09 mins\t\tcumulative time is 0.18 hours\n",
      "900 \t\tcollapse 0.15 mins\t\tcumulative time is 0.18 hours\n",
      "910 \t\tcollapse 0.11 mins\t\tcumulative time is 0.18 hours\n",
      "920 \t\tcollapse 0.07 mins\t\tcumulative time is 0.18 hours\n",
      "930 \t\tcollapse 0.10 mins\t\tcumulative time is 0.19 hours\n",
      "940 \t\tcollapse 0.09 mins\t\tcumulative time is 0.19 hours\n",
      "950 \t\tcollapse 0.10 mins\t\tcumulative time is 0.19 hours\n",
      "960 \t\tcollapse 0.08 mins\t\tcumulative time is 0.19 hours\n",
      "970 \t\tcollapse 0.09 mins\t\tcumulative time is 0.19 hours\n",
      "980 \t\tcollapse 0.10 mins\t\tcumulative time is 0.19 hours\n",
      "990 \t\tcollapse 0.10 mins\t\tcumulative time is 0.19 hours\n"
     ]
    }
   ],
   "source": [
    "ix = 1000\n",
    "result = {}\n",
    "is_transformed = {}\n",
    "result[0] = res\n",
    "is_transformed[0] = is_transform\n",
    "for i in range(1, 11):\n",
    "    res1, is_transform1 = spallcheck_using_pusan(reviews[ix*i:ix*(i+1)], num=10)\n",
    "    result[i] = res1\n",
    "    is_transformed[i] = is_transform1"
   ]
  },
  {
   "cell_type": "code",
   "execution_count": null,
   "metadata": {},
   "outputs": [],
   "source": []
  },
  {
   "cell_type": "code",
   "execution_count": null,
   "metadata": {},
   "outputs": [],
   "source": []
  },
  {
   "cell_type": "code",
   "execution_count": null,
   "metadata": {},
   "outputs": [],
   "source": []
  },
  {
   "cell_type": "code",
   "execution_count": null,
   "metadata": {},
   "outputs": [],
   "source": []
  },
  {
   "cell_type": "code",
   "execution_count": 405,
   "metadata": {},
   "outputs": [
    {
     "name": "stdout",
     "output_type": "stream",
     "text": [
      "---** selenium으로 web에 접근 중 ... 3초 소요됩니다... **---\n",
      "Connected. spaller.cs.pusan.ac.kr/에 접속합니다.\n",
      "text 분석을 실시합니다. 1000개 text마다 결과를 기록합니다.\n",
      "0 \t\tcollapse 0.00 mins\t\tcumulative time is 0.00 mins\n",
      "10 \t\tcollapse 0.18 mins\t\tcumulative time is 0.18 mins\n",
      "20 \t\tcollapse 0.10 mins\t\tcumulative time is 0.29 mins\n",
      "30 \t\tcollapse 0.10 mins\t\tcumulative time is 0.39 mins\n",
      "40 \t\tcollapse 0.15 mins\t\tcumulative time is 0.54 mins\n",
      "50 \t\tcollapse 0.12 mins\t\tcumulative time is 0.66 mins\n",
      "60 \t\tcollapse 0.13 mins\t\tcumulative time is 0.80 mins\n",
      "70 \t\tcollapse 0.11 mins\t\tcumulative time is 0.90 mins\n",
      "80 \t\tcollapse 0.11 mins\t\tcumulative time is 0.02 hours\n",
      "90 \t\tcollapse 0.13 mins\t\tcumulative time is 0.02 hours\n",
      "Wall time: 1min 19s\n"
     ]
    }
   ],
   "source": [
    "%time res, is_transform = spallcheck_using_pusan(reviews[:100])"
   ]
  },
  {
   "cell_type": "code",
   "execution_count": 406,
   "metadata": {},
   "outputs": [
    {
     "name": "stdout",
     "output_type": "stream",
     "text": [
      "---** selenium으로 web에 접근 중 ... 3초 소요됩니다... **---\n",
      "Connected. spaller.cs.pusan.ac.kr/에 접속합니다.\n",
      "text 분석을 실시합니다. 1000개 text마다 결과를 기록합니다.\n",
      "0 \t\tcollapse 0.00 mins\t\tcumulative time is 0.00 mins\n",
      "Wall time: 42.1 s\n"
     ]
    }
   ],
   "source": [
    "%time res, is_transform = spallcheck_using_pusan(reviews10[:10])"
   ]
  },
  {
   "cell_type": "code",
   "execution_count": 409,
   "metadata": {},
   "outputs": [
    {
     "name": "stdout",
     "output_type": "stream",
     "text": [
      "---** selenium으로 web에 접근 중 ... 3초 소요됩니다... **---\n",
      "Connected. spaller.cs.pusan.ac.kr/에 접속합니다.\n",
      "text 분석을 실시합니다. 1000개 text마다 결과를 기록합니다.\n",
      "0 \t\tcollapse 0.00 mins\t\tcumulative time is 0.00 mins\n",
      "Wall time: 27.1 s\n"
     ]
    }
   ],
   "source": [
    "%time res, is_transform = spallcheck_using_pusan(reviews50[:2])"
   ]
  },
  {
   "cell_type": "code",
   "execution_count": 478,
   "metadata": {},
   "outputs": [
    {
     "name": "stdout",
     "output_type": "stream",
     "text": [
      "---** selenium으로 web에 접근 중 ... 3초 소요됩니다... **---\n",
      "Connected. spaller.cs.pusan.ac.kr/에 접속합니다.\n",
      "text 분석을 실시합니다. 1000개 text마다 결과를 기록합니다.\n",
      "0 \t\tcollapse 0.00 mins\t\tcumulative time is 0.00 mins\n",
      "Wall time: 42 s\n"
     ]
    }
   ],
   "source": [
    "%time res, is_transform = spallcheck_using_pusan(reviews100[:1])"
   ]
  },
  {
   "cell_type": "code",
   "execution_count": 491,
   "metadata": {},
   "outputs": [
    {
     "data": {
      "text/plain": [
       "162239"
      ]
     },
     "execution_count": 491,
     "metadata": {},
     "output_type": "execute_result"
    }
   ],
   "source": [
    "len(reviews20)"
   ]
  },
  {
   "cell_type": "code",
   "execution_count": 493,
   "metadata": {},
   "outputs": [],
   "source": [
    "reviews200 = []\n",
    "iters = list(map(lambda x : x+'\\n', reviews))\n",
    "res = ''\n",
    "for ix, text in enumerate(iters):\n",
    "    res += text\n",
    "    if (ix + 1) % 200 == 0:\n",
    "        reviews20.append(res)\n",
    "        res = ''"
   ]
  },
  {
   "cell_type": "code",
   "execution_count": 494,
   "metadata": {},
   "outputs": [
    {
     "data": {
      "text/plain": [
       "16223"
      ]
     },
     "execution_count": 494,
     "metadata": {},
     "output_type": "execute_result"
    }
   ],
   "source": [
    "len(reviews200)"
   ]
  },
  {
   "cell_type": "code",
   "execution_count": 501,
   "metadata": {},
   "outputs": [
    {
     "name": "stdout",
     "output_type": "stream",
     "text": [
      "---** selenium으로 web에 접근 중 ... 3초 소요됩니다... **---\n",
      "Connected. spaller.cs.pusan.ac.kr/에 접속합니다.\n",
      "text 분석을 실시합니다. 1000개 text마다 결과를 기록합니다.\n",
      "0 \t\tcollapse 0.02 mins\t\tcumulative time is 0.02 mins\n",
      "1 \t\tcollapse 1.40 mins\t\tcumulative time is 0.02 hours\n",
      "2 \t\tcollapse 1.22 mins\t\tcumulative time is 0.04 hours\n",
      "\n",
      "---** selenium으로 web에 접근 중 ... 3초 소요됩니다... **---\n",
      "Connected. spaller.cs.pusan.ac.kr/에 접속합니다.\n",
      "text 분석을 실시합니다. 1000개 text마다 결과를 기록합니다.\n",
      "0 \t\tcollapse 0.02 mins\t\tcumulative time is 0.02 mins\n"
     ]
    },
    {
     "ename": "NoSuchElementException",
     "evalue": "Message: no such element: Unable to locate element: {\"method\":\"css selector\",\"selector\":\"[id=\"btnRenew2\"]\"}\n  (Session info: chrome=78.0.3904.97)\n",
     "output_type": "error",
     "traceback": [
      "\u001b[1;31m---------------------------------------------------------------------------\u001b[0m",
      "\u001b[1;31mNoSuchElementException\u001b[0m                    Traceback (most recent call last)",
      "\u001b[1;32m<ipython-input-501-528b69af9ed4>\u001b[0m in \u001b[0;36m<module>\u001b[1;34m\u001b[0m\n\u001b[0;32m      1\u001b[0m \u001b[0mresult\u001b[0m \u001b[1;33m=\u001b[0m \u001b[1;33m[\u001b[0m\u001b[1;33m]\u001b[0m\u001b[1;33m\u001b[0m\u001b[1;33m\u001b[0m\u001b[0m\n\u001b[0;32m      2\u001b[0m \u001b[1;32mfor\u001b[0m \u001b[0mi\u001b[0m \u001b[1;32min\u001b[0m \u001b[0mrange\u001b[0m\u001b[1;33m(\u001b[0m\u001b[1;36m3\u001b[0m\u001b[1;33m,\u001b[0m \u001b[1;36m16223\u001b[0m\u001b[1;33m,\u001b[0m \u001b[1;36m3\u001b[0m\u001b[1;33m)\u001b[0m\u001b[1;33m:\u001b[0m\u001b[1;33m\u001b[0m\u001b[1;33m\u001b[0m\u001b[0m\n\u001b[1;32m----> 3\u001b[1;33m     \u001b[0mres\u001b[0m\u001b[1;33m,\u001b[0m \u001b[0m_\u001b[0m \u001b[1;33m=\u001b[0m \u001b[0mspallcheck_using_pusan\u001b[0m\u001b[1;33m(\u001b[0m\u001b[0mreviews200\u001b[0m\u001b[1;33m[\u001b[0m\u001b[0mi\u001b[0m\u001b[1;33m-\u001b[0m\u001b[1;36m3\u001b[0m\u001b[1;33m:\u001b[0m\u001b[0mi\u001b[0m\u001b[1;33m]\u001b[0m\u001b[1;33m)\u001b[0m\u001b[1;33m\u001b[0m\u001b[1;33m\u001b[0m\u001b[0m\n\u001b[0m\u001b[0;32m      4\u001b[0m     \u001b[0mresult\u001b[0m\u001b[1;33m.\u001b[0m\u001b[0mextend\u001b[0m\u001b[1;33m(\u001b[0m\u001b[0mres\u001b[0m\u001b[1;33m)\u001b[0m\u001b[1;33m\u001b[0m\u001b[1;33m\u001b[0m\u001b[0m\n\u001b[0;32m      5\u001b[0m     \u001b[0mprint\u001b[0m\u001b[1;33m(\u001b[0m\u001b[1;33m)\u001b[0m\u001b[1;33m\u001b[0m\u001b[1;33m\u001b[0m\u001b[0m\n",
      "\u001b[1;32m<ipython-input-497-e615f2cad3d5>\u001b[0m in \u001b[0;36mspallcheck_using_pusan\u001b[1;34m(reviews)\u001b[0m\n\u001b[0;32m     49\u001b[0m                 (time.time() - semi_start) / 60, a, b))\n\u001b[0;32m     50\u001b[0m             \u001b[0msemi_start\u001b[0m \u001b[1;33m=\u001b[0m \u001b[0mtime\u001b[0m\u001b[1;33m.\u001b[0m\u001b[0mtime\u001b[0m\u001b[1;33m(\u001b[0m\u001b[1;33m)\u001b[0m\u001b[1;33m\u001b[0m\u001b[1;33m\u001b[0m\u001b[0m\n\u001b[1;32m---> 51\u001b[1;33m         \u001b[0mchecked_text\u001b[0m\u001b[1;33m,\u001b[0m \u001b[0mtransform\u001b[0m \u001b[1;33m=\u001b[0m \u001b[0mspallcheck\u001b[0m\u001b[1;33m(\u001b[0m\u001b[0mdriver\u001b[0m\u001b[1;33m,\u001b[0m \u001b[0mtext\u001b[0m\u001b[1;33m)\u001b[0m\u001b[1;33m\u001b[0m\u001b[1;33m\u001b[0m\u001b[0m\n\u001b[0m\u001b[0;32m     52\u001b[0m         \u001b[0mres\u001b[0m\u001b[1;33m.\u001b[0m\u001b[0mappend\u001b[0m\u001b[1;33m(\u001b[0m\u001b[0mchecked_text\u001b[0m\u001b[1;33m)\u001b[0m\u001b[1;33m\u001b[0m\u001b[1;33m\u001b[0m\u001b[0m\n\u001b[0;32m     53\u001b[0m         \u001b[0mis_transform\u001b[0m\u001b[1;33m.\u001b[0m\u001b[0mappend\u001b[0m\u001b[1;33m(\u001b[0m\u001b[0mtransform\u001b[0m\u001b[1;33m)\u001b[0m\u001b[1;33m\u001b[0m\u001b[1;33m\u001b[0m\u001b[0m\n",
      "\u001b[1;32m<ipython-input-497-e615f2cad3d5>\u001b[0m in \u001b[0;36mspallcheck\u001b[1;34m(driver, text)\u001b[0m\n\u001b[0;32m     28\u001b[0m         \u001b[1;32melse\u001b[0m\u001b[1;33m:\u001b[0m\u001b[1;33m\u001b[0m\u001b[1;33m\u001b[0m\u001b[0m\n\u001b[0;32m     29\u001b[0m             \u001b[0mtransform\u001b[0m \u001b[1;33m=\u001b[0m \u001b[1;32mFalse\u001b[0m\u001b[1;33m\u001b[0m\u001b[1;33m\u001b[0m\u001b[0m\n\u001b[1;32m---> 30\u001b[1;33m         \u001b[0mdriver\u001b[0m\u001b[1;33m.\u001b[0m\u001b[0mfind_element_by_id\u001b[0m\u001b[1;33m(\u001b[0m\u001b[1;34m'btnRenew2'\u001b[0m\u001b[1;33m)\u001b[0m\u001b[1;33m.\u001b[0m\u001b[0mclick\u001b[0m\u001b[1;33m(\u001b[0m\u001b[1;33m)\u001b[0m\u001b[1;33m\u001b[0m\u001b[1;33m\u001b[0m\u001b[0m\n\u001b[0m\u001b[0;32m     31\u001b[0m         \u001b[1;32mreturn\u001b[0m \u001b[0mchecked_text\u001b[0m\u001b[1;33m,\u001b[0m \u001b[0mtransform\u001b[0m\u001b[1;33m\u001b[0m\u001b[1;33m\u001b[0m\u001b[0m\n\u001b[0;32m     32\u001b[0m     \u001b[0mdriver\u001b[0m \u001b[1;33m=\u001b[0m \u001b[0mwebdriver\u001b[0m\u001b[1;33m.\u001b[0m\u001b[0mChrome\u001b[0m\u001b[1;33m(\u001b[0m\u001b[1;34m'C:/research_persona/Crawler/chromedriver'\u001b[0m\u001b[1;33m)\u001b[0m\u001b[1;33m\u001b[0m\u001b[1;33m\u001b[0m\u001b[0m\n",
      "\u001b[1;32mC:\\ProgramData\\Anaconda3\\envs\\keras\\lib\\site-packages\\selenium\\webdriver\\remote\\webdriver.py\u001b[0m in \u001b[0;36mfind_element_by_id\u001b[1;34m(self, id_)\u001b[0m\n\u001b[0;32m    358\u001b[0m             \u001b[0melement\u001b[0m \u001b[1;33m=\u001b[0m \u001b[0mdriver\u001b[0m\u001b[1;33m.\u001b[0m\u001b[0mfind_element_by_id\u001b[0m\u001b[1;33m(\u001b[0m\u001b[1;34m'foo'\u001b[0m\u001b[1;33m)\u001b[0m\u001b[1;33m\u001b[0m\u001b[1;33m\u001b[0m\u001b[0m\n\u001b[0;32m    359\u001b[0m         \"\"\"\n\u001b[1;32m--> 360\u001b[1;33m         \u001b[1;32mreturn\u001b[0m \u001b[0mself\u001b[0m\u001b[1;33m.\u001b[0m\u001b[0mfind_element\u001b[0m\u001b[1;33m(\u001b[0m\u001b[0mby\u001b[0m\u001b[1;33m=\u001b[0m\u001b[0mBy\u001b[0m\u001b[1;33m.\u001b[0m\u001b[0mID\u001b[0m\u001b[1;33m,\u001b[0m \u001b[0mvalue\u001b[0m\u001b[1;33m=\u001b[0m\u001b[0mid_\u001b[0m\u001b[1;33m)\u001b[0m\u001b[1;33m\u001b[0m\u001b[1;33m\u001b[0m\u001b[0m\n\u001b[0m\u001b[0;32m    361\u001b[0m \u001b[1;33m\u001b[0m\u001b[0m\n\u001b[0;32m    362\u001b[0m     \u001b[1;32mdef\u001b[0m \u001b[0mfind_elements_by_id\u001b[0m\u001b[1;33m(\u001b[0m\u001b[0mself\u001b[0m\u001b[1;33m,\u001b[0m \u001b[0mid_\u001b[0m\u001b[1;33m)\u001b[0m\u001b[1;33m:\u001b[0m\u001b[1;33m\u001b[0m\u001b[1;33m\u001b[0m\u001b[0m\n",
      "\u001b[1;32mC:\\ProgramData\\Anaconda3\\envs\\keras\\lib\\site-packages\\selenium\\webdriver\\remote\\webdriver.py\u001b[0m in \u001b[0;36mfind_element\u001b[1;34m(self, by, value)\u001b[0m\n\u001b[0;32m    976\u001b[0m         return self.execute(Command.FIND_ELEMENT, {\n\u001b[0;32m    977\u001b[0m             \u001b[1;34m'using'\u001b[0m\u001b[1;33m:\u001b[0m \u001b[0mby\u001b[0m\u001b[1;33m,\u001b[0m\u001b[1;33m\u001b[0m\u001b[1;33m\u001b[0m\u001b[0m\n\u001b[1;32m--> 978\u001b[1;33m             'value': value})['value']\n\u001b[0m\u001b[0;32m    979\u001b[0m \u001b[1;33m\u001b[0m\u001b[0m\n\u001b[0;32m    980\u001b[0m     \u001b[1;32mdef\u001b[0m \u001b[0mfind_elements\u001b[0m\u001b[1;33m(\u001b[0m\u001b[0mself\u001b[0m\u001b[1;33m,\u001b[0m \u001b[0mby\u001b[0m\u001b[1;33m=\u001b[0m\u001b[0mBy\u001b[0m\u001b[1;33m.\u001b[0m\u001b[0mID\u001b[0m\u001b[1;33m,\u001b[0m \u001b[0mvalue\u001b[0m\u001b[1;33m=\u001b[0m\u001b[1;32mNone\u001b[0m\u001b[1;33m)\u001b[0m\u001b[1;33m:\u001b[0m\u001b[1;33m\u001b[0m\u001b[1;33m\u001b[0m\u001b[0m\n",
      "\u001b[1;32mC:\\ProgramData\\Anaconda3\\envs\\keras\\lib\\site-packages\\selenium\\webdriver\\remote\\webdriver.py\u001b[0m in \u001b[0;36mexecute\u001b[1;34m(self, driver_command, params)\u001b[0m\n\u001b[0;32m    319\u001b[0m         \u001b[0mresponse\u001b[0m \u001b[1;33m=\u001b[0m \u001b[0mself\u001b[0m\u001b[1;33m.\u001b[0m\u001b[0mcommand_executor\u001b[0m\u001b[1;33m.\u001b[0m\u001b[0mexecute\u001b[0m\u001b[1;33m(\u001b[0m\u001b[0mdriver_command\u001b[0m\u001b[1;33m,\u001b[0m \u001b[0mparams\u001b[0m\u001b[1;33m)\u001b[0m\u001b[1;33m\u001b[0m\u001b[1;33m\u001b[0m\u001b[0m\n\u001b[0;32m    320\u001b[0m         \u001b[1;32mif\u001b[0m \u001b[0mresponse\u001b[0m\u001b[1;33m:\u001b[0m\u001b[1;33m\u001b[0m\u001b[1;33m\u001b[0m\u001b[0m\n\u001b[1;32m--> 321\u001b[1;33m             \u001b[0mself\u001b[0m\u001b[1;33m.\u001b[0m\u001b[0merror_handler\u001b[0m\u001b[1;33m.\u001b[0m\u001b[0mcheck_response\u001b[0m\u001b[1;33m(\u001b[0m\u001b[0mresponse\u001b[0m\u001b[1;33m)\u001b[0m\u001b[1;33m\u001b[0m\u001b[1;33m\u001b[0m\u001b[0m\n\u001b[0m\u001b[0;32m    322\u001b[0m             response['value'] = self._unwrap_value(\n\u001b[0;32m    323\u001b[0m                 response.get('value', None))\n",
      "\u001b[1;32mC:\\ProgramData\\Anaconda3\\envs\\keras\\lib\\site-packages\\selenium\\webdriver\\remote\\errorhandler.py\u001b[0m in \u001b[0;36mcheck_response\u001b[1;34m(self, response)\u001b[0m\n\u001b[0;32m    240\u001b[0m                 \u001b[0malert_text\u001b[0m \u001b[1;33m=\u001b[0m \u001b[0mvalue\u001b[0m\u001b[1;33m[\u001b[0m\u001b[1;34m'alert'\u001b[0m\u001b[1;33m]\u001b[0m\u001b[1;33m.\u001b[0m\u001b[0mget\u001b[0m\u001b[1;33m(\u001b[0m\u001b[1;34m'text'\u001b[0m\u001b[1;33m)\u001b[0m\u001b[1;33m\u001b[0m\u001b[1;33m\u001b[0m\u001b[0m\n\u001b[0;32m    241\u001b[0m             \u001b[1;32mraise\u001b[0m \u001b[0mexception_class\u001b[0m\u001b[1;33m(\u001b[0m\u001b[0mmessage\u001b[0m\u001b[1;33m,\u001b[0m \u001b[0mscreen\u001b[0m\u001b[1;33m,\u001b[0m \u001b[0mstacktrace\u001b[0m\u001b[1;33m,\u001b[0m \u001b[0malert_text\u001b[0m\u001b[1;33m)\u001b[0m\u001b[1;33m\u001b[0m\u001b[1;33m\u001b[0m\u001b[0m\n\u001b[1;32m--> 242\u001b[1;33m         \u001b[1;32mraise\u001b[0m \u001b[0mexception_class\u001b[0m\u001b[1;33m(\u001b[0m\u001b[0mmessage\u001b[0m\u001b[1;33m,\u001b[0m \u001b[0mscreen\u001b[0m\u001b[1;33m,\u001b[0m \u001b[0mstacktrace\u001b[0m\u001b[1;33m)\u001b[0m\u001b[1;33m\u001b[0m\u001b[1;33m\u001b[0m\u001b[0m\n\u001b[0m\u001b[0;32m    243\u001b[0m \u001b[1;33m\u001b[0m\u001b[0m\n\u001b[0;32m    244\u001b[0m     \u001b[1;32mdef\u001b[0m \u001b[0m_value_or_default\u001b[0m\u001b[1;33m(\u001b[0m\u001b[0mself\u001b[0m\u001b[1;33m,\u001b[0m \u001b[0mobj\u001b[0m\u001b[1;33m,\u001b[0m \u001b[0mkey\u001b[0m\u001b[1;33m,\u001b[0m \u001b[0mdefault\u001b[0m\u001b[1;33m)\u001b[0m\u001b[1;33m:\u001b[0m\u001b[1;33m\u001b[0m\u001b[1;33m\u001b[0m\u001b[0m\n",
      "\u001b[1;31mNoSuchElementException\u001b[0m: Message: no such element: Unable to locate element: {\"method\":\"css selector\",\"selector\":\"[id=\"btnRenew2\"]\"}\n  (Session info: chrome=78.0.3904.97)\n"
     ]
    }
   ],
   "source": [
    "result = []\n",
    "for i in range(3, 16223, 3):\n",
    "    res, _ = spallcheck_using_pusan(reviews200[i-3:i])\n",
    "    result.extend(res)\n",
    "    print()"
   ]
  },
  {
   "cell_type": "code",
   "execution_count": 503,
   "metadata": {},
   "outputs": [],
   "source": [
    "pool = Pool(processes=4)"
   ]
  },
  {
   "cell_type": "code",
   "execution_count": null,
   "metadata": {},
   "outputs": [],
   "source": [
    "result = pool.map(spallcheck_using_pusan, reviews200[:4])"
   ]
  },
  {
   "cell_type": "code",
   "execution_count": null,
   "metadata": {},
   "outputs": [],
   "source": []
  }
 ],
 "metadata": {
  "kernelspec": {
   "display_name": "Python 3",
   "language": "python",
   "name": "python3"
  },
  "language_info": {
   "codemirror_mode": {
    "name": "ipython",
    "version": 3
   },
   "file_extension": ".py",
   "mimetype": "text/x-python",
   "name": "python",
   "nbconvert_exporter": "python",
   "pygments_lexer": "ipython3",
   "version": "3.6.9"
  }
 },
 "nbformat": 4,
 "nbformat_minor": 2
}
