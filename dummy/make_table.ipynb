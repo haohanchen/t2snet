{
 "cells": [
  {
   "cell_type": "code",
   "execution_count": 1,
   "metadata": {},
   "outputs": [],
   "source": [
    "import numpy as np\n",
    "import pandas as pd\n",
    "import matplotlib.pyplot as plt\n",
    "%matplotlib inline\n",
    "\n",
    "import json\n",
    "import os\n",
    "import pickle\n",
    "import sys\n",
    "\n",
    "from konlpy.tag import Kkma, Okt\n",
    "import gc\n",
    "\n",
    "import re\n",
    "from sklearn.feature_extraction.text import CountVectorizer\n",
    "\n",
    "from collections import defaultdict"
   ]
  },
  {
   "cell_type": "code",
   "execution_count": 2,
   "metadata": {},
   "outputs": [],
   "source": [
    "from ksenticnet_kaist import *\n",
    "\n",
    "ksenticnet = get_ksenticnet()\n",
    "\n",
    "keys = list(ksenticnet.keys())\n",
    "senticvals = [[float(i) for i in val[:4]] for val in  ksenticnet.values()]\n",
    "sentiments = []\n",
    "polarity = []\n",
    "semantics = []\n",
    "for key, val in ksenticnet.items():\n",
    "    for i in val[4:]:\n",
    "        if i in ['positive', 'negative']:\n",
    "            polar_ind = val.index(i)\n",
    "            sentiments.append(val[4 : polar_ind])\n",
    "            polarity.append(val[polar_ind : polar_ind+2])\n",
    "            semantics.append(val[polar_ind+2 :])\n",
    "            break\n",
    "\n",
    "ksenticnets = defaultdict(dict)\n",
    "for key, val, senti, p, seman in zip(keys, \n",
    "                                     senticvals, \n",
    "                                     sentiments, \n",
    "                                     polarity, \n",
    "                                     semantics):\n",
    "    ksenticnets[key]['sentic_value'] = val\n",
    "    ksenticnets[key]['sentiment'] = senti\n",
    "    ksenticnets[key]['polarity'] = p\n",
    "    ksenticnets[key]['semantic'] = seman\n",
    "\n",
    "f = lambda x : [i if i > 0 else 0 for i in x]\n",
    "g = lambda x : [abs(i) if i < 0 else 0 for i in x]\n",
    "scores = np.array(list(map(lambda x : f(x) + g(x), senticvals)))\n",
    "scores /= scores.sum(axis=1).reshape(-1, 1)\n",
    "\n",
    "class KSenticNet():\n",
    "    keys = {j : i for i, j in  enumerate(keys)}\n",
    "    scores = scores"
   ]
  },
  {
   "cell_type": "code",
   "execution_count": 3,
   "metadata": {},
   "outputs": [],
   "source": [
    "MAX_VOCAB_SIZE = 50000\n",
    "\n",
    "def sampleFromDirichlet(alpha):\n",
    "    return np.random.dirichlet(alpha)\n",
    "\n",
    "def sampleFromCategorical(theta):\n",
    "    theta = theta / np.sum(theta)\n",
    "    return np.random.multinomial(1, theta).argmax()\n",
    "\n",
    "def word_indices(wordOccurenceVec):\n",
    "    for idx in wordOccurenceVec.nonzero()[0]:\n",
    "        for i in range(int(wordOccurenceVec[idx])):\n",
    "            yield idx\n",
    "            \n",
    "class KSenticNet():\n",
    "    keys = {j : i for i, j in  enumerate(keys)}\n",
    "    scores = scores\n",
    "    \n",
    "class SentimentLDAGibbsSampler:\n",
    "    \n",
    "    def __init__(self, numTopics, alpha, beta, gamma, numSentiments=2):\n",
    "        self.alpha = alpha\n",
    "        self.beta = beta\n",
    "        self.gamma = gamma\n",
    "        self.numTopics = numTopics\n",
    "        self.numSentiments = numSentiments\n",
    "        \n",
    "    def processSingleReview(self, review, st, d=None, stopwords=None):\n",
    "        letters_only = re.sub('[^ㄱ-하-ㅣ가-힣]', ' ', review).strip()\n",
    "        if not stopwords:\n",
    "            stops = list('의가이은을로들는좀잘걍과도를자에와한것') + ['으로', '하다']\n",
    "        else:\n",
    "            stops = stopwords\n",
    "        words = st.morphs(letters_only, stem=True, norm=True)\n",
    "        meaningful_words = [w for w in words if w not in stops]\n",
    "        return ' '.join(meaningful_words)\n",
    "    \n",
    "    def processReviews(self, reviews, st, saveAs=None, saveOverride=False, \n",
    "                       do_preprocess=True, return_processed_review=False):\n",
    "        import os\n",
    "        import dill\n",
    "        if not saveOverride and saveAs and os.path.isfile(saveAs):\n",
    "            [wordOccurenceMatrix, self.vectorizer] = dill.load(open(saveAs, 'r'))\n",
    "            return wordOccurenceMatrix\n",
    "        if do_preprocess:\n",
    "            processed_reviews = []\n",
    "            for i, review in enumerate(reviews):\n",
    "                if (i + 1) % 10000 == 0:\n",
    "                    print(' Review {} of {}'.format(i + 1, len(reviews)))\n",
    "                processed_reviews.append(self.processSingleReview(review, st, i))\n",
    "        else:\n",
    "            processed_reviews = reviews\n",
    "        if return_processed_review:\n",
    "            return processed_reviews\n",
    "        self.vectorizer = CountVectorizer(analyzer='word',\n",
    "                                          tokenizer=None,\n",
    "                                          preprocessor=None,\n",
    "                                          max_features=MAX_VOCAB_SIZE)\n",
    "        train_data_features = self.vectorizer.fit_transform(processed_reviews)\n",
    "        wordOccurenceMatrix = train_data_features\n",
    "        if saveAs:\n",
    "            dill.dump([wordOccurenceMatrix, self.vectorizer], open(saveAs, 'w'))\n",
    "        return wordOccurenceMatrix\n",
    "    \n",
    "    def _initialize_(self, reviews, st, saveAs=None, saveOverride=False, do_preprocess=True):\n",
    "        self.wordOccurenceMatrix = self.processReviews(reviews, st, saveAs, saveOverride, do_preprocess)\n",
    "        numDocs, vocabSize = self.wordOccurenceMatrix.shape\n",
    "        \n",
    "        # Pseudocounts\n",
    "        self.n_dt = np.zeros((numDocs, self.numTopics))\n",
    "        self.n_dts = np.zeros((numDocs, self.numTopics, self.numSentiments))\n",
    "        self.n_d = np.zeros((numDocs))\n",
    "        self.n_vts = np.zeros((vocabSize, self.numTopics, self.numSentiments))\n",
    "        self.n_ts = np.zeros((self.numTopics, self.numSentiments))\n",
    "        self.topics = {}\n",
    "        self.sentiments = {}\n",
    "        self.priorSentiment = {}\n",
    "        \n",
    "        alphaVec = self.alpha * np.ones(self.numTopics)\n",
    "        gammaVec = self.gamma * np.ones(self.numSentiments)\n",
    "        \n",
    "        print('--* KSenticNet으로 사전 확률 조작 중... *--')\n",
    "        # 감정 사전 (KSenticNEt)을 사용하여 사전 확률을 조작 중.\n",
    "        for i, word in enumerate(self.vectorizer.get_feature_names()):\n",
    "            w = KSenticNet.keys.get(word)\n",
    "            if not w: continue\n",
    "            synsets = KSenticNet.scores[w, :]\n",
    "            self.priorSentiment[i] = np.random.choice(self.numSentiments, p=synsets)\n",
    "        \n",
    "        print('--* initialize 작업 진행 중... *--')\n",
    "        for d in range(numDocs):\n",
    "            if d % 5000 == 0: print(' Doc {} of {} Reviews'.format(d, numDocs))\n",
    "            topicDistribution = sampleFromDirichlet(alphaVec)\n",
    "            sentimentDistribution = np.zeros((self.numTopics, self.numSentiments))\n",
    "            for t in range(self.numTopics):\n",
    "                sentimentDistribution[t, :] = sampleFromDirichlet(gammaVec)\n",
    "            for i, w in enumerate(word_indices(self.wordOccurenceMatrix[d, :].toarray()[0])):\n",
    "                t = sampleFromCategorical(topicDistribution)\n",
    "                s = sampleFromCategorical(sentimentDistribution[t, :])\n",
    "                \n",
    "                self.topics[(d, i)] = t\n",
    "                self.sentiments[(d, i)] = s\n",
    "                self.n_dt[d, t] += 1\n",
    "                self.n_dts[d, t, s] += 1\n",
    "                self.n_d[d] += 1\n",
    "                self.n_vts[w, t, s] += 1\n",
    "                self.n_ts[t, s] += 1\n",
    "                \n",
    "    def conditionalDistribution(self, d, v):\n",
    "        probabilites_ts = np.ones((self.numTopics, self.numSentiments))\n",
    "        firstFactor = (self.n_dt[d] + self.alpha) / \\\n",
    "                (self.n_d[d] + self.numTopics * self.alpha)\n",
    "        secondFactor = (self.n_dts[d, :, :] + self.gamma) / \\\n",
    "                (self.n_dt[d, :] + self.numSentiments * self.gamma)[:, np.newaxis]\n",
    "        thirdFactor = (self.n_vts[v, :, :] + self.beta) / \\\n",
    "                (self.n_ts + self.n_vts.shape[0] * self.beta)\n",
    "        probabilites_ts *= firstFactor[:, np.newaxis]\n",
    "        probabilites_ts *= secondFactor * thirdFactor\n",
    "        probabilites_ts /= np.sum(probabilites_ts)\n",
    "        return probabilites_ts\n",
    "                \n",
    "    def run(self, reviews, st, maxIters=30, saveAs=None, saveOverride=False, do_preprocess=True):\n",
    "        self._initialize_(reviews, st, saveAs, saveOverride, do_preprocess)\n",
    "        numDocs, vocabSize = self.wordOccurenceMatrix.shape\n",
    "        for iteration in range(maxIters):\n",
    "            gc.collect()\n",
    "            print('Starting iteration {} of {}'.format(iteration + 1, maxIters))\n",
    "            for d in range(numDocs):\n",
    "                for i, v in enumerate(word_indices(self.wordOccurenceMatrix[d, :].toarray()[0])):\n",
    "                    t = self.topics[(d, i)]\n",
    "                    s = self.sentiments[(d, i)]\n",
    "                    self.n_dt[d, t] -= 1\n",
    "                    self.n_d[d] -= 1\n",
    "                    self.n_dts[d, t, s] -= 1\n",
    "                    self.n_vts[v, t, s] -= 1\n",
    "                    self.n_ts[t, s] -= 1\n",
    "                    \n",
    "                    probabilites_ts = self.conditionalDistribution(d, v)\n",
    "                    if v in self.priorSentiment:\n",
    "                        s = self.priorSentiment[v]\n",
    "                        t = sampleFromCategorical(probabilites_ts[:, s])\n",
    "                    else:\n",
    "                        ind = sampleFromCategorical(probabilites_ts.flatten())\n",
    "                        t, s = np.unravel_index(ind, probabilites_ts.shape)\n",
    "                    \n",
    "                    self.topics[(d, i)] = t\n",
    "                    self.sentiments[(d, i)] = s\n",
    "                    self.n_dt[d, t] += 1\n",
    "                    self.n_d[d] += 1\n",
    "                    self.n_dts[d, t, s] += 1\n",
    "                    self.n_vts[v, t, s] += 1\n",
    "                    self.n_ts[t, s] += 1\n",
    "        print('Done.')"
   ]
  },
  {
   "cell_type": "markdown",
   "metadata": {},
   "source": [
    "# 앞으로 수행해야 하는 일들\n",
    "1. 데이터셋 선별 + EDA\n",
    "2. 최적의 topic 수 선별\n",
    "    - JST * 4 (maxIters; 30)\n",
    "3. JST 라벨링 성능 평가\n",
    "4. 임베딩\\*모델 별 결과 Table 정리\n",
    "5. 성능 향상 제시\n",
    "    - Hybrid System\n",
    "    - Labeling 향상도는 이번에 제시 불가능할 듯...?"
   ]
  },
  {
   "cell_type": "markdown",
   "metadata": {},
   "source": [
    "# 데이터셋 선별 + EDA"
   ]
  },
  {
   "cell_type": "code",
   "execution_count": 4,
   "metadata": {},
   "outputs": [],
   "source": [
    "# 데이터 호출 (spacing 전처리 수행 o)\n",
    "df2 = pd.read_csv('spacing_nsmc_data.csv')"
   ]
  },
  {
   "cell_type": "code",
   "execution_count": 5,
   "metadata": {},
   "outputs": [],
   "source": [
    "d_path = 'd:/naver_review/'\n",
    "review_folder = os.listdir(d_path)\n",
    "t = {}\n",
    "for ix, review_file in enumerate(review_folder):\n",
    "    with open(d_path + review_file, 'rb') as f:\n",
    "        t[ix] = json.load(f)\n",
    "t1 = pd.DataFrame.from_dict(t[0])\n",
    "t2 = pd.DataFrame.from_dict(t[1])\n",
    "t3 = pd.DataFrame.from_dict(t[2])\n",
    "t4 = pd.DataFrame.from_dict(t[3])\n",
    "t5 = pd.DataFrame.from_dict(t[4])\n",
    "t6 = pd.DataFrame.from_dict(t[5])\n",
    "\n",
    "dfnew = pd.concat((t1, t2, t3, t4, t5, t6))\n",
    "del t, t1, t2, t3, t4, t5, t6"
   ]
  },
  {
   "cell_type": "code",
   "execution_count": 6,
   "metadata": {},
   "outputs": [],
   "source": [
    "with open('spacing_253reviews.pkl', 'rb') as f:\n",
    "    reviews = pickle.load(f)"
   ]
  },
  {
   "cell_type": "code",
   "execution_count": 7,
   "metadata": {
    "scrolled": true
   },
   "outputs": [],
   "source": [
    "data1 = df2[['movie_id', 'review', 'rating']]\n",
    "data2 = pd.concat((pd.Series(dfnew['MovieCode'].values, index=range(len(dfnew))), \n",
    "                   reviews,\n",
    "                   pd.Series(dfnew['point'].values, index=range(len(dfnew)))), axis=1)\n",
    "data2.columns = ['movie_id', 'review', 'rating']"
   ]
  },
  {
   "cell_type": "code",
   "execution_count": 8,
   "metadata": {},
   "outputs": [
    {
     "data": {
      "text/plain": [
       "(14730, 1191)"
      ]
     },
     "execution_count": 8,
     "metadata": {},
     "output_type": "execute_result"
    }
   ],
   "source": [
    "data1.movie_id.nunique(), data2.movie_id.nunique()"
   ]
  },
  {
   "cell_type": "code",
   "execution_count": 9,
   "metadata": {},
   "outputs": [
    {
     "data": {
      "text/plain": [
       "set()"
      ]
     },
     "execution_count": 9,
     "metadata": {},
     "output_type": "execute_result"
    }
   ],
   "source": [
    "set(data1.movie_id.unique()).intersection(set(data2.movie_id.unique()))"
   ]
  },
  {
   "cell_type": "code",
   "execution_count": 10,
   "metadata": {},
   "outputs": [
    {
     "data": {
      "image/png": "[encoded data removed]",
      "text/plain": [
       "<Figure size 720x360 with 1 Axes>"
      ]
     },
     "metadata": {},
     "output_type": "display_data"
    }
   ],
   "source": [
    "plt.figure(figsize=(10, 5), facecolor='w')\n",
    "plt.plot(data1.groupby('movie_id').count().sort_values('review', ascending=False)['review'].values)\n",
    "plt.show()"
   ]
  },
  {
   "cell_type": "code",
   "execution_count": 11,
   "metadata": {},
   "outputs": [
    {
     "data": {
      "image/png": "[encoded data removed]",
      "text/plain": [
       "<Figure size 720x360 with 1 Axes>"
      ]
     },
     "metadata": {},
     "output_type": "display_data"
    }
   ],
   "source": [
    "plt.figure(figsize=(10, 5), facecolor='w')\n",
    "plt.plot(data2.groupby('movie_id').count().sort_values('review', ascending=False)['review'].values)\n",
    "plt.show()"
   ]
  },
  {
   "cell_type": "code",
   "execution_count": 12,
   "metadata": {},
   "outputs": [
    {
     "data": {
      "text/plain": [
       "'많이 울었습니다 화도 나고 속상하고 북한의 현실을 나라 꼭대기에 앉아있는 그 분과 그분의 추종자들도 꼭 보시길 바라는 그런 영화에요'"
      ]
     },
     "execution_count": 12,
     "metadata": {},
     "output_type": "execute_result"
    }
   ],
   "source": [
    "data2.loc[4, 'review']"
   ]
  },
  {
   "cell_type": "markdown",
   "metadata": {},
   "source": [
    "- 한글 이외의 문자 제거 전처리"
   ]
  },
  {
   "cell_type": "code",
   "execution_count": 13,
   "metadata": {},
   "outputs": [],
   "source": [
    "mr = pd.concat((data1['review'], data2['review'])).values"
   ]
  },
  {
   "cell_type": "code",
   "execution_count": 14,
   "metadata": {},
   "outputs": [],
   "source": [
    "import numpy as np\n",
    "\n",
    "Arr = np.ones((3,4))\n",
    "def foo(x):\n",
    "    return x * x + 1\n",
    "\n",
    "foo = np.vectorize(foo)  # 함수를 적용.  array에 적용가능하도록 변경. \n",
    "\n",
    "result = foo(Arr)  # Arr는 array의 이름임"
   ]
  },
  {
   "cell_type": "code",
   "execution_count": 15,
   "metadata": {},
   "outputs": [
    {
     "data": {
      "text/plain": [
       "(3, 4)"
      ]
     },
     "execution_count": 15,
     "metadata": {},
     "output_type": "execute_result"
    }
   ],
   "source": [
    "Arr.shape"
   ]
  },
  {
   "cell_type": "code",
   "execution_count": 16,
   "metadata": {},
   "outputs": [],
   "source": [
    "tt = mr[:2000].copy()"
   ]
  },
  {
   "cell_type": "code",
   "execution_count": 17,
   "metadata": {},
   "outputs": [],
   "source": [
    "def preprocess(x):\n",
    "    return re.sub('[^ㄱ-ㅎㅏ-ㅣ가-힣]', ' ', x)\n",
    "preprocess = np.vectorize(preprocess)"
   ]
  },
  {
   "cell_type": "code",
   "execution_count": 18,
   "metadata": {},
   "outputs": [
    {
     "data": {
      "text/plain": [
       "<numpy.vectorize at 0x2a2ddac4940>"
      ]
     },
     "execution_count": 18,
     "metadata": {},
     "output_type": "execute_result"
    }
   ],
   "source": [
    "preprocess"
   ]
  },
  {
   "cell_type": "code",
   "execution_count": 20,
   "metadata": {},
   "outputs": [
    {
     "name": "stdout",
     "output_type": "stream",
     "text": [
      "51.9 µs ± 1.54 µs per loop (mean ± std. dev. of 7 runs, 10000 loops each)\n",
      "36 µs ± 874 ns per loop (mean ± std. dev. of 7 runs, 10000 loops each)\n",
      "\n",
      "284 µs ± 13 µs per loop (mean ± std. dev. of 7 runs, 1000 loops each)\n",
      "250 µs ± 7.34 µs per loop (mean ± std. dev. of 7 runs, 1000 loops each)\n",
      "\n",
      "2.38 ms ± 98.9 µs per loop (mean ± std. dev. of 7 runs, 100 loops each)\n",
      "2.15 ms ± 25.9 µs per loop (mean ± std. dev. of 7 runs, 100 loops each)\n",
      "\n",
      "9.98 ms ± 368 µs per loop (mean ± std. dev. of 7 runs, 100 loops each)\n",
      "10.5 ms ± 353 µs per loop (mean ± std. dev. of 7 runs, 100 loops each)\n",
      "\n",
      "25.3 ms ± 1.53 ms per loop (mean ± std. dev. of 7 runs, 10 loops each)\n",
      "22.9 ms ± 399 µs per loop (mean ± std. dev. of 7 runs, 10 loops each)\n",
      "\n",
      "50.7 ms ± 3.24 ms per loop (mean ± std. dev. of 7 runs, 10 loops each)\n",
      "48.7 ms ± 3.18 ms per loop (mean ± std. dev. of 7 runs, 10 loops each)\n",
      "\n"
     ]
    }
   ],
   "source": [
    "for i in [5, 50, 500, 2000, 5000, 10000]:\n",
    "    tt = tt = mr[:i].copy()\n",
    "    %timeit preprocess(tt)\n",
    "    %timeit np.array(list(map(lambda x : re.sub('[^ㄱ-ㅎㅏ-ㅣ가-힣]', ' ', x), tt)))\n",
    "    print()"
   ]
  },
  {
   "cell_type": "code",
   "execution_count": 21,
   "metadata": {},
   "outputs": [
    {
     "name": "stdout",
     "output_type": "stream",
     "text": [
      "Wall time: 14.8 s\n"
     ]
    }
   ],
   "source": [
    "%time mr2 = preprocess(mr)"
   ]
  },
  {
   "cell_type": "code",
   "execution_count": 26,
   "metadata": {},
   "outputs": [
    {
     "data": {
      "text/plain": [
       "array(['전체 관람가는 아닌 것 같아요', '디렉터스 컷으로 봐서 거의  시간 짜리인데 참 흡인력 있다',\n",
       "       '태어나 처음으로 가슴 아리는 영화였다    년 이상 지났지만   생각하면 또 가슴이 아리는   황순원의 소나기에서 또 한번 느꼈던 그 느낌 ',\n",
       "       ..., '단언컨 대 올 가을 최고의 영화   장담한다   ',\n",
       "       '기대 없이 봤다가 너무 너무 반하게 된 영화  가을 감성에 딱 ',\n",
       "       '나도 모르게 눈물이 주륵주륵  가을 감성 영화  강추         너무 좋아요     '], dtype='<U528')"
      ]
     },
     "execution_count": 26,
     "metadata": {},
     "output_type": "execute_result"
    }
   ],
   "source": [
    "mr2[:len(data1)]"
   ]
  },
  {
   "cell_type": "code",
   "execution_count": 29,
   "metadata": {},
   "outputs": [
    {
     "data": {
      "text/plain": [
       "array(['감동입니다 말이 필요 없습니다 꼭 보세요 그리고 상영관을 늘려 주심 감사하겠습니다', '쩌네요 장관이구요 걸경입니다',\n",
       "       '우리 민족이 북한이 말하는 지상 낙원이 아니라 생지옥 생감옥에 지금 이 시간에도 그곳에서 고통 받고 있다는 것이 끔찍합니다',\n",
       "       ..., '좋은 영화입니다 잘 봤습니다', '역대 사형수들에 관한 영화 중 가장 재미있었다', '비처럼 젖어드는 감동'],\n",
       "      dtype='<U528')"
      ]
     },
     "execution_count": 29,
     "metadata": {},
     "output_type": "execute_result"
    }
   ],
   "source": [
    "mr2[len(data1):]"
   ]
  },
  {
   "cell_type": "code",
   "execution_count": 31,
   "metadata": {},
   "outputs": [
    {
     "data": {
      "text/plain": [
       "((712383, 3), (2532415, 3), (712383,), (2532415,))"
      ]
     },
     "execution_count": 31,
     "metadata": {},
     "output_type": "execute_result"
    }
   ],
   "source": [
    "data1.shape, data2.shape, mr2[:len(data1)].shape, mr2[len(data1):].shape"
   ]
  },
  {
   "cell_type": "code",
   "execution_count": 32,
   "metadata": {},
   "outputs": [
    {
     "name": "stderr",
     "output_type": "stream",
     "text": [
      "C:\\ProgramData\\Anaconda3\\envs\\keras\\lib\\site-packages\\ipykernel_launcher.py:1: SettingWithCopyWarning: \n",
      "A value is trying to be set on a copy of a slice from a DataFrame.\n",
      "Try using .loc[row_indexer,col_indexer] = value instead\n",
      "\n",
      "See the caveats in the documentation: http://pandas.pydata.org/pandas-docs/stable/indexing.html#indexing-view-versus-copy\n",
      "  \"\"\"Entry point for launching an IPython kernel.\n"
     ]
    }
   ],
   "source": [
    "data1['review2'] = mr2[:len(data1)]\n",
    "data2['review2'] = mr2[len(data1):]"
   ]
  },
  {
   "cell_type": "code",
   "execution_count": 35,
   "metadata": {},
   "outputs": [
    {
     "name": "stdout",
     "output_type": "stream",
     "text": [
      "Loading JIT Compiled ChatSpace Model\n"
     ]
    }
   ],
   "source": [
    "from chatspace import ChatSpace\n",
    "\n",
    "spacer = ChatSpace()"
   ]
  },
  {
   "cell_type": "code",
   "execution_count": 42,
   "metadata": {},
   "outputs": [
    {
     "data": {
      "text/plain": [
       "'너 무 보고 싶은대 상영관이 없어요 ㅠ ㅜ'"
      ]
     },
     "execution_count": 42,
     "metadata": {},
     "output_type": "execute_result"
    }
   ],
   "source": [
    "spacer.space('너 무 보고 싶은대 상영관이 없어요 ㅠ ㅜ')"
   ]
  },
  {
   "cell_type": "code",
   "execution_count": 45,
   "metadata": {},
   "outputs": [
    {
     "data": {
      "text/plain": [
       "ScriptModule(\n",
       "  (embed): ScriptModule(\n",
       "    (embedding): ScriptModule()\n",
       "  )\n",
       "  (conv): ScriptModule(\n",
       "    (conv1): ScriptModule()\n",
       "    (conv2): ScriptModule()\n",
       "    (conv3): ScriptModule()\n",
       "    (padding_1): ScriptModule()\n",
       "    (padding_2): ScriptModule()\n",
       "    (padding_3): ScriptModule()\n",
       "  )\n",
       "  (lstm): ScriptModule(\n",
       "    (lstm): ScriptModule()\n",
       "  )\n",
       "  (projection): ScriptModule(\n",
       "    (seq_fnn): ScriptModule(\n",
       "      (layer): ScriptModule()\n",
       "      (activation): ScriptModule()\n",
       "    )\n",
       "    (softmax): ScriptModule()\n",
       "  )\n",
       "  (fnn): ScriptModule(\n",
       "    (time_distributed_1): ScriptModule(\n",
       "      (layer): ScriptModule()\n",
       "      (activation): ScriptModule()\n",
       "    )\n",
       "    (time_distributed_2): ScriptModule(\n",
       "      (layer): ScriptModule()\n",
       "      (activation): ScriptModule()\n",
       "    )\n",
       "  )\n",
       "  (batch_normalization): ScriptModule()\n",
       "  (layer_normalization): ScriptModule()\n",
       ")"
      ]
     },
     "execution_count": 45,
     "metadata": {},
     "output_type": "execute_result"
    }
   ],
   "source": [
    "spacer.model"
   ]
  },
  {
   "cell_type": "markdown",
   "metadata": {},
   "source": [
    "- 맞춤법 전처리"
   ]
  },
  {
   "cell_type": "code",
   "execution_count": 47,
   "metadata": {},
   "outputs": [],
   "source": [
    "# -*- coding: utf-8 -*-\n",
    "from collections import namedtuple\n",
    "import time\n",
    "from collections import OrderedDict\n",
    "import sys\n",
    "import xml.etree.ElementTree as ET\n",
    "import requests\n",
    "\n",
    "base_url = 'https://m.search.naver.com/p/csearch/ocontent/spellchecker.nhn'\n",
    "\n",
    "_agent = requests.Session()\n",
    "PY3 = sys.version_info[0] == 3\n",
    "\n",
    "class CheckResult:\n",
    "    PASSED = 0\n",
    "    WRONG_SPELLING = 1\n",
    "    WRONG_SPACING = 2\n",
    "    AMBIGUOUS = 3\n",
    "\n",
    "def _remove_tags(text):\n",
    "    text = u'<content>{}</content>'.format(text).replace('<br>','')\n",
    "    if not PY3:\n",
    "        text = text.encode('utf-8')\n",
    "    result = ''.join(ET.fromstring(text).itertext())\n",
    "    return result\n",
    "\n",
    "# 조사와 어미도 단어로 처리함. 마땅한 영단어가 생각이 안 나서..\n",
    "_checked = namedtuple('Checked',\n",
    "    ['result', 'original', 'checked', 'errors', 'words', 'time'])\n",
    "\n",
    "class Checked(_checked):\n",
    "    def __new__(cls, result=False, original='', checked='', \n",
    "                errors=0, words=[], time=0.0):\n",
    "        return super(Checked, cls).__new__(\n",
    "            cls, result, original, checked, errors, words, time)\n",
    "\n",
    "    def as_dict(self):\n",
    "        d = {\n",
    "            'result': self.result,\n",
    "            'original': self.original,\n",
    "            'checked': self.checked,\n",
    "            'errors': self.errors,\n",
    "            'words': self.words,\n",
    "            'time': self.time,\n",
    "        }\n",
    "        return d\n",
    "    \n",
    "def spallcheck(text):\n",
    "    if isinstance(text, list):\n",
    "        result = []\n",
    "        for item in text:\n",
    "            checked = spallcheck(item)\n",
    "            result.append(checked)\n",
    "        return result\n",
    "    \n",
    "    if len(text) > 500:\n",
    "        return Checked(result=False)\n",
    "    \n",
    "    payload = {\n",
    "        '_callback':'window.__jindo2_callback._spellingCheck_0',\n",
    "        'q': text\n",
    "    }\n",
    "    headers = {\n",
    "        'user-agent':'Mozilla/5.0 (Windows NT 10.0; Win64; x64) AppleWebKit/537.36 (KHTML, like Gecko) Chrome/57.0.2987.133 Safari/537.36',\n",
    "        'referer': 'https://search.naver.com/'\n",
    "    }\n",
    "    \n",
    "    start_time = time.time()\n",
    "    r = _agent.get(base_url, params=payload, headers=headers)\n",
    "    passed_time = time.time() - start_time\n",
    "    \n",
    "    r = r.text[42:-2]\n",
    "    \n",
    "    data = json.loads(r)\n",
    "    html = data['message']['result']['html']\n",
    "    result = {\n",
    "        'result': True,\n",
    "        'original': text,\n",
    "        'checked': _remove_tags(html),\n",
    "        'errors': data['message']['result']['errata_count'],\n",
    "        'time': passed_time,\n",
    "        'words': OrderedDict(),\n",
    "    }\n",
    "    \n",
    "    # 띄어쓰기로 구분하기 위해 태그는 일단 보기 쉽게 바꿔둠.\n",
    "    # ElementTree의 iter()를 써서 더 좋게 할 수 있는 방법이 있지만\n",
    "    # 이 짧은 코드에 굳이 그렇게 할 필요성이 없으므로 일단 문자열을 치환하는 방법으로 작성.\n",
    "    html = html.replace('<span class=\\'re_green\\'>', '<green>') \\\n",
    "               .replace('<span class=\\'re_red\\'>', '<red>') \\\n",
    "               .replace('<span class=\\'re_purple\\'>', '<purple>') \\\n",
    "               .replace('</span>', '<end>')\n",
    "    items = html.split(' ')\n",
    "    words = []\n",
    "    tmp = ''\n",
    "    for word in items:\n",
    "        if tmp == '' and word[:1] == '<':\n",
    "            pos = word.find('>') + 1\n",
    "            tmp = word[:pos]\n",
    "        elif tmp != '':\n",
    "            word = u'{}{}'.format(tmp, word)\n",
    "\n",
    "        if word[-5:] == '<end>':\n",
    "            word = word.replace('<end>', '')\n",
    "            tmp = ''\n",
    "\n",
    "        words.append(word)\n",
    "        \n",
    "    for word in words:\n",
    "        check_result = CheckResult.PASSED\n",
    "        if word[:5] == '<red>':\n",
    "            check_result = CheckResult.WRONG_SPELLING\n",
    "            word = word.replace('<red>', '')\n",
    "        elif word[:7] == '<green>':\n",
    "            check_result = CheckResult.WRONG_SPACING\n",
    "            word = word.replace('<green>', '')\n",
    "        elif word[:8] == '<purple>':\n",
    "            check_result = CheckResult.AMBIGUOUS\n",
    "            word = word.replace('<purple>', '')\n",
    "\n",
    "        result['words'][word] = check_result\n",
    "\n",
    "    result = Checked(**result)\n",
    "    \n",
    "    return result"
   ]
  },
  {
   "cell_type": "code",
   "execution_count": 52,
   "metadata": {},
   "outputs": [],
   "source": [
    "ck = spallcheck(data1['review2'][0])"
   ]
  },
  {
   "cell_type": "code",
   "execution_count": 53,
   "metadata": {},
   "outputs": [
    {
     "data": {
      "text/plain": [
       "0"
      ]
     },
     "execution_count": 53,
     "metadata": {},
     "output_type": "execute_result"
    }
   ],
   "source": [
    "ck.errors"
   ]
  },
  {
   "cell_type": "code",
   "execution_count": null,
   "metadata": {},
   "outputs": [],
   "source": []
  },
  {
   "cell_type": "code",
   "execution_count": 57,
   "metadata": {},
   "outputs": [
    {
     "name": "stdout",
     "output_type": "stream",
     "text": [
      "너 무 보고 싶은대 상영관이 없어요 ㅠ ㅜ\n",
      "너 무 보고 싶은데 상영관이 없어요 ㅠ ㅜ\n"
     ]
    }
   ],
   "source": [
    "text = '너 무 보고 싶은대 상영관이 없어요 ㅠ ㅜ'\n",
    "ck = spallcheck(text)\n",
    "print(ck.original)\n",
    "print(ck.checked)"
   ]
  },
  {
   "cell_type": "code",
   "execution_count": 60,
   "metadata": {},
   "outputs": [],
   "source": [
    "from konlpy.tag import Okt, Kkma\n",
    "from eunjeon import Mecab\n",
    "\n",
    "okt = Okt()\n",
    "kkma = Kkma()\n",
    "mecab = Mecab()"
   ]
  },
  {
   "cell_type": "code",
   "execution_count": 65,
   "metadata": {},
   "outputs": [
    {
     "name": "stdout",
     "output_type": "stream",
     "text": [
      "['너', '무', '보고', '싶다', '상영', '관', '이', '없다', 'ㅠ', 'ㅜ']\n",
      "['너', '무', '보고', '싶다', '상영', '관', '이', '없다', 'ㅠ', 'ㅜ']\n",
      "\n",
      "['느', '어', '무', '보', '고', '싶', '은', '대', '상영관', '이', '없', '어요', 'ㅠ', 'ㅜ']\n",
      "['느', '어', '무', '보', '고', '싶', '은', '데', '상영관', '이', '없', '어요', 'ㅠ', 'ㅜ']\n",
      "\n",
      "['너', '무', '보', '고', '싶', '은대', '상영관', '이', '없', '어요', 'ㅠ', 'ㅜ']\n",
      "['너', '무', '보', '고', '싶', '은데', '상영관', '이', '없', '어요', 'ㅠ', 'ㅜ']\n"
     ]
    }
   ],
   "source": [
    "print(okt.morphs('너 무 보고 싶은대 상영관이 없어요 ㅠ ㅜ', norm=True, stem=True))\n",
    "print(okt.morphs('너 무 보고 싶은데 상영관이 없어요 ㅠ ㅜ', norm=True, stem=True))\n",
    "print()\n",
    "print(kkma.morphs('너 무 보고 싶은대 상영관이 없어요 ㅠ ㅜ'))\n",
    "print(kkma.morphs('너 무 보고 싶은데 상영관이 없어요 ㅠ ㅜ'))\n",
    "print()\n",
    "print(mecab.morphs('너 무 보고 싶은대 상영관이 없어요 ㅠ ㅜ'))\n",
    "print(mecab.morphs('너 무 보고 싶은데 상영관이 없어요 ㅠ ㅜ'))"
   ]
  },
  {
   "cell_type": "code",
   "execution_count": 88,
   "metadata": {},
   "outputs": [
    {
     "data": {
      "text/plain": [
       "['너무', '보다', '상영', '관', '없다', 'ㅠ', 'ㅜ']"
      ]
     },
     "execution_count": 88,
     "metadata": {},
     "output_type": "execute_result"
    }
   ],
   "source": [
    "stopwords = list('의가이은을로들는좀잘걍과도를자에와한것') + ['으로', '하다']\n",
    "[morph for morph in okt.morphs(\n",
    "    spacer.space(\n",
    "        ''.join(\n",
    "            mecab.morphs(\n",
    "                spallcheck(\n",
    "                    re.sub('[^ㄱ-ㅎㅏ-ㅣ가-힣]', ' ',\n",
    "                           '너 무 보고 싶은대 상영관이 없어요 ㅠ ㅜ'\n",
    "                          )\n",
    "                ).checked\n",
    "            )\n",
    "        )\n",
    "    ), stem=True, norm=True)\n",
    " if morph not in stopwords]"
   ]
  },
  {
   "cell_type": "code",
   "execution_count": 106,
   "metadata": {},
   "outputs": [
    {
     "name": "stdout",
     "output_type": "stream",
     "text": [
      "12.4 µs ± 353 ns per loop (mean ± std. dev. of 7 runs, 100000 loops each)\n"
     ]
    }
   ],
   "source": [
    "''.join(mecab.morphs('너 무 보고 싶은데 상관'))\n",
    "%timeit mecab.morphs('너 무 보고 싶은데 상관')"
   ]
  },
  {
   "cell_type": "code",
   "execution_count": 113,
   "metadata": {},
   "outputs": [
    {
     "name": "stdout",
     "output_type": "stream",
     "text": [
      "568 ns ± 28.3 ns per loop (mean ± std. dev. of 7 runs, 1000000 loops each)\n",
      "1.25 µs ± 87.2 ns per loop (mean ± std. dev. of 7 runs, 1000000 loops each)\n",
      "120 ns ± 3.13 ns per loop (mean ± std. dev. of 7 runs, 10000000 loops each)\n"
     ]
    }
   ],
   "source": [
    "%timeit list('너 무 보고 싶은데 상관')\n",
    "%timeit ''.join([i for i in '너 무 보고 싶은데 상관' if i != ' '])\n",
    "%timeit '너 무 보고 싶은데 상관'.replace(' ', '')"
   ]
  },
  {
   "cell_type": "code",
   "execution_count": 116,
   "metadata": {},
   "outputs": [
    {
     "name": "stdout",
     "output_type": "stream",
     "text": [
      "0: 120\n",
      "1: 140\n",
      "2: 160\n",
      "3: 180\n",
      "4: 200\n"
     ]
    }
   ],
   "source": [
    "## 우선 function 2개를 입력받아서 composite function을 만들어주는 함수를 정의하고 \n",
    "def compose2(func1, func2):## func1 first applied\n",
    "    return lambda x: func2(func1(x))\n",
    "## 순서대로 적용될 함수리스트 \n",
    "pipes = [lambda x: x+1, lambda x: x*2, lambda x: x*10]\n",
    "## reduce를 통해 함수2을 섞어서 새로운 함수를 만드는 일을 반복함\n",
    "comp_func = functools.reduce(compose2, pipes)\n",
    "for i, x in enumerate(range(5, 10)):\n",
    "    print(f\"{i}: {comp_func(x)}\")"
   ]
  },
  {
   "cell_type": "code",
   "execution_count": 222,
   "metadata": {},
   "outputs": [
    {
     "data": {
      "text/plain": [
       "array(['감동입니다 말이 필요 없습니다 꼭 보세요 그리고 상영관을 늘려 주심 감사하겠습니다', '쩌네요 장관이구요 걸경입니다',\n",
       "       '우리 민족이 북한이 말하는 지상 낙원이 아니라 생지옥 생감옥에 지금 이 시간에도 그곳에서 고통 받고 있다는 것이 끔찍합니다',\n",
       "       ..., '좋은 영화입니다 잘 봤습니다', '역대 사형수들에 관한 영화 중 가장 재미있었다', '비처럼 젖어드는 감동'],\n",
       "      dtype=object)"
      ]
     },
     "execution_count": 222,
     "metadata": {},
     "output_type": "execute_result"
    }
   ],
   "source": [
    "reviews.values"
   ]
  },
  {
   "cell_type": "code",
   "execution_count": 429,
   "metadata": {},
   "outputs": [],
   "source": [
    "# https://frhyme.github.io/python-lib/pipeline_in_python/\n",
    "\n",
    "stopwords = list('의가이은을로들는좀잘걍과도를자에그와한것다') + ['으로', '하다', '에서', '이다']\n",
    "\n",
    "def composeFuncs(func1, func2):\n",
    "    return lambda x : func2(func1(x))\n",
    "\n",
    "pipes = [lambda x : re.sub('[^ㄱ-ㅎㅏ-ㅣ가-힣]', ' ', x),\n",
    "         lambda x : spallcheck(x).checked,\n",
    "         lambda x : x.replace(' ', ''),\n",
    "         lambda x : spacer.space(x),\n",
    "         lambda x : okt.morphs(x, stem=True, norm=True),\n",
    "#          lambda x : mecab.morphs(''.join(x)),\n",
    "         lambda x : [s for s in x if s not in stopwords]]\n",
    "\n",
    "preprocessText = functools.reduce(composeFuncs, pipes)"
   ]
  },
  {
   "cell_type": "code",
   "execution_count": 430,
   "metadata": {},
   "outputs": [
    {
     "data": {
      "text/plain": [
       "['너무', '재밓었다', '그래서', '추천']"
      ]
     },
     "execution_count": 430,
     "metadata": {},
     "output_type": "execute_result"
    }
   ],
   "source": [
    "preprocessText('너무재밓었다그래서추천한다')"
   ]
  },
  {
   "cell_type": "code",
   "execution_count": 431,
   "metadata": {},
   "outputs": [
    {
     "data": {
      "text/plain": [
       "['너무', '보다', '상영', '관', '없다', 'ㅠ', 'ㅜ']"
      ]
     },
     "execution_count": 431,
     "metadata": {},
     "output_type": "execute_result"
    }
   ],
   "source": [
    "preprocessText('너 무 보고 싶은대 상영관이 없어요 ㅠ ㅜ')"
   ]
  },
  {
   "cell_type": "code",
   "execution_count": 432,
   "metadata": {},
   "outputs": [
    {
     "data": {
      "text/plain": [
       "['우리',\n",
       " '민족',\n",
       " '북한',\n",
       " '말',\n",
       " '지상',\n",
       " '낙원',\n",
       " '아니다',\n",
       " '생지옥',\n",
       " '생',\n",
       " '감옥',\n",
       " '지금',\n",
       " '시간',\n",
       " '에도',\n",
       " '곳',\n",
       " '고통',\n",
       " '받다',\n",
       " '있다',\n",
       " '끔찍하다']"
      ]
     },
     "execution_count": 432,
     "metadata": {},
     "output_type": "execute_result"
    }
   ],
   "source": [
    "preprocessText('우리 민족이 북한이 말하는 지상 낙원이 아니라 생지옥 생감옥에 지금 이 시간에도 그곳에서 고통 받고 있다는 것이 끔찍합니다')"
   ]
  },
  {
   "cell_type": "code",
   "execution_count": 433,
   "metadata": {},
   "outputs": [
    {
     "data": {
      "text/plain": [
       "['태어나다',\n",
       " '처음',\n",
       " '가슴',\n",
       " '아리다',\n",
       " '영화',\n",
       " '년',\n",
       " '이상',\n",
       " '지나다',\n",
       " '생각',\n",
       " '또',\n",
       " '가슴',\n",
       " '아리다',\n",
       " '황순원',\n",
       " '소나기',\n",
       " '또',\n",
       " '한번',\n",
       " '느끼다',\n",
       " '느낌']"
      ]
     },
     "execution_count": 433,
     "metadata": {},
     "output_type": "execute_result"
    }
   ],
   "source": [
    "preprocessText('태어나 처음으로 가슴 아리는 영화였다. 20년 이상 지났지만.. 생각하면 또 가슴이 아리는.. 황순원의 소나기에서 또 한번 느꼈던 그 느낌!')"
   ]
  },
  {
   "cell_type": "code",
   "execution_count": 436,
   "metadata": {},
   "outputs": [
    {
     "data": {
      "text/plain": [
       "array(['인생 최고의 영화. 말이 필요 없음. 감독판은 감동이 좀 덜함.',\n",
       "       '아름다운 영화 지금까지 봤던 영화 중 끝까지 감동적이었던 영화',\n",
       "       \"여지껏 내 인생에서 젤 감동인 영화~! 영화음악의 거장 '엔 리오모 리꼬 네'의 OST까지 완벽하다...\",\n",
       "       '내가 죽을 때까지 이런 명작은 나오기 힘들 것 같다.. 너무 아름답고 감동적인 영화..',\n",
       "       '내 인생 최고의 영화!! 아직까지 이 영화를 봤을 때의 감동을 잊을 수 없다.'], dtype=object)"
      ]
     },
     "execution_count": 436,
     "metadata": {},
     "output_type": "execute_result"
    }
   ],
   "source": [
    "mr5over[5:10]"
   ]
  },
  {
   "cell_type": "code",
   "execution_count": null,
   "metadata": {},
   "outputs": [],
   "source": [
    "%time reviews = list(map(lambda s : preprocessText(s), reviews))"
   ]
  },
  {
   "cell_type": "code",
   "execution_count": 440,
   "metadata": {},
   "outputs": [
    {
     "data": {
      "text/plain": [
       "[['인생', '최고', '영화', '말', '필요없다', '감독판', '감동', '덜하다'],\n",
       " ['아름답다', '영화', '지금', '까지', '보다', '영화', '중', '끝', '까지', '감동', '적', '영화'],\n",
       " ['여태껏',\n",
       "  '내',\n",
       "  '인생',\n",
       "  '젤',\n",
       "  '감동',\n",
       "  '인',\n",
       "  '영화',\n",
       "  '영화',\n",
       "  '음악',\n",
       "  '거장',\n",
       "  '엔',\n",
       "  '리오',\n",
       "  '모르꼬',\n",
       "  '네',\n",
       "  '위',\n",
       "  '까지',\n",
       "  '완벽하다'],\n",
       " ['내',\n",
       "  '죽',\n",
       "  '때',\n",
       "  '까지',\n",
       "  '이렇다',\n",
       "  '명작',\n",
       "  '나오다',\n",
       "  '힘들다',\n",
       "  '같다',\n",
       "  '너무',\n",
       "  '아름답다',\n",
       "  '감동',\n",
       "  '적',\n",
       "  '인',\n",
       "  '영화'],\n",
       " ['내', '인생', '최고', '영화', '아직', '까지', '영화', '보다', '때', '감동', '잊다', '수', '없다']]"
      ]
     },
     "execution_count": 440,
     "metadata": {},
     "output_type": "execute_result"
    }
   ],
   "source": [
    "list(map(lambda  x : preprocessText(x), mr5over[5:10]))"
   ]
  },
  {
   "cell_type": "code",
   "execution_count": null,
   "metadata": {},
   "outputs": [],
   "source": []
  },
  {
   "cell_type": "code",
   "execution_count": 401,
   "metadata": {},
   "outputs": [
    {
     "data": {
      "text/plain": [
       "['너무', '재밓었다', '그래서', '추천', '하다']"
      ]
     },
     "execution_count": 401,
     "metadata": {},
     "output_type": "execute_result"
    }
   ],
   "source": [
    "text = '너무재밓었다그래서추천한다'\n",
    "okt.morphs(spacer.space(spallcheck(re.sub('[^ㄱ-ㅎㅏ-ㅣ가-힣]', ' ', text)).checked.replace(' ', '')), stem=True, norm=True)"
   ]
  },
  {
   "cell_type": "code",
   "execution_count": 457,
   "metadata": {},
   "outputs": [],
   "source": [
    "reviews5over = pd.DataFrame(mr5over, columns=['reviews'])\n",
    "reviews5over.to_csv('reviews5over.csv', index=False)"
   ]
  },
  {
   "cell_type": "markdown",
   "metadata": {},
   "source": [
    "# 돌현아 호려라"
   ]
  },
  {
   "cell_type": "code",
   "execution_count": 450,
   "metadata": {},
   "outputs": [
    {
     "name": "stdout",
     "output_type": "stream",
     "text": [
      "Loading JIT Compiled ChatSpace Model\n"
     ]
    }
   ],
   "source": [
    "# https://frhyme.github.io/python-lib/pipeline_in_python/\n",
    "\n",
    "import re\n",
    "from chatspace import ChatSpace # Requirements;\n",
    "                                # https://lsjsj92.tistory.com/494\n",
    "                                # conda install pytorch torchvision cudatoolkit=9.0 -c python\n",
    "                                # pip install chatspace\n",
    "from konlpy.tag import Okt\n",
    "import functools\n",
    "spacer = ChatSpace()\n",
    "okt = Okt()\n",
    "\n",
    "stopwords = list('의가이은을로들는좀잘걍과도를자에그와한것다') + ['으로', '하다', '에서', '이다']\n",
    "\n",
    "def composeFuncs(func1, func2):\n",
    "    return lambda x : func2(func1(x))\n",
    "\n",
    "pipes = [lambda x : re.sub('[^ㄱ-ㅎㅏ-ㅣ가-힣]', ' ', x),\n",
    "         lambda x : spallcheck(x).checked,\n",
    "         lambda x : x.replace(' ', ''),\n",
    "         lambda x : spacer.space(x),\n",
    "         lambda x : okt.morphs(x, stem=True, norm=True),\n",
    "#          lambda x : mecab.morphs(''.join(x)),\n",
    "         lambda x : [s for s in x if s not in stopwords]]\n",
    "\n",
    "preprocessText = functools.reduce(composeFuncs, pipes)"
   ]
  },
  {
   "cell_type": "code",
   "execution_count": 458,
   "metadata": {},
   "outputs": [],
   "source": [
    "reviews5over = pd.read_csv('reviews5over.csv')"
   ]
  },
  {
   "cell_type": "code",
   "execution_count": 459,
   "metadata": {},
   "outputs": [
    {
     "data": {
      "text/html": [
       "<div>\n",
       "<style scoped>\n",
       "    .dataframe tbody tr th:only-of-type {\n",
       "        vertical-align: middle;\n",
       "    }\n",
       "\n",
       "    .dataframe tbody tr th {\n",
       "        vertical-align: top;\n",
       "    }\n",
       "\n",
       "    .dataframe thead th {\n",
       "        text-align: right;\n",
       "    }\n",
       "</style>\n",
       "<table border=\"1\" class=\"dataframe\">\n",
       "  <thead>\n",
       "    <tr style=\"text-align: right;\">\n",
       "      <th></th>\n",
       "      <th>reviews</th>\n",
       "    </tr>\n",
       "  </thead>\n",
       "  <tbody>\n",
       "    <tr>\n",
       "      <th>0</th>\n",
       "      <td>전체 관람가는 아닌 것 같아요</td>\n",
       "    </tr>\n",
       "    <tr>\n",
       "      <th>1</th>\n",
       "      <td>디렉터스 컷으로 봐서 거의 3시간 짜리인데 참 흡인력 있다</td>\n",
       "    </tr>\n",
       "    <tr>\n",
       "      <th>2</th>\n",
       "      <td>태어나 처음으로 가슴 아리는 영화였다. 20년 이상 지났지만.. 생각하면 또 가슴이...</td>\n",
       "    </tr>\n",
       "    <tr>\n",
       "      <th>3</th>\n",
       "      <td>어린시절 고딩 때 봤던 때랑 또 결혼하고 나서 봤을 때의 느낌은 확실히 다르네요. ...</td>\n",
       "    </tr>\n",
       "    <tr>\n",
       "      <th>4</th>\n",
       "      <td>토토에게 넓은 세상을 보여주고 픈 알프레도.. 그가 토토를 위해 정을 떼려고 했던 ...</td>\n",
       "    </tr>\n",
       "  </tbody>\n",
       "</table>\n",
       "</div>"
      ],
      "text/plain": [
       "                                             reviews\n",
       "0                                   전체 관람가는 아닌 것 같아요\n",
       "1                   디렉터스 컷으로 봐서 거의 3시간 짜리인데 참 흡인력 있다\n",
       "2  태어나 처음으로 가슴 아리는 영화였다. 20년 이상 지났지만.. 생각하면 또 가슴이...\n",
       "3  어린시절 고딩 때 봤던 때랑 또 결혼하고 나서 봤을 때의 느낌은 확실히 다르네요. ...\n",
       "4  토토에게 넓은 세상을 보여주고 픈 알프레도.. 그가 토토를 위해 정을 떼려고 했던 ..."
      ]
     },
     "execution_count": 459,
     "metadata": {},
     "output_type": "execute_result"
    }
   ],
   "source": [
    "reviews5over.head()"
   ]
  },
  {
   "cell_type": "code",
   "execution_count": 461,
   "metadata": {},
   "outputs": [
    {
     "data": {
      "text/plain": [
       "2468027"
      ]
     },
     "execution_count": 461,
     "metadata": {},
     "output_type": "execute_result"
    }
   ],
   "source": [
    "reviews5over.size"
   ]
  },
  {
   "cell_type": "code",
   "execution_count": 492,
   "metadata": {},
   "outputs": [
    {
     "name": "stdout",
     "output_type": "stream",
     "text": [
      "0 \t\tcollapse 0.00 mins\t\tcumulative time is 0.00 mins\n",
      "1000 \t\tcollapse 1.11 mins\t\tcumulative time is 1.11 mins\n",
      "2000 \t\tcollapse 1.06 mins\t\tcumulative time is 2.17 mins\n"
     ]
    }
   ],
   "source": [
    "import pickle\n",
    "import time\n",
    "res = []\n",
    "start, semi_start = time.time(), time.time()\n",
    "for ix, text in enumerate(reviews5over['reviews'].values):\n",
    "    # 1,000개마다 결과 출력\n",
    "    if ix % 1000 == 0:\n",
    "        print(ix, '\\t\\tcollapse {:.2f} mins\\t\\tcumulative time is {:.2f} mins'.format(\n",
    "            (time.time() - semi_start) / 60, (time.time() - start) / 60))\n",
    "        semi_start = time.time()\n",
    "    res.append(preprocessText(text))\n",
    "    # 100,000개마다 결과 저장\n",
    "    if ix % 100000 == 0:\n",
    "        with open('preprocessReview_{}'.format(ix), 'wb') as f:\n",
    "            pickle.dump(res, f, protocol=pickle.HIGHEST_PROTOCOL)\n",
    "        res = []"
   ]
  },
  {
   "cell_type": "markdown",
   "metadata": {},
   "source": [
    "---"
   ]
  },
  {
   "cell_type": "code",
   "execution_count": 406,
   "metadata": {},
   "outputs": [
    {
     "name": "stdout",
     "output_type": "stream",
     "text": [
      "['너', '무', '보고', '싶다', '상영', '관', '이', '없다', 'ㅠ', 'ㅜ']\n",
      "['너무', '보다', '상영관', '없', 'ㅠㅜ']\n",
      "['너무', '보다', '상영관', '없', 'ㅠㅜ']\n",
      "['너무', '보다', '대상', '영관', '없', 'ㅠㅜ']\n",
      "['너무', '보', '고', '싶', '상영관', '없', 'ㅠㅜ']\n",
      "['너무', '보다', '상영관', '없', 'ㅠㅜ']\n",
      "['너무', '보', '고', '싶', '은데', '상영관', '없', '어요', 'ㅠ', 'ㅜ']\n",
      "['너무', '보다', '상영관', '이', '없', '다', 'ㅠㅜ']\n",
      "['너무', '보다', '상영', '관', '없다', 'ㅠ', 'ㅜ']\n"
     ]
    }
   ],
   "source": [
    "text = '너 무 보고 싶은대 상영관이 없어요 ㅠ ㅜ'\n",
    "print(okt.morphs(spacer.space(text), stem=True, norm=True))\n",
    "print(preprocessText(text))\n",
    "print(preprocessText2(text))\n",
    "print(preprocessText3(text))\n",
    "print(preprocessText4(text))\n",
    "print(preprocessText5(text))\n",
    "print(preprocessText6(text))\n",
    "print(preprocessText7(text))\n",
    "print(preprocessText10(text))"
   ]
  },
  {
   "cell_type": "code",
   "execution_count": 410,
   "metadata": {},
   "outputs": [
    {
     "name": "stdout",
     "output_type": "stream",
     "text": [
      "['우리', '민족', '이', '북한', '이', '말', '하다', '지상', '낙원', '이', '아니다', '생지옥', '생', '감옥', '에', '지금', '이', '시간', '에도', '그', '곳', '에서', '고통', '받다', '있다', '것', '이', '끔찍하다']\n",
      "['우리', '민족', '북한', '말', '하', '지상', '낙원', '아니', '생지옥', '생', '감옥', '지금', '시간', '그곳', '고통', '받', '있', '끔찍', '하']\n",
      "['우리', '민족', '북한', '말', '하', '지상', '낙원', '아니', '생지옥', '생', '감옥', '지금', '시간', '그곳', '고통', '받', '있', '끔찍', '하']\n",
      "['우리', '민족', '북한', '말', '하', '지상', '낙원', '아니', '생지옥', '생', '감옥', '지금', '시간', '그곳', '고통', '받', '있', '끔찍', '하']\n",
      "['우리', '민족', '북한', '말', '하', '지상', '낙원', '아니', '생지옥', '생', '감옥', '지금', '시간', '그곳', '고통', '받', '있', '끔찍', '하']\n",
      "['우리', '민족', '북한', '말', '하', '지상', '낙원', '아니', '생지옥', '생', '감옥', '지금', '시간', '그곳', '고통', '받', '끔찍', '하']\n",
      "['우리', '민족', '북한', '말', '하', '지상', '낙원', '아니', '라', '생지옥', '생', '감옥', '지금', '시간', '그곳', '고통', '받', '고', '있', '다는', '끔찍', '합니다']\n",
      "['우리', '민족', '이', '북한', '이', '말', '하', '다', '지상', '낙원', '이', '아니', '다', '생지옥', '생', '감옥', '에', '지금', '이', '시간', '에', '도', '그곳', '에서', '고통', '받', '다', '있', '다', '것', '이', '끔찍', '하', '다']\n",
      "['우리', '민족', '북한', '말', '지상', '낙원', '아니다', '생지옥', '생', '감옥', '지금', '시간', '에도', '그', '곳', '고통', '받다', '있다', '끔찍하다']\n"
     ]
    }
   ],
   "source": [
    "text = '우리 민족이 북한이 말하는 지상 낙원이 아니라 생지옥 생감옥에 지금 이 시간에도 그곳에서 고통 받고 있다는 것이 끔찍합니다'\n",
    "print(okt.morphs(spacer.space(text), stem=True, norm=True))\n",
    "print(preprocessText(text))\n",
    "print(preprocessText2(text))\n",
    "print(preprocessText3(text))\n",
    "print(preprocessText4(text))\n",
    "print(preprocessText5(text))\n",
    "print(preprocessText6(text))\n",
    "print(preprocessText7(text))\n",
    "print(preprocessText10(text))"
   ]
  },
  {
   "cell_type": "code",
   "execution_count": 409,
   "metadata": {},
   "outputs": [
    {
     "name": "stdout",
     "output_type": "stream",
     "text": [
      "['너무', '재밓었다', '그래서', '추천', '하다']\n",
      "['너무', '재', '밓었다그래서추천하다']\n",
      "['너무', '재', '밓었다그래서추천하다']\n",
      "['너무', '재', '밓었다그래서추천하다']\n",
      "['너무', '재', '밓었다그래서추천하다']\n",
      "['너무', '재', '밓었다그래서추천한다']\n",
      "['너무', '재', '밓었다', '그래서', '추천', '한다']\n",
      "['너무', '재', '밓었다그래서추천하다']\n",
      "['너무', '재밓었다', '그래서', '추천']\n"
     ]
    }
   ],
   "source": [
    "text = '너무재밓었다그래서추천한다'\n",
    "print(okt.morphs(spacer.space(text), stem=True, norm=True))\n",
    "print(preprocessText(text))\n",
    "print(preprocessText2(text))\n",
    "print(preprocessText3(text))\n",
    "print(preprocessText4(text))\n",
    "print(preprocessText5(text))\n",
    "print(preprocessText6(text))\n",
    "print(preprocessText7(text))\n",
    "print(preprocessText10(text))"
   ]
  },
  {
   "cell_type": "code",
   "execution_count": null,
   "metadata": {},
   "outputs": [],
   "source": []
  },
  {
   "cell_type": "code",
   "execution_count": null,
   "metadata": {},
   "outputs": [],
   "source": []
  },
  {
   "cell_type": "code",
   "execution_count": null,
   "metadata": {},
   "outputs": [],
   "source": []
  },
  {
   "cell_type": "code",
   "execution_count": null,
   "metadata": {},
   "outputs": [],
   "source": []
  },
  {
   "cell_type": "code",
   "execution_count": 288,
   "metadata": {},
   "outputs": [
    {
     "name": "stdout",
     "output_type": "stream",
     "text": [
      "Wall time: 5.42 s\n"
     ]
    }
   ],
   "source": [
    "%time res = reviews.sample(100, random_state=42).map(preprocessText)"
   ]
  },
  {
   "cell_type": "code",
   "execution_count": 327,
   "metadata": {},
   "outputs": [
    {
     "name": "stdout",
     "output_type": "stream",
     "text": [
      "Wall time: 13.9 s\n"
     ]
    }
   ],
   "source": [
    "%time ind = pd.Series(mr).map(lambda x : len(re.sub('[^ㄱ-ㅎㅏ-ㅣ가-힣]', ' ', x).split(' ')) >= 5)"
   ]
  },
  {
   "cell_type": "code",
   "execution_count": 328,
   "metadata": {},
   "outputs": [
    {
     "data": {
      "text/plain": [
       "0.7606103677332148"
      ]
     },
     "execution_count": 328,
     "metadata": {},
     "output_type": "execute_result"
    }
   ],
   "source": [
    "ind.sum() / len(ind)"
   ]
  },
  {
   "cell_type": "code",
   "execution_count": 333,
   "metadata": {},
   "outputs": [],
   "source": [
    "mr5over = mr[np.where(ind)[0]]\n",
    "mr5less = mr[np.where(~ind)[0]]"
   ]
  },
  {
   "cell_type": "code",
   "execution_count": 334,
   "metadata": {},
   "outputs": [
    {
     "data": {
      "text/plain": [
       "array(['전체 관람가는 아닌 것 같아요', '디렉터스 컷으로 봐서 거의 3시간 짜리인데 참 흡인력 있다',\n",
       "       '태어나 처음으로 가슴 아리는 영화였다. 20년 이상 지났지만.. 생각하면 또 가슴이 아리는.. 황순원의 소나기에서 또 한번 느꼈던 그 느낌!',\n",
       "       ..., '저도 방금 에서 봤거든요 감동 ㅠ ㅠ', '오랜만에 좋은 영화 본 것 같은 느낌',\n",
       "       '역대 사형수들에 관한 영화 중 가장 재미있었다'], dtype=object)"
      ]
     },
     "execution_count": 334,
     "metadata": {},
     "output_type": "execute_result"
    }
   ],
   "source": [
    "mr5over"
   ]
  },
  {
   "cell_type": "code",
   "execution_count": 336,
   "metadata": {},
   "outputs": [
    {
     "data": {
      "text/plain": [
       "array(['전율과 여운이 남는 영화', '최고입니다 마스터피스', '방심하면 저처럼 웁니다', ...,\n",
       "       '이 영화 보구 울었어요', '좋은 영화입니다 잘 봤습니다', '비처럼 젖어드는 감동'], dtype=object)"
      ]
     },
     "execution_count": 336,
     "metadata": {},
     "output_type": "execute_result"
    }
   ],
   "source": [
    "mr5less"
   ]
  },
  {
   "cell_type": "markdown",
   "metadata": {},
   "source": [
    "- test"
   ]
  },
  {
   "cell_type": "code",
   "execution_count": 340,
   "metadata": {},
   "outputs": [],
   "source": [
    "ind2 = np.arange(mr5over.shape[0])\n",
    "np.random.shuffle(ind2)"
   ]
  },
  {
   "cell_type": "code",
   "execution_count": 343,
   "metadata": {},
   "outputs": [],
   "source": [
    "preprocessTextVectorize = np.vectorize(preprocessText)"
   ]
  },
  {
   "cell_type": "code",
   "execution_count": null,
   "metadata": {},
   "outputs": [],
   "source": []
  },
  {
   "cell_type": "code",
   "execution_count": null,
   "metadata": {},
   "outputs": [],
   "source": []
  },
  {
   "cell_type": "code",
   "execution_count": 274,
   "metadata": {},
   "outputs": [
    {
     "data": {
      "text/plain": [
       "['너무', '재밌', '다', '그래서', '추천']"
      ]
     },
     "execution_count": 274,
     "metadata": {},
     "output_type": "execute_result"
    }
   ],
   "source": [
    "mecab.morphs(' '.join(okt.morphs(spacer.space('너무재밌었다그래서추천한다'), stem=True, norm=True)[:-1]))"
   ]
  },
  {
   "cell_type": "code",
   "execution_count": 276,
   "metadata": {},
   "outputs": [
    {
     "data": {
      "text/plain": [
       "Checked(result=True, original='너 무 보고 싶은대 상영관이 없어요 ㅠ ㅜ', checked='너 무 보고 싶은데 상영관이 없어요 ㅠ ㅜ', errors=1, words=OrderedDict([('너', 0), ('무', 0), ('보고', 0), ('<span', 0), (\"class='red_text'>싶은데\", 0), ('상영관이', 0), ('없어요', 0), ('ㅠ', 0), ('ㅜ', 0)]), time=0.02098989486694336)"
      ]
     },
     "execution_count": 276,
     "metadata": {},
     "output_type": "execute_result"
    }
   ],
   "source": [
    "spallcheck('너 무 보고 싶은대 상영관이 없어요 ㅠ ㅜ')"
   ]
  },
  {
   "cell_type": "code",
   "execution_count": 278,
   "metadata": {},
   "outputs": [
    {
     "data": {
      "text/plain": [
       "Checked(result=True, original='쩌네요 장관이구요 걸경입니다', checked='쩌네요 장관이고요 불경입니다', errors=3, words=OrderedDict([('<span', 0), (\"class='violet_text'>쩌네요\", 0), (\"class='red_text'>장관이고요\", 0), (\"class='blue_text'>불경입니다\", 0)]), time=0.13364148139953613)"
      ]
     },
     "execution_count": 278,
     "metadata": {},
     "output_type": "execute_result"
    }
   ],
   "source": [
    "spallcheck('쩌네요 장관이구요 걸경입니다')"
   ]
  },
  {
   "cell_type": "code",
   "execution_count": 275,
   "metadata": {},
   "outputs": [
    {
     "name": "stdout",
     "output_type": "stream",
     "text": [
      "['너', '무', '보고', '싶다', '상영', '관', '이', '없다', 'ㅠ', 'ㅜ']\n",
      "['너무', '보다', '상영', '관', '없다', 'ㅠ', 'ㅜ']\n",
      "['너무', '보고', '싶다', '상영', '관', '없다', 'ㅠ', 'ㅜ']\n",
      "['너무', '보다', '상영', '관', '없다', 'ㅠ', 'ㅜ']\n"
     ]
    }
   ],
   "source": [
    "print(okt.morphs('너 무 보고 싶은대 상영관이 없어요 ㅠ ㅜ', norm=True, stem=True))\n",
    "print(preprocessText('너 무 보고 싶은대 상영관이 없어요 ㅠ ㅜ'))\n",
    "print(preprocessText('너 무 보고 싶은대 상영관이 없다 ㅠ ㅜ'))\n",
    "print(preprocessText('너 무 보고 싶은대 상영관이 없네요 ㅠ ㅜ'))"
   ]
  },
  {
   "cell_type": "code",
   "execution_count": 202,
   "metadata": {},
   "outputs": [
    {
     "data": {
      "text/plain": [
       "[(('차갑', 'Adjective'), ('우니까', 'Eomi'))]"
      ]
     },
     "execution_count": 202,
     "metadata": {},
     "output_type": "execute_result"
    }
   ],
   "source": [
    "soylemmma_git_repository = \"C:/research_persona/korean_lemmatizer\"\n",
    "sys.path.append(soylemmma_git_repository)\n",
    "\n",
    "from soylemma import Lemmatizer\n",
    "lemmatizer = Lemmatizer()\n",
    "lemmatizer.analyze('차가우니까')"
   ]
  },
  {
   "cell_type": "code",
   "execution_count": 220,
   "metadata": {},
   "outputs": [
    {
     "data": {
      "text/plain": [
       "[]"
      ]
     },
     "execution_count": 220,
     "metadata": {},
     "output_type": "execute_result"
    }
   ],
   "source": [
    "lemmatizer.analyze('재밓다')"
   ]
  },
  {
   "cell_type": "code",
   "execution_count": 189,
   "metadata": {},
   "outputs": [
    {
     "name": "stdout",
     "output_type": "stream",
     "text": [
      "['너', '무재', '밓었', '다그', '래서', '추천', '한', '다']\n",
      "['너무', '재', '밓었다', '그래서', '추천', '하']\n",
      "['너무', '재', '밓었다', '그래서', '추천', '하']\n",
      "['너무', '재', '밓었다', '그래서', '추천', '하']\n",
      "['너무', '재밓었다', '그래서', '추천', '하다']\n"
     ]
    }
   ],
   "source": [
    "text = '너무재밓었다그래서추천한다'\n",
    "print(okt.morphs(text, norm=True, stem=True))\n",
    "print(preprocessText(text))\n",
    "print(preprocessText(text))\n",
    "print(preprocessText(text))\n",
    "print(okt.morphs(spacer.space(text), stem=True, norm=True))"
   ]
  },
  {
   "cell_type": "code",
   "execution_count": 223,
   "metadata": {},
   "outputs": [
    {
     "name": "stdout",
     "output_type": "stream",
     "text": [
      "['우리', '민족', '이', '북한', '이', '말', '하다', '지상', '낙원', '이', '아니다', '생지옥', '생', '감옥', '에', '지금', '이', '시간', '에도', '그', '곳', '에서', '고통', '받다', '있다', '것', '이', '끔찍하다']\n",
      "['우리', '민족', '북한', '말', '하', '지상', '낙원', '아니', '생지옥', '생', '감옥', '지금', '시간', '그', '곳', '에서', '고통', '받', '있', '끔찍', '하']\n",
      "['우리', '민족', '북한', '말', '하', '지상', '낙원', '아니', '생지옥', '생', '감옥', '지금', '시간', '그', '곳', '에서', '고통', '받', '있', '끔찍', '하']\n",
      "['우리', '민족', '북한', '말', '하', '지상', '낙원', '아니', '생지옥', '생', '감옥', '지금', '시간', '그', '곳', '에서', '고통', '받', '있', '끔찍', '하']\n",
      "['우리', '민족', '이', '북한', '이', '말', '하다', '지상', '낙원', '이', '아니다', '생지옥', '생', '감옥', '에', '지금', '이', '시간', '에도', '그', '곳', '에서', '고통', '받다', '있다', '것', '이', '끔찍하다']\n"
     ]
    }
   ],
   "source": [
    "text = '우리 민족이 북한이 말하는 지상 낙원이 아니라 생지옥 생감옥에 지금 이 시간에도 그곳에서 고통 받고 있다는 것이 끔찍합니다'\n",
    "print(okt.morphs(text, norm=True, stem=True))\n",
    "print(preprocessText(text))\n",
    "print(preprocessText(text))\n",
    "print(preprocessText(text))\n",
    "print(okt.morphs(spacer.space(text), stem=True, norm=True))"
   ]
  },
  {
   "cell_type": "code",
   "execution_count": 227,
   "metadata": {},
   "outputs": [
    {
     "name": "stdout",
     "output_type": "stream",
     "text": [
      "['우리', '민족', '이', '북한', '이', '말', '하다', '지상', '낙원', '이', '아니다', '생지옥', '생', '감옥', '에', '지금', '이', '시간', '에도', '그', '곳', '에서', '고통', '받다', '있다', '것', '이', '끔찍하다']\n",
      "['우리', '민족', '북한', '말', '지상', '낙원', '아니다', '생지옥', '생', '감옥', '지금', '시간', '에도', '그', '곳', '고통', '받다', '있다', '끔찍하다']\n",
      "['우리', '민족', '북한', '말', '지상', '낙원', '아니다', '생지옥', '생', '감옥', '지금', '시간', '에도', '그', '곳', '고통', '받다', '있다', '끔찍하다']\n",
      "['우리', '민족', '북한', '말', '지상', '낙원', '아니다', '생지옥', '생', '감옥', '지금', '시간', '에도', '그', '곳', '고통', '받다', '있다', '끔찍하다']\n",
      "['우리', '민족', '이', '북한', '이', '말', '하다', '지상', '낙원', '이', '아니다', '생지옥', '생', '감옥', '에', '지금', '이', '시간', '에도', '그', '곳', '에서', '고통', '받다', '있다', '것', '이', '끔찍하다']\n"
     ]
    }
   ],
   "source": [
    "text = '우리 민족이 북한이 말하는 지상 낙원이 아니라 생지옥 생감옥에 지금 이 시간에도 그곳에서 고통 받고 있다는 것이 끔찍합니다'\n",
    "print(okt.morphs(text, norm=True, stem=True))\n",
    "print(preprocessText(text))\n",
    "print(preprocessText(text))\n",
    "print(preprocessText(text))\n",
    "print(okt.morphs(spacer.space(text), stem=True, norm=True))"
   ]
  },
  {
   "cell_type": "code",
   "execution_count": 267,
   "metadata": {},
   "outputs": [
    {
     "data": {
      "text/plain": [
       "Checked(result=True, original='쩌네요 장관이구요 걸경입니다', checked='쩌네요 장관이고요 불경입니다', errors=3, words=OrderedDict([('<span', 0), (\"class='violet_text'>쩌네요\", 0), (\"class='red_text'>장관이고요\", 0), (\"class='blue_text'>불경입니다\", 0)]), time=0.12869668006896973)"
      ]
     },
     "execution_count": 267,
     "metadata": {},
     "output_type": "execute_result"
    }
   ],
   "source": [
    "spallcheck('쩌네요 장관이구요 걸경입니다')"
   ]
  },
  {
   "cell_type": "code",
   "execution_count": 265,
   "metadata": {},
   "outputs": [
    {
     "name": "stdout",
     "output_type": "stream",
     "text": [
      "['쩌네', '요', '장관', '이구', '요', '걸경', '이다']\n",
      "['쩌네', '요', '장관', '고요', '불경', '이다']\n",
      "['쩌네', '요', '장관', '고요', '불경', '이다']\n",
      "['쩌네', '요', '장관', '고요', '불경', '이다']\n",
      "['쩌네', '요', '장관', '이구', '요', '걸경', '이다']\n"
     ]
    }
   ],
   "source": [
    "text = '쩌네요 장관이구요 걸경입니다'\n",
    "print(okt.morphs(text, norm=True, stem=True))\n",
    "print(preprocessText(text))\n",
    "print(preprocessText(text))\n",
    "print(preprocessText(text))\n",
    "print(okt.morphs(spacer.space(text), stem=True, norm=True))"
   ]
  },
  {
   "cell_type": "markdown",
   "metadata": {},
   "source": [
    "### 띄어쓰기 전처리 차이별 성능 비교 정리하기\n",
    "- 경우의 수\n",
    "    - spaceing 전처리\n",
    "    - 불용어 처리\n",
    "    - 한글 이외의 텍스트 제거\n",
    "- 최종 결과단에서는 stem 추출을 위해 Okt tokenizer 활용"
   ]
  },
  {
   "cell_type": "code",
   "execution_count": null,
   "metadata": {},
   "outputs": [],
   "source": [
    "ck = spallcheck(df2['review'][0])\n",
    "ck.errors\n",
    "res = []\n",
    "for ix, review in df2['review'].items():\n",
    "    if ix % 100 == 0:\n",
    "        print(ix)\n",
    "    ck = spallcheck(review)\n",
    "    res.append(ck.checked)"
   ]
  },
  {
   "cell_type": "code",
   "execution_count": 46,
   "metadata": {},
   "outputs": [
    {
     "data": {
      "text/plain": [
       "['감동입니다 말이 필요 없습니다 꼭 보세요 그리고 상영관을 늘려 주심 감사하겠습니다',\n",
       " '쩌네요 장관이구요 걸경입니다',\n",
       " '우리 민족이 북한이 말하는 지상 낙원이 아니라 생지옥 생감옥에 지금 이 시간에도 그곳에서 고통 받고 있다는 것이 끔찍합니다',\n",
       " '북한의 현실을 보여주는 영화입니다 정말 이런 영화가 많이 배급되어야 합니다',\n",
       " '많이 울었습니다 화도 나고 속상하고 북한의 현실을 나라 꼭대기에 앉아있는 그 분과 그분의 추종자들도 꼭 보시길 바라는 그런 영화에요',\n",
       " '모든 국민이 다 봐야 되는 영화',\n",
       " '북한의 실상에 대해 더 절실히 알게 되는 영화였습니다 귀한 영화 만들어 주셔서 감사합니다',\n",
       " '북한의 실상을 보여주는 가슴 아픈 영화였습니다 하루 빨리 북한에도 진정한 자유가 주어지기를 바랍니다',\n",
       " '이건 꼭 봐야 할 영화입니다',\n",
       " '현실은 우리를 행동하게 만드다 영화를 보는 내내 정말 현실이지 않기를 바랬던 유일한 영화',\n",
       " '최고의 영화 다들 꼭 봐야 할 영화입니다',\n",
       " '진짜 꼭 봐야 될 영화입니다',\n",
       " '북한 신봉하는 놈들아 제발 정신 좀 차리길 자본주의에서 누릴 거 다 누려놓고 북한 빠는 거 보면 졸 웃김',\n",
       " '자유 민주주의를 위하여 북한의 인권을 위하여',\n",
       " '적어도 만명 돌파는 가야합니다 상영관 멀어서 못가시는 분들은 좌파들처럼 영혼 보냅시다',\n",
       " '재인이가 이 영화를 싫어합니다',\n",
       " '실화를 바탕으로 제작한 영화 대한민국 국민 모두가 꼭 봐야 할 영화입니다 물론 미성년은 부모 동의하에',\n",
       " '독립영화 화이팅',\n",
       " '이렇게 훌륭한 영화가 국내에서 외면 받는 현실이 참 슬프네요',\n",
       " '관람객 인권의 대지로 건너가는 징검 다리의 돌 하나같은 영화 북한 인권에 대한 관심이 끊어져서는 안된다 영화 자체로서는 아쉬움이 남았다',\n",
       " '관람객 참 인생에 남을 명작 이었습니다',\n",
       " '너 무 보고 싶은대 상영관이 없어요 ㅠ ㅜ',\n",
       " '가족을 향한 따뜻함이 오랫동안 여운이 남는 영화입니다',\n",
       " '대한민국 국민은 다 봐야 할 영화 다라는 생각이 드네요 김규민 감독님이 실제 탈북하신 분이라 해서 더 진한감동과 북한 사람들 생각에 마음이 아파 오는 영화입니다 꼭 보세요',\n",
       " '가짜 조국 가짜 대통령이 있는 한 울나라는 북으로 갑니다 다시 자유대한민국을 만듭시다',\n",
       " '지금 북한의 현실인데 북한을 사모하는 주사파정권에 경종을 울리는 인권영화 이번 추석때 가족과 함께 보았으면 좋겠습니다',\n",
       " '꼭 보세요 추천합니다ㅠ',\n",
       " '김소민 배우님 연기력에 대한 언급이 많아 기대하고 봤는데 역시 나 너무 연기 잘하시고 목소리 딕션도 너무 좋으셨어요 ㅠㅠ 대성 하셨으면 좋겠습니다 그리고 영화도 전 국민이 봐야 하는 공산주의의 사회주의의 실상을 잘 드러내는 영화라고 생각합니다',\n",
       " '북한 인권을 위해 우리가 꼭 봐야 할 우리 영화입니다 실화를 바탕으로 한 가족 영화라 눈물이 계속 나더라구요 여주인공의 연기와 영상 외국에서 상받을 만합니다 감독님의 신뢰로 앞으로 나오는 영화는 무조건 보러 갑니다',\n",
       " '온 가족이 함께 보고 왔네요 북한의 현 상황은 이 보다 더 하겠지요 자주 평화 통일의 날이 속히 와서 억압과 탄압으로 고통 가운데 있는 북한의 동포들에게도 자유를 맘껏 누릴 수 있었으면 하는 간절한 바램입니다',\n",
       " '자유대한민국에 태어난 것이 감사합니다 실화라 충격이고 결말에 가슴 미어지고 저 예산 영화인데 작품성 뛰어나네요 배우들의 열연과 감독님의 연출에 박수 보내드립니다 잘 봤습니다 대한민국 국민들 모두 보고 북한의 처참함을 바로 인식하면 좋겠습니다',\n",
       " '북녘 내 동포의 눈물겹고 가슴 쓰라린 삶을 보며 용감하게 이 좌빨 세상에 이런 영화를 만든 김규민 감독께 찬사를 보냅니다 사 랑 의 선 물지속적인 조용한 흥행에 축하를 참 배우들의 연기가 너무 좋네요',\n",
       " '지금 우리가 먹는 밥을 북한에서는 먹지 못하다니 참 슬프고 안타깝습니다 북한이 공산주의에서 벗어나기를 바랍니다',\n",
       " '현 정권의 언론 문화통제로 인해 잠시 잊게 되었던 북한의 실상을 잘 그려낸 영화 다 우리가 잊지 말아야 할 북한 주민들의 아픔 눈물 가족 그 위에 자기만 호의호식하는 독재정권의 무책임 장군님의 사랑의 선물 음 그게 무엇인지',\n",
       " '마지막 부분엔 저절로 눈물이 났네요 살기 위해 기를 썼는데 결국 죽음으로 끝을 내는 그들의 아픔은 누가 달래주나요ㅠ ㅠ 북한에 태어나지 않은 것이 감사합니다',\n",
       " '우리나라 국민들이 꼭 봐야 할 영화 우리나라에 태어난 것만으로 감사의 조건이 되네요 ㅜㅜ 다시 한번 감사함을 느끼는 영화였습니다 이런 순간에도 김정은을 미화시키는 것들은 북한가서 살아보라고 하고 싶네요 아이들도 꼭 보여주시길 강추합니다',\n",
       " '북한의 실상을 알리는 이 영화 참 귀하네요 진정한 인권이란 대 공산주의 독재체제 아래 있는 북한동포들이 자유를 누리는 것 같아요 공산 사회주의를 택한 북한의 현실이 참 슬픕니다 ㅠ 많은 분들이 보시면 좋겠네요 강추',\n",
       " '북한인권의 비참한 현실을 잘 다룬 영화네요 맘이 먹먹해짐니다 저 예산 영화라 아쉬운 감은 있으나 그보다 투자도 없을 수 밖에 없고 대중들에게 관심이 적은 북한 인권의 영화를 다뤘다는 게 대단합니다',\n",
       " '시간이면 갈 수 있는 저 북쪽 땅 우리 동포들이 오늘도 먹을 것이 없어 고통가운데 죽어가고 있는 현실을 영화로 접하니 내가 살고 누리는 이 자유 민주주의가 더욱 감사 되어지네요 더 많은 분들이 이 영화 보시면 좋겠어요',\n",
       " '실화를 바탕으로 한 영화라 그런지 더 가슴 아프고 감동이 됩니다 북한 동포들이 하루 속히 자유의 날을 맞이할 수 있도록 기도합니다 제주도에서도 보고 싶어 하는 분들이 많이 기다리고 있습니다',\n",
       " '실화를 바탕으로 하여 더욱 감동적인 영화였습니다',\n",
       " '많은 분들이 함께 보아야 할 영화네요 북한 주민들을 생각하면 우리가 힘들다고 생각했던 것들도 감사가 됩니다',\n",
       " '모든 국민이 볼 수 있길',\n",
       " '북한에서 태어났다는 이유만으로 어떤 자유도 없이 굶주리며 생을 힘겹게 이어가는 우리 동포들의 실제적인 이야기를 영화로 마주하니 마음이 먹먹합니다 속히 노예와 다를 바 없는 삶에서 자유를 맘껏 누리게 되기를 진한 감동이 전해져 옵니다',\n",
       " '자유 민주주의의 소중함을 깨닫게 됩니다 북한 사회주의의 실상을 또한 바르게 이해하게 됩니다 잘못된 이념의 사회가 얼마나 개인에게 치명적인 해악이 되는지도 알게 됩니다 북한을 제대로 알기 위해서도 꼭 봐야 할 영화이네요',\n",
       " '대한민국 국민은 꼭 봐야 할 영화입니다 너무 가슴 아프고 배우들의 연기도 감동되었습니다',\n",
       " '너무 슬프네요 북한 땅에 이런 일이 끊어지길 바랍니다',\n",
       " '꼭 봐야 하는 영화 이보다 북한 인귄과 상황에 대하여 디테일 한 영화는 없는 것 같네요',\n",
       " '보면서 감동을 받았습니다 정말 좋은 영화 감사합니다',\n",
       " '방금 봤습니다 차로 한 두 시간만 가면 되는 가까운 곳에 이런 비참한 일들이 날마다 벌어지고 있다는 사실에 가슴이 미어집니다 북한 공산주의 체제하에서 오늘도 신음하고 있는 동포들을 위해 어떤 행동을 취할 수 있을까 고민하게 됩니다',\n",
       " '진심으로 이제껏 살면서 본 영화중에 제일 많이 울며 보았습니다 북한 주민들의 저 현실이 너무 안타까워 눈물이 나네요 실화를 바탕으로 만들어진 이 영화의 현실이 지금도 북한 곳곳의 가정에 빈번하게 일어난다는 사실에 더 가슴이 아픕니다 꼭 꼭 보시길',\n",
       " '감동입니다 한국에 태어난 것이 감사',\n",
       " '관람객 대한민국 국민으로서 한 번쯤은 봐야 하는 영화인 것 같다 북한 사람들의 열악한 인권 수준을 여과없이 보여준다는 점에 있어서 큰 의미를 지닌다',\n",
       " '관람객 어머니와 함께 봤습니다 가슴이 먹먹해지고 여러 가지 생각이 교차합니다 북한의 현실을 조금이나 마 엿볼 수 있는 귀한 영화였습니다',\n",
       " '같은 하늘 아래 같은 모습을 한 인간의 삶 그러나 어떻게 이렇게 달라도 다를 수 있는지 참 아이러니하고 말도 안되는 현실이 바로 지금 이 순간 여기에 있다 북한이라는 나라의 독특한 구조와 그 내면에 이같은 비극적 삶이 있다는 것 가슴 아프다',\n",
       " '관람객 믿고 싶지 않은 이야기를 담은 영화 보는 내내 슬퍼서 울었다 부디 이것이 흘러간 과거로 남는 날이 오기를',\n",
       " '관람객 보고 나서 계속 생각나는 휼륭한 북한 인권 영화였습니다 많은 분들이 보셨으면 좋겠어요',\n",
       " '진짜 개봉관 좀 늘려주세요',\n",
       " '보고 싶어도 서울까지 가야하다니 지역마다 한군데씩은 개봉해줘야 하는 거 아닌가요',\n",
       " '자녀들과 함께 꼭 봐야 할 영화입니다 영화 한편으로 북한의 삶의 현실과 자유만 주주의가 얼마나 중요한지 깨닫게 해주는 영화입니다',\n",
       " '정말 가슴이 먹먹합니다 꼭 보세요',\n",
       " '주연 배우의 연기가 너무 인상적이었어요 북한사회의 어두운 면을 잘 보여준 것 같네요 상영관이 많아졌으면 ㅜㅜ',\n",
       " '영화의 내용적인 측면에서는 한국인이라면 알아야 할 북한의 실상이지만 북한 사람을 연기한 것 치고는 너무 남한 사람 같은 풍채와 분위기 현실은 끝나고도 변함없는 듯한 최악의 식량 난 굶어죽거나 꽃제비가 되는 지옥같은 인권상황이 더 담기지 못했다',\n",
       " '좋아요 독립영화',\n",
       " '상영관 늘려주세요',\n",
       " '북괴 살 인마들 찬양 하는 영화에 아주 괴뢰색 기들이 떼거지로 몰려와서 점주네 ㅋㅋㅋ 보기나 했을까',\n",
       " '눈물 많이 흘렸습니다 이 영화가 사실이라는 것이 더 슬픕니다 지금까지 년 동안 북한의 실체 종북주의 주사파 사회주의의 실체를 잘 보여주는 영화입니다 꼭 보세요 대한민국 국민이라면 꼭 보세요 상영관 횟수 기간을 늘려주세요',\n",
       " '관람객 예고를 보고 이건 꼭 봐야 된다고 생각하고 예매했다 당시 상영관에서 상영을 안해줄라고 하기에 먼데임에도 불구하고 예매를 주저하지 않았다 이런 영화가 많아져서 북한 인권에 침묵하는 넘들을 대신해 사람들이 많이 알게 되길 바랄 뿐이다',\n",
       " '관람객 북한의 현실을 바라보며 자유 민주주의 대한민국의 소중함과 자유를 꼭 지켜야 겠다는 소원이 생김 북한 주민들이 넘 불쌍함 김일성등 아직도 우상으로 생각함',\n",
       " '북한 인권에 대해 다시 한번 생각해보게 되는 영화',\n",
       " '관람객 직설적인 듯 하지만 전혀 지루하지 않음 슬프지만 억지로 쥐어짠 슬픔이 아님 아쉬운 점은 북한이라는 무대에서 대한민국 말투를 쓰고 의도된 것인지 모르겠지만 일부 배우들의 헤어스타일이 북한의 이미지와는 거리가 있어 몰입이 어려웠다는 점',\n",
       " '응원합니다 앞으로도 영화로 북한에 대해서 많이 알려주세요',\n",
       " '가슴 먹먹한 감동이 있네요',\n",
       " '관람객 눈물나는 영화입니다',\n",
       " '현정권의 적화통일 준비가 다 되간다 한국 노처녀들에게 투표권은 실수였다',\n",
       " '사랑의 선물 출국 같은 영화는 정권 바뀌면 진짜 재개봉해야 한다',\n",
       " '대한민국에 살고 있는 것만으로도 고맙게 느껴지는 감동적인 영화를 보았네요 마지막 쥐약 먹고 자살하는 장면에 눈물이 쭉 흐르더군요 상영관이 적어서 아쉽지만 가족들과 함께 보기를 강추 합니다',\n",
       " '우연히 보러 갔다가 완전 하루를 망친 영화 북한 실정을 말한다고 하면서 한 마디 북한 말을 안 하고 그 실정도 영상으로 담지 못한 년대 판 영화 예술성은 종적이 없고 오로지 타락한 자본주의 잣대로 인간의 순수성을 짓밟고 꼬집는 영화',\n",
       " '북한의 실상을 주인공 집에 머물며 함께 경험하는 듯 했습니다 악몽이었습니다 가족의 평범한 일상이 얼마나 소중한지를 생각하게 합니다',\n",
       " '꼭 보시길 추천드리고 싶습니다',\n",
       " '북한이 실상 제대로 봤습니다',\n",
       " '보고 싶어요 왜 상영관이 없는 건가요 ㅠㅠ 북한 중국 눈치 보는 건가요 ㅇ',\n",
       " '이런 게 제대로 된 영화지 상영관 늘려줘야 된다',\n",
       " '상영관 늘려주세요 이런 영화가 왜 상영관이 없지',\n",
       " '문재인씨가 이 영화를 싫어합니다',\n",
       " '사악한 김정은 정권을 너무도 사랑하는 문재앙이 기를 쓰고 상영 방해하고 싶은 영화',\n",
       " '좌파 및 북한 중국 공산당 스파이들이 평점 점줄 영화 또한 좌파평론 가들이 아무도 평점 안매길 영화 또한 좌파정당 좌파정권이 사람들에게 절대로 공개안하게 상영타임 상영관을 매우 규제 할 영화',\n",
       " '북한 의 실상을 정직하게 알려주는 보석같은 영화 대한민국 국민은 모두가 봐야 할 영화',\n",
       " '북한의 실상 그대로',\n",
       " '관람객 비극적인 북한 인권을 사실적으로 다룬 영화입니다 인생 최고 영화 중 하나입니다 너무 가슴이 아파 영화가 끝나고 난 후에 한동안 자리를 뜨지 못했습니다',\n",
       " '북한의 슬픈 현실이 넘 가슴 아팠읍니다 김규민 감독님 좋은 영화 감사합니다 더 많은 분들이 볼 수 있게 상영관 늘려주세요 완전 강추 강추 문화 전쟁에서 승리합시다 꼭 꼭 보시길',\n",
       " '관람객 한 가족의 이야기 진짜 이런 영화 좋아요',\n",
       " '너무 좋은 영화입니다 많은 분들이 보시면 좋겠습니다',\n",
       " '집 근처 영화관에 이 영화 상영 안한다길래 따로 상영관 알아보고 봤는데 정말 이런 영화를 상영하는 영화관이 왜 이렇게 없는지 모르겠네요',\n",
       " '배우분들의 연기도 너무 사실적이어서 슬픔과 안타까움 그리고 분노가 배가 되는 것 같았습니다 너무도 슬픈 북한의 현실 입니다 지금의 우리들의 자유로운 삶 그리고 자유로운 시장 경제가 얼마나 보석처럼 값지고 귀한 것인지를 느끼게 해줍니다 추천',\n",
       " '단순한 줄거리 간소한 연출이지만 북한정권을 끝장내고 북한국민을 해방시켜야 할 이유로 추천',\n",
       " '관람객 국가가 국민의 모든 것을 책임지는 체제의 현실 닫힌 국가에서의 착취적 정치와 경제로 인해 불과 반세기도 되기 전에 파탄에 이르렀다 자본을 악마취급하는 체제에서 왜 사사건건 돈이 필요한가 아이들 데리고 가족끼리 봐야 할 영화 보고 나서 대화를 많이 하게 될 것',\n",
       " '영화로는 점 북한에 대해서 조금 알려주는 정도로 점',\n",
       " '이게 그 평론가 평점이 하나도 없는 영환가요 감독 경력 보고 다 거른 듯 ㅎ 물논 나도 마찬가지지만',\n",
       " '진정한 휴머니즘 영화 이건 남에 일이 아니라 바로 우리 민족이 겪고 있는 실화입니다 언제까지 외면할건지 가슴이 아픕니다',\n",
       " '관람객 의미가 깊은 영화 입니다',\n",
       " '한국 국민이면 모두 감동할 영화 북한정권과 그 지역 사람들에게는 불편할 영화',\n",
       " '아직 못봤지만 예고 편만으로 기대됩니다 꼭 보려구요',\n",
       " '감동적인 영화 상업적이 아닌 탈북민들의 실정 ㅠ',\n",
       " '사악한 정권에 의한 터무니없는 삶의 모습을 접할 수 있는 시간이었습니다 하루 빨리 북한에도 자유 민주주의 체제가 이뤄지기를 소망하며 감독님의 후속 작품들을 기대합니다',\n",
       " '이렇게 평점 높은 영화가 몇 몇 극장 밖에 상영 안한다니 이해가 되지 않지만 꼭 봐야 할 영화라 여겨집니다 점 주기도 미안할 정도로 수준 높은 영화',\n",
       " '반드시 봐야 할 영화 주변에 알려야 할 영화',\n",
       " '손수건 없이 볼 수 없는 영화입니다',\n",
       " '관람객 북한 인권에 관해 이보다 더 설득력 있게 설명할 순 없을 겁니다 저들에게 자유와 인권이 주어지는 그날이 속히 오기를 기원합니다',\n",
       " '봉오동 같은 반일이 아닌 괴뢰정부의 손아귀에 탄압당하는 불쌍한 북한 국민들 인권문제가 우선',\n",
       " '인권은 평등 해야 된다 정치적으로 보는 순간 인권은 사라진다',\n",
       " '영화 아주 잘 보았습니다',\n",
       " '기자 평론가 평점 에 고개를 끄덕이고 갑니다',\n",
       " '꼭 봅시다',\n",
       " '감동적입니다 상영관 늘려야 할 듯 하네요',\n",
       " '꼭 봐야 할 영화입니다',\n",
       " '보세요 그냥 보시면 됩니다',\n",
       " '사랑의 선물 기대됩니다 실화를 바탕이라니 더욱 북한 인권 확실히 알자',\n",
       " '그짝 사람들이 혐오할 영화',\n",
       " '북한 실상 가 감없이 알려주는 잘 만든 영화 정부의 압박에도 소신껏 용기 내어 개봉을 결정한 극장들도 고맙고 응원합니다',\n",
       " '누구나 한번은 봐야 할 영화입니다 한참을 말이 없어지게 하는 영화',\n",
       " '감동의 영화입니다 가족과 함께 보시는 것을 추천합니다',\n",
       " '북한의 인권 문제를 고퀄영화로 만들었다',\n",
       " '이런 명화를 푸대접하는 부끄러운 대한민국',\n",
       " '감동감동 감동 감동감동',\n",
       " '최고 말이 필요없다 사랑의 선물 최고다',\n",
       " '대한민국 국민이라면 반드시 봐야 할 영화',\n",
       " '전 국민이 다 봐야 하는 영화 북한 체제는 사이비 종교집단이라는 걸 느끼게 해주는 영화 대한민국의 문화 분위기와 영화산업의 현실에 한탄하게 하는 영화 눈물 없이 볼 수 없습니다',\n",
       " '감동영화 기대됩니다',\n",
       " '대한민국을 사랑하는 국민이라면 꼭 봐야 할 영화입니다',\n",
       " '관람객 북괴는 고난의 행군이라고 선전하지만 우리는 고난의 행군이라는 말 대신 인민을 굶겨 죽인 학살이라고 말해야 한다',\n",
       " '이것은 앞으로 남을 영화',\n",
       " '관람객 거짓과 허위의 세력인 북한 정권 치하에서 자유와 인간다운 삶을 빼앗긴 채로 고생하고 있는 북한의 주민들을 어서 해방시켜야 합니다',\n",
       " '사랑의 선물 보려구 없는 시간 내 서명보시네마에서 봤습니다 이런 영화 젊은 세대들이 많이 봐야 하는데 아쉽습니다',\n",
       " '더 많은 상영관에서 상영했으면 좋겠습니다',\n",
       " '이렇게 좋은 영화인데 왜 볼 수 있는 극장이 없냐 월 셋째 주 얘매되는 극장이 전국 통틀어서 겨우 곳뿐이고 그나마 주말엔 곳밖에 안된다 보고 싶어도 볼 수 없는 영화',\n",
       " '너무 너무 보고 싶은데 영화관을 갈 수가 없는데 ㅠㅠ 집에서라도 볼 수 있는 장치가 없을까요 ㅠㅠ 다운 받은 금액은 감독님께 갈 수 있도록',\n",
       " '북한 주민도 우리 이웃인데 어떻게 이렇게 모른채하고 살아갈 수가 있나 이 영화가 더 많은 사람이 보고 북한 인권을 위해 목소리를 높였으면 좋겠습니다',\n",
       " '꼭 보세요 북한의 인권을 알면서도 북한을 찬양한다는 것이 무엇인지 분별하기를 바랍니다',\n",
       " '북 쪽 좋아 하는 인간은 북한으로 가라',\n",
       " '상영관이 많이 늘어서 많은 사람이 봤으면 합니다 참 감동적이고 많은 생각을 하게 하는 영화입니다',\n",
       " '관람객 대한민국 국민이라면 꼭 봐야 하는 영화입니다',\n",
       " '꼭 봐야 할 영화 입니다',\n",
       " '좋은 작품 만드시느라 수고하셨습니다 감사합니다',\n",
       " '요즘 같은현 시국에 감동적인 영화였어요 젊은이들이 더 많이 보았으면 하는 바램이구요 가족들끼리 보는 영화 추천합니다 그러기 위해서는 더 많은 상영관과 상영시간이 요구 됩니다',\n",
       " '관람객 감동입니다 좌파는 과연 이런 나라에서 살고 싶을까',\n",
       " '약간 기대하고 봤는데 정말 솔직히 말해서 이렇게 재미없고 무슨 내용인지 무슨 말을 하고 싶은 건지 모르겠는 영화도 처음임 근데 여기 평점 보고 놀랐음 정말 내가 이상한 건가 아님 보지도 않고 글을 쓰는 건가',\n",
       " '무슨 말이 필요할까요',\n",
       " '너무 감동이였어요 북한 실상 을 조금이나마 알게 됐어요',\n",
       " '너무 가슴 아픈 영화입니다 꼭 봐주세요',\n",
       " '종북 좌익들이 가 싫어하는 영화는 만점',\n",
       " '많이 보셔야 할듯',\n",
       " '이런 영화가 많아졌으면 좋겠습니다',\n",
       " '보고 싶다 ㅏㅏ ㅠㅠ 개봉점',\n",
       " '너무 재미없 하나를 만들어도 퀄리티 있게 제대로 만들어라 돈 되는 영화라면 상영관은 많아지는데 재미가 없어서였다 쌀도 없는 집 애가 살이 디룩디룩 쪄있다 전부 살이 쪄있다 물론 배우섭외 어려웠겠지만 젊은 애들도 감동 받아야 의미있는 거다',\n",
       " '상영관이 부족한 게 흠이네요',\n",
       " '문재인이 본능적으로 싫어하는 영화입니다 많은 관객이 보기를 바랍니다',\n",
       " '왜 이런 영화를 상영관을 안잡아 주는 겁니까',\n",
       " '관람객 북한 인권의 실상을 자연스럽게 그려낸 듯 깊은 감동이 있는 영화였습니다',\n",
       " '종북좌파정권과 한겨례 자회사 출신들이 가장 싫어하는 영화 자유 민주주의와 시장 경제가 얼마나 소중한 것인지를 가장 잘 나타내준 귀한 영화',\n",
       " '그 어느때 보다 반공정신이 필요 합니다',\n",
       " '북한의 가슴 아픈 현실과 인권의 사각지대에서 억압 받고 학대 받는 수많은 사람들의 아주 일부분만 보여진 것 같습니다 지금도 인권유린을 당하고 있는 북한의 현실에 대해 좀 더 관심을 가지고 더 많은 사람들이 볼수 있도록 상영관을 늘리고 계속 상영되길 강추',\n",
       " '살인마 독재자 김정은 추종자들이 한국에서는 민주주의자 탈을 쓰고 있고 그들이 정권을 잡고 한국을 김정은한테 팔아먹고 있다',\n",
       " '현실을 봐야 함 거짓 선동에 놀아나지 말자 북한의 실상을 널리 알려야 함',\n",
       " '정말 많이 울면서 보았네요 ㅠㅜ 가슴이 아픕니다 많은 것을 생각하게 하는 영화 특히 작금의 현 대한민국에 대해서도 뼈를 때리는 그런 영화라고 생각합니다',\n",
       " '가족간의 찐한 사랑과 감동이 있었습니다 생각도 못한 결론으로 충격이었고 감동 또한 물밀듯이 밀려왔습니다 연장 상영하여 많은 분들이 꼭 보면 좋겠습니다 이 영화 놓치지 마십시오',\n",
       " '감동의 영화 강 추',\n",
       " '멋진 영화 봐야 할 영화 그러나 독립운동하듯 봐야 하는 영화 스크린 좀 확대합시다',\n",
       " '인권이 무너진 북한의 참혹한 현실을 보았습니다 뭐가 있어야 자력갱생이지 외치며 결국 부부은 쥐약을 먹고 죽습니다 이게 북한의 현실입니다',\n",
       " '개봉관이 왜 이리 없나요',\n",
       " '인스턴트처럼 가볍게 소비되고 잊혀지는 영화들 속에서 찾은 보석 깊이 있는 내러 티브가 인상적이었다 한동안 못있을듯',\n",
       " '요즈음 꼭 필요한 기대되는 영화입니다 이런 영화를 만드신 분들 감사합니다',\n",
       " '공산치하에서 독재자를 위한 충성 요구가 가정에 어떤 생계대책에 도움주지 않는 실상을 잘 보여준 안타깝기만 하다',\n",
       " '판도라 같은 쓰레기 영화보고 탈원전 한다는 가짜 인권 변호사야 니가 진짜 봐야 될게 이런 영화 다 아니지 넌 가짜 인권 변호사니 봉오동이나 봤을라나 쯧쯧',\n",
       " '대구에는 상영관이 없어서 너무 너무 안타깝습니다 ㅠㅠ',\n",
       " '가족들과 꼭 봐야 할 영화',\n",
       " '전주에서도 상영해 주세요',\n",
       " '상영관 좀 늘려주세요 빨치산 영화 좀 그만하구요',\n",
       " '빨리 자유 통일이 되서 북한 주민들도 자유롭게 살게 되기를 바랍니다 김규민 감독님 감사합니다',\n",
       " '대구에서도 볼 수 있도록 해줘요',\n",
       " '최고감동의 영화 많은 기대됩니다',\n",
       " '이 나라는 모든 분야를 좌파에서 장악했습니다 그들은 오로지 우리 민족끼리 연방제 통일을 위해 올인하고 있습니다 이 영화도 자기네들에게 거슬리니까 상영관을 줄이고 상영을 방해하고 있지만 정의는 죽이지 못합니다',\n",
       " '아무것에 나 인권 타령하는님들 이 영화 보시고 진정 인권을 어디에 써야 할지 생각 좀 하세요 상영관이 너무 없어요 많은 곳에서 상영하여 많은 이들이 봤으면 좋겠어요',\n",
       " '방금 영화를 보고 나와 잠시 멍하니 영화관의자에 앉아 이 글을 남깁니다 우리에게도 분명 젊은 지성들이 있으니 당당한 대에 입소문 영화가 되기를 간절히 바랍니다',\n",
       " '전 세계는 주목하지만 오직 대한민국만 침묵하는 북한 인권의 참상을 그린 영화 이제는 우리가 눈을 뜨고 외쳐야 할 때입니다',\n",
       " '화려 함과 세련됨은 없지만 진솔하게 한 가족의 붕괴를 통해 북한의 참상을 보여주는 영화입니다 진심이 담긴 영화 놓치지 마세요 상경관 많이 늘려주시고요 앞으로도 북한 인권을 다루는 많은 영화들이 제작되기를 바랍니다',\n",
       " '왜케 상영관이 없냐 좌빨들아 너무 하는 거 아니냐 북한 현실을 널리 알려야 할 거 아니냐 그래야 국민들이 자유 민주주의의 소중함을 깨닫지',\n",
       " '보고나니 가슴이 먹먹해 집니다 우리가 외면하고 있는 북한의 현실 이제는 직면해서 관심을 가져야 합니다',\n",
       " '색다른 감동 처음 접하는 스토리 볼만 했음',\n",
       " '세계에서 인정받은 작품성 있는 영화 보고 싶네요',\n",
       " '진정한 의미에서의 인권의 소중함을 아는 사람들이라면 반드시 보아야 할 영화입니다',\n",
       " '최고입니다 꼭 봐야 할 영화 같아요',\n",
       " '상연관이 주변에 없습니다 안타깝네요',\n",
       " '우리가 배불리 먹고 있을 때 북한에서 어떻게 죽어가는지를 깨닫게 되고 김정은 정권을 지켜줄게 아니라 북한의 인권을 위해 전 세계적으로 소리를 높여야 함을 다시 생각하게 됩니다 꼭 보시고 평양환상의 늪에서 빠져나올 수 있기를 바랍니다',\n",
       " '상영관 늘려주세요 문 대통령님도 꼭 옥 보시구요',\n",
       " '기회가 되면 보고 싶습니다 상영관 많아졌으면',\n",
       " '대한민국 자유 민주주의 우파들은 이 영화를 봐야 된다고 합니다 우파 추천 영화입니다',\n",
       " '실제로 이런 일이 있다는 게 소름 끼침니다 영화보고 가슴이 먹먹해서 한동안 일어나질 못했어요 자유 인권이 이렇게 소중하다는 걸 깨닫게 됩니다 많이 관람하시길 추천합니다',\n",
       " '감동입니다 일반 극장에서도 상영 해서 많은 관객들이 보고 북한의 실상을 알았으면 좋겠습니다',\n",
       " '북한체제의 허상을 볼 수 있는 영화 체제의 중요성을 절감했다',\n",
       " '문재인과 좌파민주당은 완전 불편한 북한과 사회주의의 참담한 현실을 그린 영화',\n",
       " '의식 있는 시민은 꼭 봐야 할 최고 영화',\n",
       " '같은 한반도인데 어떻게 이럴 수 있나 안타깝습니다',\n",
       " '마음이 먹먹합니다 이건 우리들이 알아야 할 북한의 현실인 만큼 많은 홍보로 지금의 대한민국을 돌아봐야 할 거 같네요',\n",
       " '관람객 눈 시울을 뜨겁게 만든 배우들의 열연 정말 좋았습니다 김감독님 앞으로도 좋은 영화 부탁드립니다',\n",
       " '화나고 슬픔이 가슴을 에이는 영화 강추합니다',\n",
       " '역시 대작입니다 추천합니다',\n",
       " '관람객 북한 전체주의 일인 독재 체제의 실상을 적나라 하게 보여주는 영화 북한에 대해 모르거나 환상을 가진 사람들이 꼭 봐야 할 영화',\n",
       " '북한인권 우리들이 꼭 보구 짐승만도 못한 김정은 정권 실체를 알게 할 영화입니다 청소년들 강추입니다',\n",
       " '관람객 흥행했으면 좋겠어요 이런 영화가 ㅠㅠ 잘 봤습니다',\n",
       " '많이들 보셨으면 좋겠네요',\n",
       " '관람객 관객분들이 많이들 우시네요 많이 슬프네요',\n",
       " '꼭 봐야 할 영화',\n",
       " '북한의 실상을 리얼하게 알려주는 좋은 영화입니다 북한의 폐쇄적이고 권위주의 독재체제에서 뇌물만 연등사 회적 부조리 비리가 너무 많아여',\n",
       " '북한의 실 생활이 그려진 영화로 우리나라도 탈북자가 굶어 죽는 일이 생겼죠 우리나라의 안보와 경제 걱정부터 해야 되겠습니다',\n",
       " '이 영화의 내용이 현재 북한의 현실이라는 점이 너무나 안타깝습니다',\n",
       " '감사합니다 좋은 영화 감사합니다',\n",
       " '상영관 안늘리냐 ㅡㅡ 아 진짜 심하네',\n",
       " '관람객 왜 이런 좋은 영화르 못보게 막는단 말입니까 죄값을 치를 날이 머지 않았다',\n",
       " '북한 인권을 챙기지 않고 통일을 논하지마라',\n",
       " '웃음과 슬픔이 모두 있는 영화에요 ㅠ 집 근처에 상영관이 없어서 명동까지 부모님 모시고 관람 갔는데 김규민 감독님이 오셨어요 감독님과의 만남 예상치 못했던 사랑의 선물이었습니다 상영관 좀 늘려주세요',\n",
       " '슬픈 현실을 깨닫게 해주는 영화 상영관 늘려서 많은 국민들이 봤으면 좋겠습니다',\n",
       " '관람객 전국에서 상영관이 개 ㅜㅜ그래서 어쩔 수 없이 이거 볼려고 부산에서 서울 당일 치기 하고 왔습니다 미친 이 되면서 까지 보고 싶었던 영화 서울 도착해서 이 영화 관련글 보다가 부산에서도 상영관이 있었다는 네이버 예매 업뎃 실망ㅜㅜ',\n",
       " '보고 싶어도 개봉관을 못 잡아서 지방에서는 보기 힘든 영화 더러운 문재앙 일당은 반드시 역사의 법정에 세워야 한다',\n",
       " '북한 인권 문제의 심각성을 일 깨워주는 작품',\n",
       " '이 시대에 꼭 필요한 영화입니다',\n",
       " '꼭 보셔야 할 영화 중 하나 개봉관이 적어 아쉬움',\n",
       " '모든 장면에 배우분들 연기 표정 하나 하나에 감탄하고 슬프고 가슴 아팠습니다 북 가정 휴머니 티 실화 극악한 체제라도 울 인간 휴머니즘까지 죽일 수 없다는 것을 느꼈습니다',\n",
       " '우리 모두가 꼭 봐야 할 영화입니다',\n",
       " '누구나 보아야 할 영화입니다',\n",
       " '인간의 본성인 가족 애를 잘 그렸는데 너무 슬프더군요 하늘로부터 인간통치를 위임받지 않은 자가 자신의 정권을 지키기 위해 너무 나도 큰 만행을 저지르고 있는 게 북한이고 한국의 정권은 그걸 애써 외면해 오고 있지요 한국인은 꼭 봐야 할 영화입니다',\n",
       " '북한인권에 침묵하는 청와대와 좌파정권은 이 영화를 봐라',\n",
       " '감독님의 진심이 담긴 영화 사랑합니다',\n",
       " '관람객 북한 상황에 대한 호기심으로 끝까지 몰입해서 봤습니다 배우들 연기도 리얼하고 집중하게 만드는 영화였고 처참한 상황에 눈물도 흘렸네요 강추합니다 북정권의 붕괴로 북한동포들의 해방을 학수고 대합니다 그러기 위해서 김정은 체제유지를 돕는 정치인들을 아웃 시킵시다',\n",
       " '좋은 영화입니다 꼭 보세요 상영관도 많이 늘어났으면 좋겠습니다',\n",
       " '상영관 좀 늘려주세요 ㅜㅜ',\n",
       " '관람객 충격 그 자체 영화 밖을 나와서 내가 남한에 태어난 것이 얼마나 큰 행복인지 깨달았다',\n",
       " '정말 우리가 봐야 할 영화입니다',\n",
       " '상영관과 상영시간대가 아쉬워요 늘려주세요',\n",
       " '북한정권에 우호적인 기독교인들이 반드시 봐야만 하는 영화',\n",
       " '국제 영화제에서 이렇게 많이 수상을 하고 인정을 받은 영화를 왜 국내 언론에선 소개조차 안하고 상영관은 또 왜 이리 부족한 건가요 봉오동 전투같이 날조 투성이의 영화는 예매율 위를 달리고 있다는 게 대한민국의 현실이라는 사실이 슬플 뿐이네요',\n",
       " '사랑에 선물 보고 싶다 문제앙 상영관 막지마라 국민이 이나라 주인인데 자유대한민국에서 이게 먼짓인지 이정부는 분명히 국민한테 심판 받응고 얍 더불당 들',\n",
       " '관람객 우리가 애써 눈감고 있는 비극 같은 민족으로서 너무 마음이 무겁습니다 영화의 완성도를 떠나 한정된 예산으로 고생 많이 하셨고 열정적으로 연기하신 출연진에게 성원을 보냅니다',\n",
       " '이것이 그저 영화였더라면 ㅠㅠㅠ',\n",
       " '한국사람이라면 꼭 봐야 할 영화',\n",
       " '북쪽으로 거리에 있을 동포들이 어떻게 살고 있을지를 그간 완전히 잊고 살았음에 스스로 깜짝 놀랐습니다 미안했습니다 미안했습니다 정말 미안했습니다',\n",
       " '눈물이 주르륵',\n",
       " '정말 슬프고 가슴 아픈 영화네요 최근 본 영화중에 제일 입니다 꼭 볼만한 가슴 아픈 영화네요 친구 지인들이 보고 싶다는데 상영관이 없어서 못본다고 안타까워 하네요 ㅠㅠ',\n",
       " '상영관 많이 늘여주세요',\n",
       " '감동적인 영화 꼭 봤으면 하는 영화입니다',\n",
       " '꼭 봐야 할 영화인데 왜 상영관 수가 적나요',\n",
       " '개봉관이 더 늘었으면 합니다',\n",
       " '상영관을 더 늘려야 합니다',\n",
       " '우리나라에서 만든 다른 영화는 안보기로 했습니다 보수 진영 영화인이 만들었다고 개봉관도 몇 개 없고 상영일수도 적게 하고 너무 편파가 심하네요 영화의 좌파화',\n",
       " '보고 싶다 보고 싶다 보고싶다 문재앙 상영관 막지마라',\n",
       " '보고 싶어서 별 개 드립니다',\n",
       " '이제 년전 그것도 거짓에 기초한 위안부 인권팔이 하면서 세기 북한 인권은 신경 안쓰는 인간 쓰래기 좌빨들',\n",
       " '기대하던 영화입니다 드디어 나오다니 감사할 따름입니다',\n",
       " 'ㅜㅜ 아베타도가 아닌 김정은 문재인타도입니다',\n",
       " '북한인권에 대해 한마디도 못하는 자에게 보내는 메세지',\n",
       " '영화를 볼 상영관을 늘려주세요',\n",
       " '대한민국이 정신 차려야 합니다',\n",
       " '관람객 어제 개봉하자마자 관람하고 왔습니다 다 북한 관련 영화로서는 극의 완성도도 상당한 수준의 수작입니다 마지막에 홀로 남아 꽃제비가 된 딸 효심이가 부르는 극중 노래가 너무 애절하여 아직까지도 여운이 가시지 않네요 가족 동반 관람을 권할만한 영화입니다',\n",
       " '북한인권 하나도 안중요 하나보네 왜 제대로 된 상영관 하나 없냐 말로만 인권 인권 정작행동은 이거 분명 정부 잇김 있다',\n",
       " '대박 대박 대박 ㅜㅜ 강추합니다',\n",
       " '개봉관이 너무 적은거 아닌가요 정말 인생 영화인데 혹시 정부가 상영 막고 있는 건 아닌가 생각이 드네요',\n",
       " '너무 너무 감동입니다 여러분 적극 추천합니다',\n",
       " '관람객 억지로 감동 쥐어짜내는 영화가 아닌 진심에서 나오는 감동적인 영화 가족끼리 다같이 봤네요 더 많은 분들이 볼 수 있게 상영관 늘려주세요',\n",
       " '관람객 북한의 실상에 가슴이 먹먹합니다',\n",
       " '상영관 늘려주세요 전 국민이 봐야 할 영화입니다',\n",
       " '이런 영화는 전국 개봉관에서 상영해 주세요',\n",
       " '가슴에 큰북이 울렸다 쓰레기 국가쓰레기 국가 안되려면 정신 바짝 차리자',\n",
       " '관람객 오늘 아이들 데리고 가족 모두 보고 왔습니다 북한의 인권실상에 대해서 이야기도 해주구요 실상은 더욱 비참하다고 ㅠㅠ 어서 빨리 저들이 노예 생활에서 해방되어 자유하기를 소망합니다 많이들 보러 가세요',\n",
       " '이렇게 좋은 영화가 하루에 한번 상영이 말이 됩니까 북한 사람들이 빨리 해방 돼서 인간답게 살았으면 좋겠습니다',\n",
       " '관람객 오늘 영화 보고 왔는데 정말 훌륭한 영화입니다 배우님들 연기 정말 잘하고 감정몰입이 정말 잘 되었던 것 같습니다 시중에 개봉하는 영화에 비하면 고퀄리티는 아니지만 북한의 실상과 그 속에서의 한 가족의 처절한 몸부림이 잘 묘사되어 있습니다',\n",
       " '이런 영화 많이 만들어주세요',\n",
       " '상영관 좀 늘려주세요',\n",
       " '너무 슬프고 가슴 아픕니다 사회주의가 뭐길래 인간이 하의 삶을 살아야 하는지 평화가 왔다고 하는 이정부는 북한 인권에 왜 침묵하는지 이해할 수가 없습니다',\n",
       " '관람객 너무 가슴이 아팠습니다 이처럼 처참한 북한의 실상을 보고도 북한을 좋아하는 사람이 있을까 궁금합니다 현재의 한국상황에서 우리나라 모든 사람들이 꼭 봐야 할 영화입니다',\n",
       " '볼려고 해도 영화관이 웂네 정치선 전 영화 말고 다양하게 보고 싶은뎅 저렴하게 다운로드 올려주실 거져',\n",
       " '관람객 엄마와 엄마 친구들과 함께 봤는데 감동이고 느끼는 게 많았다 한 분은 무섭다고 하시고 또 한 분은 현 실상은 이거보다 더 심하다고 말씀하신다 상영관이 적고 시간대가 관람을 어렵게 하지만 핵폭탄을 머리 위에 얹고 사는 우리 모두는 다 봐야 함 강추강추',\n",
       " '꼭 봐야 할 영화입니다',\n",
       " '상영관 늘려달라 혼자 보기 아깝다',\n",
       " '연기 참 잘하시네요 외면하고 싶지만 외면할 수 없는 현실인듯',\n",
       " '관람객 많은 분들이 슬픈 현실을 보셨으면 좋겠습니다 가슴이 너무 아프네요 영화를 볼 수 있게 노력해 주신 분께 감사드립니다',\n",
       " '관람객 김규민 감독님의 보석같은 영화 북한 인권에는 아닥하는 인권변호사 출신과 인권팔이 충들이 꼭 봐야 할 영화 문화 전쟁에서 승리합시다 멸공',\n",
       " '감동적입니다 실화 기반이라 하므로 더욱 가슴 뭉클했습니다',\n",
       " '정말 많이 울었습니다 배우들께도 진정한 갈채를 보냅니다 최근 본 영화중 가장 좋았어요 꼭 추천',\n",
       " '대한민국의 모든 국민들이 보셨으면 합니다',\n",
       " '예 고편보고 글 남깁니다 안타깝게 상영관이 인근에 없습니다 상영관을 늘렸으면 합니다',\n",
       " '최고입니다 감동이네요',\n",
       " '대한민국 사람은 누구나 보아야 할 영화',\n",
       " '상연관이 너무 부족해서 아쉬워요 ㅠㅠ',\n",
       " '감동의 영화 강 추',\n",
       " '어머니 아버지 예매해드렸는데 감동이라 하시네요',\n",
       " '이런 영화 많이 만들어주세요',\n",
       " '북한 황해도 한 가족의 슬픈 실화를 다룬 영화 사랑의 선물 이탈리아밀라 노국제 영화제 최고의 영화 부문과 여우주연상부문에 노미네이트 되기도 했다 뿐만 아니라 다수의 영화제에서 초청받으며 작품성을 인정받았다 기대됩니다 꼭 보고 싶습니다',\n",
       " '독립영화 인권 영화의 편견을 깨는 영화입니다 상업적인 영화에만 치중하는 우리들이 한 번쯤은 봐야 할 영화인듯 합니다',\n",
       " '감동이었습니다 이런 영화 많이 만들어주심 안될까요 오상철 조연출 흥해라 만쉐이',\n",
       " '이 영화가 너무 좋다는 것을 제대로 표현 못하겠는 내 자신이 한탄스럽다',\n",
       " '제목만 보고 늘 미뤄둔 영화였는데 잠에서 깬 새벽에 조금 전까지 홀린듯이 이 영화를 보고야 말았다 역시 편견은 무서운 거였다 새벽 감성을 충만케했고 크리스마스가 기다려진다',\n",
       " '정말 재밌게 봤어요 주옥같은 대사들 마음에 새기며 살아야겠어요',\n",
       " '울엇어요 ㅜ 재밋어요 슬프고',\n",
       " '이런 영화 또 있으면 추천 좀 해주세요 밤새서 볼 수 있어요',\n",
       " '와 진짜 평점 잘 안쓰는데 너무 감동적이고 즐거운 영화네요 진짜 너무 잘 봤어요 진짜 베스트 영화입니다',\n",
       " '네이버 평점도 쓰레기가 되 버렸구나 ㅋㅋ 평점 상위 영화 봐봐라 무슨 인권 놀이 하는 것도 아니고 별것도 아닌 영화들이 다 상위권이네 좌빨들이 원하는 즈그들 만에 영화판이 완성 되는 듯 하다 ㅋㅋ',\n",
       " '집을 향해 눈 길을 오래 걸어 집으로 들어와 기다리는 사람을 만나는 것 같은 기분을 주는 영화',\n",
       " '정말 좋은 잘 만든 영화입니다 모든 장면 모든 대사 하나 하나 다 마음에 남아있습니다',\n",
       " '좋다 잔잔하고 포근한 강 같은 영화',\n",
       " '동화처럼 아름답고 귀여운 영화',\n",
       " '우아 격조 감동 유머 느낌 좋은 영화',\n",
       " '쌀쌀한 가을 밤 진한 감동이 남네요',\n",
       " '편지 쓰는 거 도와줄때 모텐슨 형님 때매우껴죽는 줄 알았네 ㅋㅋㅋ 정말 훈훈하고 좋은 영화 간직하게 됐다는 즐거움 가져도 될 듯 유색인으로서 가는 곳마다 차별받는 그 기분을 상상이나 할 수 있을 까마는 어렴풋이 동화되어 영화와 함께 했습니다 멋진 영화입니다',\n",
       " '올해 최소 영화 짝짝짝짝굿',\n",
       " '멍청한 페미벌레들이 쓴 같잖은 평은 애잔하기만 하다 왜 남자들의 우정이라 도저히 못견디겠냐 페미벌레가 년대 백인이었으면 인종차 별주의자로 살아가고 있을 것이다 그 역겨운 인성을 자성하기엔 지능마저 덜 떨어진 불쌍한 페미벌레들',\n",
       " '너무 슬프지만 따뜻한 영화였어',\n",
       " '잔잔한 드라마 한편 잘 보았습니다',\n",
       " '평점이 높은 이유가 잇다',\n",
       " '인생 영화 위안에 듭니다 ㅜㅜ 최고 최고',\n",
       " '영화 정말 좋습니다 보고 난 후에 수많은 편견을 가지고 있는 내가 보이네요',\n",
       " '볼만한 영화 네요',\n",
       " '재밌게 봤습니다 빗 속에서 셜리 박사의 대사는 정말 슬프더군요',\n",
       " '명작 그 자체',\n",
       " '한번 보세욧 끝내줍니다',\n",
       " '즐겁고 따뜻한 영화 여운이 길게 남는다 최고',\n",
       " '언터 처블 의우정 이라는 영화가 떠올랐다 둘 다 같은 실화이지만 주는 메세지는 완전 다르다 언터 처블은 웃음으로 끌고 가는 힘이 있었다면 그린북은 웃음보다 편견이라는 덪을 깔아두고 서로의 관점을 더 중요시하면서 신뢰적인 우정을 쌓아간다는 것이다',\n",
       " '히든 피겨스보다 더 재밌게 감명 깊게 봤다 음악 스토리 연기 다 완벽 이걸 재밌게 보셨다면 히든 피겨스도 봐보세요',\n",
       " '자극적이지 않으나 재미있고 느낌 있는 영화 할리우드에도 이런 영화가',\n",
       " '내가 알바 그만두고 시간 남아 돌아 이 영화를 보게 될 운명이였던 거 같다 그리고 마지막 아내가 셜리 안아줄 때 나도 모르게 흐뭇해졌다',\n",
       " '이런 게 만점 영화지',\n",
       " '당길 때와 밀 때를 정확히 아는 각본 감탄과 공감을 함께 끌어내는 연기',\n",
       " '여운이 남는 영화입니다 주인공들의 변화와 주변의 차별적 대우를 보면서 저 스스로 반성할 수 있는 영화였어요',\n",
       " '인생 영화급이네요 여운이 아주 남아용',\n",
       " '평점 점 날리고 갑니다',\n",
       " '저들은 들어올지 말지 선택할 수 없었지만 당신은 할 수 있었어요',\n",
       " '어떤 말도 필요없음',\n",
       " '백인답지도 흑인답지도 그렇다고 남자답지도 못하다는 셜리의 말이 슬펐습니다 생각해보니 일상에서 아무렇지 않게 썼던 답게 라는 말은 참 지독한 프레임이었네요 프레임에 끼워맞추지 말고 가장 나답게 살아갈 수 있다면 좋겠어요',\n",
       " '영화관 이였으면 기립 박수 쳤을 거에요',\n",
       " '돈이 아깝지 않은 오히려 더 내고 싶은 그런 영화였어요 좋은 영화 잘 봤습니다',\n",
       " '인종차별에 관한 적절한 휴먼 드라마 현실을 말하기에도 한참 부족하다',\n",
       " '비고 모텐슨이 남우 주연상을 받았어야 했는데 아쉽다',\n",
       " '최고다 완벽했던 영화',\n",
       " '아름답다 아름다워',\n",
       " '기대 없이 봤는데 정말 잘 만든 영화 피부색과 상관없이 사람 대 사람으로서의 친구가 되는 휴머니 티 영화',\n",
       " '이런 영화가 있다는 거에 감사하네요 저를 뒤돌아보게 되는 영화였습니다',\n",
       " '집에서 두번 연속 재생중',\n",
       " '용기라는 것을 다시 금 되세겨 본다',\n",
       " '작위적이지 않고 억지스럽지 않으며 쥐어 짜내지 않는 이 기분 좋은 감동과 재미란 고작 듣는 입장에서 빗속에서 말한 셜리의 진심이 참 슬프게 들렸는데 본인은 오죽했으랴 실화를 바탕으로 한 영화는 언제나 최고',\n",
       " '많은 생각을 하게 만드는 영화 토니와 셜리 모두 각자의 틀을 깨고 나와 진정한 영혼의 친구가 되는 과정 하나 하나 아름답다',\n",
       " '평점을 주지 않을 수 없다 오렌지 버드에서 마지막 공연 최고 명장면인 듯 하 또한 감히 내가 알 수 없는 흑인들의 고통을 아주 조금이나 마 이해할 수 있었던 것 같다 개 명작 띵작임 또 볼거야 내일',\n",
       " '품위와 유머는 인생의 흐름을 유연하게 해준다',\n",
       " '좋다 이런 영화 이 와중에 마 허샬라 알리 오빠 진짜 멋있다ㅋ',\n",
       " '인생영화로 등극 스토리 연기력 눈 귀 모두 만족하는 영화였습니다',\n",
       " '기분 좋게 해주는 영화였습니다',\n",
       " '평점 처음 남겨요 여러 방면으로 무지하지만 영화가 담고 있는 의미가 따뜻하게 전해져 좋았습니다 저에게 얼마나 많은 편견이 있을지 반성하고 돌아보게 돼요 생각이 많아지면서도 마음은 따뜻해졌습니다',\n",
       " '훈훈한 감동적인 스토리',\n",
       " '내가 요 근래 본 영화중 당연 으뜸이였다',\n",
       " '꼭 봐야 할 영화이다',\n",
       " '역시 논픽션은 더 재밌습니다',\n",
       " '흡연자들은 보지 마세요 진짜 맛깔나게 담배를 피워서 흡연충동을 부르는 영화입니다 혼자 담배 필수 있는데서 보실 수 있는 분은 추천 비 흡연자 애인이랑 보신다면 비추입니다',\n",
       " '따뜻하고 좋은 영화예요',\n",
       " '우와 안봤으면 클날뻔 원에 로 봤음 오랜만에 좋은 영화',\n",
       " '박사가 컨실러 바르면서 거울 볼 때 너무 마음이 너무 아팠다',\n",
       " '인 생 영 화 너무 재밌고 슬프고 맘 아파하다 즐거워하며 봤습니다 히든 피겨스에 이은 인생 영화 등극',\n",
       " '호연 그리움 아쉬움',\n",
       " '인간이 가져야 할 타인에서 친구가 되기까지 우리가 알고 배워야 할 것들',\n",
       " '담배 엄청 피네 밥 먹으면서 같이 필땐 으웩',\n",
       " '정말 많은 여운이 남은 영화네요 꼭 봐야 할 영화입니다',\n",
       " '한국 영화였다면 운전기사역으로 마동석이 캐스팅 되어 박사를 괴롭히는 애들을 원펀치로 다 보내버렸을텐데 ㅎ',\n",
       " '아름다운 영화다 두배우의 내면 연기는 황홀할 정도로 좋다 이런 심오한 주제를 위트 있게 그러나 가볍지 않게 멋지게 그려냈다 나를 좀 더 성장시켜 주는 영화를 보게 돼 행복하다 설리 박사의 슬픈 눈이 자꾸 아른거린다',\n",
       " '와 두 주인공 캐미 미쳤다 연기력 연출 모두 만점 기분 좋아지게 만드는 영화',\n",
       " '내가 가진 무의식적 태도와 인식에 대해 재고해볼 수 있는 영화 영화에서 가장 중요한 재미 도 있다 반지의 제왕에서의 비고 모텐슨은 전혀 생각 안났음',\n",
       " '글쎄요 최고 평점이라 보긴 했는데 음',\n",
       " '너무 나의 마음 움직이다',\n",
       " '보는 내내 많은 생각을 했고 살면서 종종 이 영화를 생각하고 챙겨봐야 할 거 같다',\n",
       " '마음이 따듯해졌다 서로를 이해한다는 건 이런 걸까 마지막에 셜리박사에게 돌로레스가 건낸 인삿말에서 괜히 눈물이 핑 도네',\n",
       " '기대 안하고 봤는데 마음이 따뜻해지는 영화네요',\n",
       " '좋은 영화인듯 하지만 품위 있고 대단한 돈셜리가 무식하게 보여지는 백인 토니의 도움을 받아 백인토 니가 멋지게 보여지는 스토리가 아쉽네요',\n",
       " '말이 필요없다 이게 영화지 ㅠㅠ',\n",
       " '이런 영화 이런 사람 우리에게 필요한 요소 들',\n",
       " '보고 나면 기분이 좋아지는 영화',\n",
       " '말이 필요 없다 인종차 별은 부끄러운 역사이다 모든 사람 인간 동물은 동등해야 하고 공존해야 한다',\n",
       " '정말 감명 깊게 봤습니다 포스터만 보고 재미없을 것 같은 편견을 가졌습니다 삶을 살아가며 제가 가진 편견에 대한 성찰도 해야겠습니다 좋은 영화가 다 알려져서 많은 사람들이 봤으면 하는 그런 아주 유쾌하고 감명 깊은 영화입니다',\n",
       " '마지막 가족과 함께 하는 장면 너무 따뜻하더라',\n",
       " '살아온 가치관 피부색 성격 모든 부분이 상극인 두 남자의 브로맨스 영화',\n",
       " '뻔한 스토리지만 이런 과하지 않은 스토리는 항상 기쁨을 준다',\n",
       " '가나다 라 마바사앚다 차카',\n",
       " '재밌다 근데 ㅠ 를 보여줄라는 게 ㅜ 너무 티가 나서 반감도 든다',\n",
       " '사회적인 문제를 담백하게 보여주는 영화였습니다',\n",
       " '메리크리스마스 온 인류 하나 됨을 인한 배려의 영화',\n",
       " '관람객 흑백 갈등이 역지사지로 풀려가는 느낌',\n",
       " '마음이 따뜻해지는 영화',\n",
       " '오랫만에 정말 좋은 영화였습니다 마지막 연주 장면은 저도 모르게 울컥 했습니다 감동적이었습니다',\n",
       " '왜 이렇게 평점이 높을까 했는데 정말 많은 생각을 하게 하는 영화네요',\n",
       " '재미있다 예전에 이 이야기를 서프라이즈에서 본적이 있는데 뭔가 앙고보니 더 재미있네',\n",
       " '여러 번 썼다 지웠다 반복하네요 좋은 영화입니다 꼭 보세요',\n",
       " '마지막의 마지막까지 두 사람이 행복해지기를 바라며 조마조마 하게 하다가 행복한 눈물을 흘리게 하는 영화',\n",
       " '소재나 내용 자체도 요즘 시대에 뒤 떨어져 있으며 내용자치도 매우루즈 함 의미가 뭔진 알겠지만 대 대는 거의 재미없음 너무 고평가 되서 점드림',\n",
       " '인생영화라 생각될 만큼 긴 여운이 오래 오래 남을 거 같다',\n",
       " '시대적 상황을 적나라 하게 연출한게 정말 대단한 것 같다 두 사람의 케미가 아주 돋보였고 해피엔딩으로 끝나서 다행이다 훈훈한 영화 그 자체였다',\n",
       " '좋은 영화이나 점 이상은 아닌 듯 합니다',\n",
       " '최고입니다 기대하던 영화인데 실화라니 더 감동이네요',\n",
       " '왜 혼자 맨날 위스키 한병이 필요한지 알거 같다',\n",
       " '진짜 명작 괜히 상받은 게 아니네 진짜 추천하고 싶다 이런 영화가 만관객 되야 하는데',\n",
       " '진짜 재밌습니다',\n",
       " '편견을 없애주는 마음이 따뜻한 영화',\n",
       " '인생 최고의 명작입니다',\n",
       " '한국처럼 미국도 폭력적이고 인종차별 심한 지역이 있네',\n",
       " '오랜만에 마음이 알차지는 영화였습니다 감사합니다',\n",
       " '너무 감동적이고 집에서 봐도 지루하지 않게 집중해서 잘 봤어요 영화관에서 보지 못한게 넘 아쉽네요 ㅠㅠ',\n",
       " '재개봉 하면 계속 보고 싶은 영화',\n",
       " '오랫만에 좋은 영화 봤네요 보는 내내 즐거웠습니다',\n",
       " '끝나고 난 후에도 쉽게 일어날 수 없는 영화',\n",
       " '여운이 너무 긴 영화입니다 영화 보면서도 같이 억울하고 속상했는데 더 널리 알려져야 할 영화입니다',\n",
       " '번 정도 돌려봤네요 여운이 긴 영화입니다',\n",
       " '와 마 허샬라 알리 이 배우 너무 멋진데요',\n",
       " '굿 잔잔한 감동이 있는 명작',\n",
       " '정말로 완벽한 영화네요',\n",
       " '마허샬라 알리에게 푹 빠져서 필모 그래 피를 봤는데 그간 내가 본 영화에 알게 모르게 많이 나왔네 왜 이제야 그의 매력을 알아버린 것인가 너무 좋다 영화도 배우도',\n",
       " '여운이 많이 남습니다 정말 재밌게 봤어요',\n",
       " '관람객 차별과 편견에 맞서는 영화',\n",
       " '연기 진짜 잘한다 이게 연기지',\n",
       " '잘 봤지 자본의 힘을',\n",
       " '추천으로 봤는데 너무 재미있고 인생 영화인것 같습니다',\n",
       " '점보다 위가 있다면 그 점수를 주고 싶다 대박 강추',\n",
       " '영화를 보면서 다양한 비유가 녹아있는 영화 끝내 마지막엔 내 마음마저도 따뜻해졌다 역설적인 장면들이 참 많아서 비록 시간 남짓한 시간동안 많은 생각들이 내 뇌리속을 스쳐지나갔다',\n",
       " '너무 좋다 볼 때는 별거 없는 영화였는데 끝나고 소름이 돋았다 즐거우면서도 묵직함을 던져주는 영화랄까 하지만 끝나고 난 뒤의 내 기분은 해피',\n",
       " '나만 울었나 나 스스로의 아픔에 비할대 없는 미안함에',\n",
       " '우연히 케이블에서 방영하는 것을 보고 너무 감동 받아 여기까지 들어와 적습니다 최고의 영화 웃다 울다 최고점을 안줄수가 없네요',\n",
       " '잔잔하면서 지루하지 않은 연출과 연기가 좋았던 영화였네요',\n",
       " '돈셜리처럼 행동하고 토니처럼 생각해야 한다',\n",
       " '관람객 그린북의 의미를 찾아보게 하는 영화 감동적입니다',\n",
       " '기대없이 본 영화인데 정말 긴 여운을 남긴다 몇 번이고 곱씹어볼 영화의 대사들이 쉬이 넘길 수 없는 이유',\n",
       " '차라리 별 볼 일 없는 존재였으면 모를까 백악관에서 공연까지 하는 위대한 연주자가 하루에도 수차례 천국에서 시궁창을 오가는 롤러코스터 같은 처우에 자존감이 쉴틈 없이 깎여 나가 온전한 정신으로 살 수나 있었을까 싶다 당시 흑인들의 삶을 엿볼 수 있었다',\n",
       " '이런게 영화다 퍼펙트',\n",
       " '이런 게 영화입니다',\n",
       " '두말 필요없다 완벽한 걸 작이다',\n",
       " '뿌리 깊은 차별보다 더 깊은 곳에 자리잡은 우린 모두 같은 사람이라는 변치 않을 사실',\n",
       " '',\n",
       " '배우의 연기 스토리 음악까지 완벽했다',\n",
       " '크 연기 각본 목적성 따뜻함 다 가짐',\n",
       " '대여 말고 구입으로 볼껄 몇 번 더 볼 영화',\n",
       " '살면서 꼭 봐야 할 영화인 것 같아요',\n",
       " '우리가 흔히 말하는 음악이라는 작품 즉 이 영화의 시대에서의 부자와 백인들이 듣는 음악을 가지고 이야기를 풀어낸 것이 신의 한수였다',\n",
       " '봐서 좋은 영화입니다요',\n",
       " '마음을 움직이는 영화였습니다',\n",
       " '알리 눈빛은 정말 뭐라 표현이 안된다 여태 어디 있다가 이제야 나타난 건지',\n",
       " '이런 거 단적 없었는데 너무 좋은 영화였습니당 최고예요 그냥 보는 내내 미소를 짓게 하고 영화가 끝나는 게 너무 아쉬웠어요 마음이 따뜻해지는 영화',\n",
       " '영화는 이런 걸 두고 영화라고 한다',\n",
       " '말이 필요없네요 명작입니다',\n",
       " '오랫만에 느껴본 따뜻한 영화',\n",
       " '많은 걸 느끼게 한 영화입니다',\n",
       " '처음부터 끝까지 재밌어요 섹시 아라곤 이 충격이였어요 ㅋㅋ 연기 진짜 잘하네',\n",
       " '너무 좋았어요 그 시절 흑인차별 참 심했네요 ㅜㅜ',\n",
       " '생각없이 보기 시작했는데 시간 가는 줄도 모르고 봤네 점은 당연한 거고 정말 보는 내내 흐뭇했다',\n",
       " '시간 훅 가고 생각 이상으로 재밌고 웃겼다 하나도 안지루하다 재밌고 느낄 것도 많은 로드 영화 왜 유명한지 알겠다',\n",
       " '여운을 남기는 영화 년간 본 영화중 최고',\n",
       " '최고다 무슨 수식어가 더 필요할까',\n",
       " '후회하는 일은 절대 없을 꼭 봐야 할 명작',\n",
       " '지루한 느낌 없이 잔잔하고 멋지다',\n",
       " '흑인차별하는 사람들이 보기 좋은 영화',\n",
       " '유색인종에 대해 생각이 달라진 주인공의 모습을 보며 나를 되돌아보게 되었다',\n",
       " '감동실화 강추입니다',\n",
       " '많은 생각이 들었던 영화',\n",
       " '보는 사람을 불편하게 하는 편협한 장면 을 이토록 품격으로 승화시키다니 재즈를 듣고 와인을 마시며 멋드러진 시를 근사하게 뽐낸 듯한 기분이다',\n",
       " '어떤 글보다 세련된 연출',\n",
       " '간만에 본 최고의 영화입니다',\n",
       " '나는 이런 영화를 좋아한다 세상에서 정말 의미있는 것을 볼 줄 아는 사람들이 있고 나와 다른 사람을 마음 속 깊이 이해해주는 사람도 있다는 것을 보여주는 영화',\n",
       " '상영관이 너무 적었다는 게 굉장히 아쉬웠던 영화 정말 꼭 보시길 바랍니다',\n",
       " '너무 나도 아름다운 영화',\n",
       " '정말 재밌게 봤네요 특히 마지막 장면때 남편을 빌려줘서 고맙다는 말이 좋았네요',\n",
       " '관람객 조금 지루했지만 재미있었어요',\n",
       " '무거운 주제가 녹아있음에도 평온하고 차분하게 풀어 마음에 무언가가 남은 것 같았어요 멋진 영화였습니다',\n",
       " 'ㄹㅇ 띵작 보면 진짜 여운이 많이 나은 영하에요',\n",
       " '정장 가게에서 옷 못입어보게 하니깐 알겟다고 웃으면서 말하는 셜리 표정이 잊을 수가 없네',\n",
       " '저 당시 남부는 노예 년 이구만',\n",
       " '최고네요 최고의 마지막 명장면 ㅠㅠㅠㅠ 펑펑 울었어요 감사한 영화에요 감사합니다',\n",
       " '이게 바로 영화 한 곡의 클래식 음악을 아주 기분 좋게 들은 느낌',\n",
       " '이렇게 착한 영화는 처음 본다',\n",
       " '멋진 영화입니다 눈폭탄 속을 뚫고 토니를 내려 주고 셜리가 떠날 때 너무나 쌔드엔딩이라 생각했는데 정말 크리스마스와 같은 해피엔딩이 이어졌네요',\n",
       " '차별에 맞선 두 남자의 아름다운 자세와 우정 우리는 모두 다 같은 인간이다',\n",
       " '몇 년이 지나도 오랫동안 기억될 영화',\n",
       " '완벽한 기승전 결과 캐릭터의 심리의 변화를 보여주는 요소요소 거기다 유머 한 스푼 또 다른 흑인과 백인의 우정을 보여주는 명작의 탄생',\n",
       " '관람객 많은 걸 생각하게 해준 영화 추천입니다 정말 롱',\n",
       " '잔잔하면서 기분이 좋아지는 영화',\n",
       " '',\n",
       " '오랜만에 찾은 반가운 영화',\n",
       " '각본이 진짜 탄탄합니다',\n",
       " '좀 평이하게 흘러가긴 하지만 인종차별에 관해서 생각해볼 수 있는 영화',\n",
       " '고요한 정적 속에서 문화 전통 예술 모든 것이 과하지 않게 가미된 영화',\n",
       " '관람객 최고의 영화 음악도 좋았고',\n",
       " '인생 영화 두고 두고 봐야지 그 자리까지 가기 위해서는 천재적 능력뿐 아니라 용기 또한',\n",
       " '영화를 보는 내내 훈훈했고 마지막 장면에서는 눈물이 났다',\n",
       " '최고 ㅠㅠㅠ 따뜻하다',\n",
       " '서로의 다름을 인정하고 존중한다는 건 얼마나 멋진 것인가',\n",
       " '스피디 하면서 메끈한 진행 그리고 휴머니 티의 마무리에 진한 감동을 받았습니다',\n",
       " '관람객 두 남자의 멋지고 세련된 우정',\n",
       " '정말 감명 깊은 영화에요 추천추천',\n",
       " '이런 영화에 별점을 매길 필요가 있을까요',\n",
       " '이게 영화지 남은 시간이 줄어 들수록 아쉬움이 커졌던 영화',\n",
       " '관람객 배우들의 연기도 영화 자체의 스토리도 보고 나서 보길 참 잘했다고 생각하게 해주는 영화',\n",
       " '감동적이며 삶의 가치를 깨닫게 해준 영화',\n",
       " '올 정말 재밋게 잘 봤어요',\n",
       " '작품성 재미 내용 모두 갖춘 영화',\n",
       " '입가에 웃음이 지어진다',\n",
       " '가히 올해 최고의 영화라고 할 수 있다',\n",
       " '가슴 뭉클하면서 기쁨이 있는 영화다',\n",
       " '오렌지버드에서의 연주는 참 좋았지',\n",
       " '그린북은 유색인족에 대한 편견만은 아니다',\n",
       " '편견이 편견을 만들었다고 할 수 있을까 영화 보는 내내 조마조마한 내 마음의 편견이 이 영화를 보는 내내 불안했지만 주인공의 성숙하는 과정이 불안감을 차근히 녹여간 영화였다 더 넓은 세계를 경험하고 용기를 가지고 살아갈 것이다',\n",
       " '내가 갖고 있던 편견에 대해서 다시 금 생각해보게 되었고 영화에 너무 다큐와 코믹을 잘 어울린 블랙코미디를 잘 녹여낸 영화이고 근래 봤던 영화 중에서 최고의 영화인 거 같아요',\n",
       " '정말 재밌는 영화 토니가 아라 곤이었다니 ㅎㅎ',\n",
       " '얼마전 페이스북에서 한국에서 유학중인 블랙아메리카노가 한국인들에게 실험영상을 찍은 걸 봤다 한국인들에게 흑형 흑누나 깜둥이가 무슨 뜻인지 물어보는 ㅠㅠ 어제 이 영화를 보고 다시 한번 인종차별의 부끄러움이 밀려온다 영화 헬프 이후에',\n",
       " '번 본 영화 최고의 영화',\n",
       " '믿고 보는 비고님 감동',\n",
       " '관람객 꼭 봐야 할 영화 맞습니다',\n",
       " '아라곤 행님은 영화 선구 안도 갖춘것이 틀림없다 히 달고도 재미있게 봤는데 이건 그 이상이네',\n",
       " '노잼 입니다 최악이네요',\n",
       " '사람에 대한 편견과 차별 선입견을 부끄럽게 하는 영화였습니다 두 주인공이 서로 마음의 거리가 좁혀지면서 우정이 커지는 것에 많이 감동했습니다',\n",
       " '그냥 애들 용 아름다운 세상을 다룬 영화 실제는 분명 영화보다 서로 얼굴 붉혔을 거에 만원 건다 씨발 오늘 내 기분이 않좋나 보네 나이 먹어서 그런가 그냥 따뜻해지는 영화임',\n",
       " '베트남항공서 더빙으로 본 그린북 감동임',\n",
       " '영화 진짜 잘 만들었다 비고 모톈슨의 양아치 이탈리아 연기는 보는 내내 소름 돋는다',\n",
       " '영화를 보면서 마음 한 켠이 답답하기도 하면서 감동적이기도 하고 여러 가지 복합적인 감정이 든다 ㅜ변해가는 토니의 모습이 인상적이다',\n",
       " '관람객 최근 몇 년간 본 영화 중 가장 좋았어요',\n",
       " '영화의 흐름이 흡사 구렁이 담 넘어가듯 너무나 유순하여 장르적 기시감이 거의 느껴지지 않은 웰 메이드 무비',\n",
       " '좋은 각본 좋은 배우 좋은 연출 박자를 고루 갖춘 영화 영화보고 너무 재밌어서 동네 아주머니와 어머니 모시고 또 보러 감 처음 봤을 때 무심코 지나친 인종차별에 대한 말과 행동들이 두 번째 봤을 때 휠씬 많았다는 걸 알게 됨',\n",
       " '관람객 재미있을까 싶은 소재로 대단히 감동적인 스토리를 만들어 내는 연출력이 너무 놀랍다',\n",
       " '아라곤이었다니 ㄷㄷㄷ',\n",
       " '개같은 백인놈들 사람은 누구나 다 평등하다 영화 보면 진자 미국이 얼마나 백인위주의 국가였는지 알거 같다 그리고 왜 흑인들이 불만을 가지는지도 알거 같다',\n",
       " '영화란 이런 것 최고 더 이상 뭐가 필요하리',\n",
       " '차별을 뛰어넘는 대단한 영화 우리에게도 그 무언가가 필요하다',\n",
       " '흑인 식당에서 치는 피아노가 너무 좋았다',\n",
       " '연기부터 음악까지 눈과 귀와 감성까지 만족',\n",
       " '스스로 만들어낸 벽을 허무는 순간은 상대방을 있는 그대로 존중하고 받아들이는 것 인가 아주 단순하지만 어려운 메세지',\n",
       " '멋진 수작입니다 완전 감동입니다',\n",
       " '마음이 아프다 아주 많이',\n",
       " '평점 위할 정도 절대 아님 뭔가 적인 요소들이 너무 많아서 오히려 반감 들고 수작 근처도 못감',\n",
       " '간만에 기분 좋은 영화를 보았네요',\n",
       " '별 기대 안하고 본 영화인데 참 좋은 영화였다 정말 잘만든 영화이고 좋은 영화이다 꼭 다들 한번 씩 두 번씩 보시길',\n",
       " '미국 인종차별 문제를 일 깨워 주는 가장 쉽고 좋은 방식은 역시 이런 영화의 힘',\n",
       " '관람객 비고모 텐슨이 아내에게 편지를 쓰는 장면이 인상적이었다',\n",
       " '마음 훈훈해 지는 영화 간만에 재밌는 영화 봤다',\n",
       " '감동적이고 재미있게 봤어요',\n",
       " '근래 본 영화 중에 가장 잼있게 본 영화 그 시절 얼마나 서럽게 울었을까',\n",
       " '인종차별 랭킹 나라 중에 한국이 아직도 상위권에 있다는 사실',\n",
       " '가슴이 답답하기도 했다 찡 하고 따뜻해지기도 하는 경험을 하게 해주는 영화 힐링 영화로 최고',\n",
       " '관람객 많이 생각하게 되는 영화였어요 해피엔딩이라 좋습니다',\n",
       " '제 인생에 있어서 정말 손꼽을 영화네요 사실 이런 말씀드리기 그렇지만 제가 본 영화들 중 감히 최고의 영화라 말하고 싶네요 그리고 가슴에 새길겁니다',\n",
       " '가슴 쫄면서 봤네 ㅇㅇ 엔딩이라 맘에 듬',\n",
       " '관람객 정말 최고였습니다 잘 봤읍니다',\n",
       " '간만에 만난 최고의 영화',\n",
       " '관람객 다름으로 인해 더 아름다운 두 배우간의 캐미가 이 영화의 주된 축이다 당시 인종 차별의 어두운 부분을 새로운 시각으로 관객에게 알리고 그에 굴하지 않는 주인공의 마인드와 행동으로 감동을 선사했다',\n",
       " '그냥 꼭 한번은 보세요',\n",
       " '감동 따뜻하고 의미있는',\n",
       " '',\n",
       " '완전 명작이구마잉 재미도 있고 감동도 있고',\n",
       " '최고다 셜리도 최고고 아 우리 비고 형 그냥 최고에요 인종차별이란 다소 무거운 소재로 이렇게 유쾌하게 그려내다니 보는 내내 깔깔 거리면서 봤어요',\n",
       " '꼭 봐야 될 영화라서 추천합니다',\n",
       " '오랜만에 넘 좋은 영화 봤네요',\n",
       " '흑인의 충분히 매력적인 단어선택 격식 있는 어조 인격체로 여기는 행동들로 인하여 깨져버린 백인의 마음 언터 처블이 너무 생각이 났기에 점',\n",
       " '관람객 많은 생각을 하게 만드는 잔잔한 감동이 오래 남는 영화네요',\n",
       " '최고 실화를 바탕으로 한 영화지만 어느 정도 다른 점이 있다고 해도 상관없다 많은 생각을 하게 해주는 좋은 영화 세상은 아직 변화가 필요하다',\n",
       " '정말 최고의 영화였다 셜리의 말이 정말 마음을 울렸다',\n",
       " '관람객 기대만큼은 아니었지만 재밌었어요',\n",
       " '야 밤에 케네디 대통령에게 전화할 수 있는 클라스에 바지가 흥건해 지는',\n",
       " '여운이 길게 남는 따뜻한 영화입니다',\n",
       " '좋은 영화가 재밌기도 하다니',\n",
       " '왠만하면 단점을 지적하는데 이 영화는 도저을 못찾겠다 너무 잘 만들었다',\n",
       " '내용도 참신하고 따뜻하지만 발레롱가 표정 연기가 진짜 압권이네 치킨 정말 싼티 작렬로 뜯어먹는 장면 웃김 ㅋㅋㅋㅋ',\n",
       " '우리가 가진 모든 편견을 돌아보게 하는 영화',\n",
       " '초반부에 좀 지루해서 평점 잘못됐나 했는데 끝까지 보니 감동 주르륵',\n",
       " '잘못된 편견보다 한심한 건 없다',\n",
       " '년 본 영화중 최고의 영화',\n",
       " '점보다 더 주고 싶은 영화였다 안본 사람 있으면 꼭 보시길',\n",
       " '관람객 마음이 따뜻해지는 영화고 특히 영화의 가 너무 좋네요',\n",
       " '관람객 잔잔한 미소로 마음이 따뜻해지는 영화',\n",
       " '최고입니다 두번 세번 보게 될 영화 몰입도 연기력',\n",
       " '스토리 진행중 최근 유행 중 인기 키워드 용기 가 돋보인다 마 허마드 알리의 연기력은 과연 압권이었다 그가 문라이트의 후안이기도 하다니',\n",
       " '잔잔하고 인종차별에 대해 얘기한 영화',\n",
       " '무조건 보세요 따뜻한 영화입니다',\n",
       " '관람객 담백한 인물들로 채워진 준수한 영화',\n",
       " '사실이 바탕이었기에 억지스럽지 않았고 편견 이라는 것에 대해 생각해보는 계기가 되었다 보는 내내 편견으로 마음이 불편했지만 그걸 이겨내는 두 남자의 진한 우정이 마지막에는 마음을 따뜻하게 만들었다',\n",
       " '따뜻한 브로맨스 로 드무비',\n",
       " '평점 클라스 봐라 ㅋㅋ 너무 한거 아니냐',\n",
       " '블루레이로 감삼 두 배우의 연기가 대단하고 내용 전개 중에 심한 갈등이 나올 거 같았는데 나오지 않아 편하고 재밌게 볼 수 있었다',\n",
       " '노잼 노잼 노잼 노잼 노잼',\n",
       " '시작은 유쾌했다 그렇지만 가면 갈수록 묘하게 안타까우면서 슬프고 화가 났지만 토니의 현란한 말빨로 상황을 넘어가며 관객과 배우는 아슬아슬한 줄 타기를 이어 나갔다 그러면서 서로를 배우게 되는 두 남자의 우정과 빠꾸 없는 직진이 맘에 들었다 감독덤앤더머 감독',\n",
       " '이런 게 영화지 꼭 보시길',\n",
       " '점 그 이상을 주고 싶은 영화',\n",
       " '편견을 버리고 서로의 차이를 받아들이자',\n",
       " '너무 감동적이고 배울 점이 많은 영화네요 재밌게 잘 봤습니다 이런 영화가 스크린에 걸려야 할텐데',\n",
       " '마음이 따뜻해지는 영화 피부색은 중요하지 않다',\n",
       " '모르고 봤다가 뒤통수 맞은 느낌이네요 정말 잘만든 수작입니다 왜 그렇게 상을 많이 받았는지 알겠네요 아 근데 우리의 마초 아라곤 형님이 벌써 저렇게 늙었어',\n",
       " '평점을 조작한 것 같아 보게 되었다',\n",
       " '재밌고 감동적이고 가슴 따뜻해지는 영화였습니다',\n",
       " '토니가 셜리박사를 가족들에게 소개시켜줄 때 정말 멋있고 따뜻했다',\n",
       " '관람객 최고예요 강력 추천합니다',\n",
       " '감동이다 그린북',\n",
       " '아니 토니가 반지의 제왕 아라곤이라고 이태리 악센트 제스처 그냥 이태리 배우겠거니 했는데 감동과 꿀잼이 공존하는 영화입니다',\n",
       " '오랫만에 마음이 따뜻해지는 영화를 봤습니다',\n",
       " '켄터키에서 먹는 켄터키 프라이드 치킨은 무슨 맛일까',\n",
       " '강추 또 강추 정말로 볼만 합니다 평점',\n",
       " '실화라서 스토리가 더 현실적으로 느껴진다 결말도 훈훈하고 마음이 편안해져서 좋다',\n",
       " '관람객 웰메이드 무비지만 아카데미상은 절대 이해할 수 없다',\n",
       " '이 영화를 보고도 마음속에 생기는 무엇 이 없다면 너무 슬픈 삶일 것 같습니다',\n",
       " '관람객 마지막 경찰 등장 장면의 해석을 듣고 아',\n",
       " '이 영화가 이렇게 재밌을 것이라고는 상상도 못했다 눈물도 웃음도 있고 좋은 음악도 있다',\n",
       " '관람객 조마조마하게 본 영화다 매순간 흑인이란 이유로 사건이 터진다',\n",
       " '가슴을 울리는 잔잔한 우정',\n",
       " '오랫만에 미소짓게 만드는 영화였음 두 사람의 우정이 너무 아름답고 찡했음',\n",
       " '메리 크리스마스 정말 메리 크리스마스 같은 영화 너무 재미있게 봤다',\n",
       " '삶을 살아가면서 힘든 일이 있을 때마다 주인공 처럼 참는다면 그 어떤 어려움도 이겨낼 수 있을 거라 생각됩니다 창고 그리고 화장실 최고한의 인간적 자존감은 지키면서 흑인을 위해 힘찬 걸음을 내딪었던 당신을 이 세상에 없는 그대를 응원합니다',\n",
       " '단순한 인종차별에 대한 영화라기 보다는 세상의 편견과 싸우는 내안의 나에 대해 생각해 보게 하는 영화입니다 미국 동남부를 여행하는 느낌까지 드는 건 덤',\n",
       " '오랜만에 본 좋은 영화네요',\n",
       " '영화 보는 두 시간동안 어두운 과거를 깔깔거리며 보게 만들어준 그들은 용기 있는 천재',\n",
       " '송하권 유튭 망해라 송하권이 추천해서 봤어요',\n",
       " '관람객 마지막 뉴욕오는 장면이 남네요',\n",
       " '언제부턴가 자극적이고 적나라 한 영화보다 이런 천천히 스며드는 영화가 더 좋아지는 것 같네요 잘 봤어요',\n",
       " '이런 수작 영화보다 걸 캅스가 배이상 관람 객수가 많다는 게 갈길이 먼 헬조센이라는 증거 우매한 국민들에 분노만 느낄뿐',\n",
       " '소재를 풀어 나가는 방식이 차원이 다르구나 가르쳐서 깨우치게 해야 한다는 마인드로 문화를 생산하는 이 곳에서는 나올 수 없는 수준이다',\n",
       " '마지막 경찰관 보고 편견 드립치는데 그건 편견이 아님 그냥 통계임',\n",
       " '근 몇 년 동안 본 영화중에 젤 재밌었던 듯',\n",
       " '좋은 영화지만 너무 과한 점수다',\n",
       " '최근 극장가에서 좀처럼 볼 수 없는 아주 좋은 명작입니다 담담하게 스토리가 진행되는 대도 몰입감이 엄청납니다 인종차별이라는 편견을 과장하지도 않고 그대로 담담하게 보여주면서 마지막은 마음 따뜻하게 만들어주는 영와 이내요',\n",
       " '편견과 선입견에 대해 생각하게 하는 영화 최고였다',\n",
       " '햄버거를 개나 먹을 수 없잖아',\n",
       " '진짜 총이 있었다 대박대박',\n",
       " '관람객 멋진 영화였어요 감동을 선물 받았네요',\n",
       " '올해 본 영화 중 최고의 영화 지나침 없는 감정이 너무 좋네요 두 주인공이 서로 영향을 받으며 변해가는 모습도 흐뭇했습니다',\n",
       " '',\n",
       " '오렌지우드에서의 재즈 잼 연주 장면은 평생 잊혀지지 않을 명장면이다 마지막에 셜리가 알을 깨고 먼저 다가가는 장면 또한 감동이었다',\n",
       " '품위 있는 영화 위트 있는 영화 실화라 더 멋진 영화',\n",
       " '감동 그 자체 어려운 주제임에도 유쾌하게 풀어낸 명작',\n",
       " '최고다 최고 박사 목소리 멋지다',\n",
       " '멋있는 영화였어요',\n",
       " '왜 우리나라는 이런 영화 못 만들죠',\n",
       " '가슴이 울리는 먹먹해지는 하지만 잔잔한 웃음이 함께 한 영화 기회가 되면 나중에 다시 보고픈 영화였네요 아직 안보신 분들께 꼭 보시라고 추천합니다',\n",
       " '힐링 되는 영화임 언터 처블의 브로맨스를 연상시킴',\n",
       " '마지막 장면 너무 이쁘다',\n",
       " '기대 안하고 봤다가 안봤음 후회할 뻔 감동과 재미 여운이 있는 영화 그 시절엔 그랬었지 하기엔 현재 우리나라는 어떤가 싶다',\n",
       " '휴가 나갈 차비로 이 영화를 봤다 그만한 가치가 있었다 그러나 난 집에 가고 싶다',\n",
       " '평점만 보고 봤는데 기대이상이네요',\n",
       " '좋은 영화 재미와 감동',\n",
       " '미국도 저런 시절이 있었나 싶다 차별 무섭네',\n",
       " '너무나 따뜻한 영화 오랜만이다',\n",
       " '멋진 영화입니다 두 사람이 서로 마주하며 가는 여행을 보며 세상을 봅니다',\n",
       " '영화 보면서 주인공 따라서 같이 소리 내며 미소 지어본적 처음인 것 같다 너무 가슴 따뜻했다',\n",
       " '무거울 수 있는 소재를 마음 따뜻하게 잘 풀어냈네요 재밌어요 ㅜ ㅜ',\n",
       " '관람객 저는 항상 그 기간에 유행하는 영화만을 봐왔었는데 이 영화를 계기로 상업적이지 않거나 상영관이 적은 영화도 찾아보게 되었습니다',\n",
       " '마지막 장면은 정말 예쁘다',\n",
       " '캐치온에서 지금 보는데 좋은 영화 같아',\n",
       " '관람객 인간의 사랑이란 이런 게 아닐까요 아름답고 여운이 남는 감동적인 영화네요',\n",
       " '덤덤하고 잔잔해서 더 여운이 남는 영화 인생 영화 ㅜㅠ',\n",
       " '정말 최고의 영화입니다',\n",
       " '에서 돈 셀때 사망 플래그 뜨나 싶어서 조마조마 했는데 기분 좋게 마무리 되어서 너무 좋았음 영화 끝나니까 활짝 웃고 있더라',\n",
       " '진한 여운이 남는 영화입니다',\n",
       " '호감순 최신순 평점 높은 순',\n",
       " '관람객 날씨와 함께 변화하는 두 사람의 모습처럼 시간 동안 서서히 나의 감정을 변화시키는 영화가 주는 울림이 많은 생각을 하게 하는 영화',\n",
       " '거짓부렁도 그럴싸하게 포장만 해 놓으면 실제야 어떻든 상관이 없다 는 걸 보여주는 영화 애초에 실화에 기대서 득 볼 생각을 하질 말던가 실화랍시고 만들어놓고 가족이 실제로 있는지도 몰랐다는 게 말이 되나 왜 히 틀러도 박애주의자로 만들지 그래',\n",
       " '홍보 좀 더 해주시지 좀 더 늦었으면 영화관에서 못볼뻔 ㅠㅠ 우리 주변을 생각하게 해주는 영화',\n",
       " '관람객 최고',\n",
       " '두 배우의 연기와 스토리 모두 좋았습니다',\n",
       " '인생 최고의 영화 또 봐야지',\n",
       " '관람객 긴 영화지만 지루하지 않고 재밌었다',\n",
       " '용기가 전한 따스 함과 감동',\n",
       " '어떤 이유로든 차별은 없어야겠죠 감동적이었습니다',\n",
       " '잔잔하게 눈가와 마음을 촉촉하게 만드는 영화 작은 스크린으로 보아도 감동이었지만 극장에서 봤으면 더더더 감동이었을 영화 큰 스크린에서 다시 만나고 싶다 재개봉하는 그런 날이 올까',\n",
       " '마음 속 울림을 주는 영화',\n",
       " '가슴이 찡하고 여운이 남는 영화 정말 시간이 아깝지 않습니다',\n",
       " '좋은 영화네요 얼마 안된 과거인데 지금은 상상하기 힘든 시대상을 볼 수 있네요',\n",
       " '이 소재가 한국영화였다면 분명 눈물 쥐어 짜낼 궁리를 했을 것이고 신파극이 되었을텐데 온전한 드라마로서 혼자 담담하게 느끼며 보기 좋은 영화였다',\n",
       " '일제시대 조선인이 당했을 차별도 함께 생각되는 영화 차별의 무서움',\n",
       " '사고방식에 선한 영향력을 주는 마음이 따뜻해지는 영화',\n",
       " '마음이 따뜻해지는 최고의 영화였다 수많은 사람들이 이 영화를 꼭 봤으면 좋겠다',\n",
       " '그의 외로움이 너무 안타까웠고 차별에 대항하는 정신이 아름다웠다 토니 아저씨 연기 너무 잘함',\n",
       " '주연들이 너무 반가운 사람들이었고 그들의 연기 영화 속 유머와 재미 마지막엔 감동까지 완벽했지만 무엇보다 메시지들이 정말 인상 깊었던 영화',\n",
       " '짱 ㅠㅠㅠ 완전 많이 배우고 감동받은 영화입니당',\n",
       " '내 인생 영화 진짜 너무 좋은 영화',\n",
       " '월정액 로 본 것도 미안해지는 영화 극장서 볼 생각을 안한 내 수준을 가늠케 했다',\n",
       " '월정액 로 본 것도 미안해지는 영화 극장서 볼 생각을 안한 내 수준을 가늠케 했다',\n",
       " '유쾌하고 즐겁게 보면서도 어물쩡 좋은 게 좋은 거 아닙니까 라는 식의 말을 들은 듣한 흑백 차별을 백인 중심 이야기로 풀어낸듯한 찝찝한 뒷맛',\n",
       " '좋은 영화입니다 추천합니다',\n",
       " '관람후 나는 여태 어떤 색안경을 낀채 살아왔는 가라는 생각과 여운이 깊게 남는 영화',\n",
       " '이제는 그대와 함께 할 수 있는 모두',\n",
       " '따뜻해지는 마음 모두 다 메리 크리스마스',\n",
       " '풍부한 에피소드 부족한 인물묘사',\n",
       " '아 내와 오랜만에 좋은 영화를 보았네요',\n",
       " '세상엔 먼저 움직이는 게 두려워 갖고 외로운 사람들로 넘쳐나요',\n",
       " '영화 보는 내내 입꼬리가 내려올 줄 모르게 잼나게 봤습니다 강추',\n",
       " '꼭 보세요 ㅠㅜㅜ',\n",
       " '큰 갈등 없이도 잔잔하게 끌고 가는 두 인물의 호흡에 웃음이',\n",
       " '세번쯤은 볼 수 있는 영화',\n",
       " '감동 그 이상이다 이 영화를 보면서 나도 편견에 사로 잡혀 있구나 하는 생각들을 하며 반성하게 된다',\n",
       " '말이 필요없는 음악과 우정 차별을 이겨내는 최고의 영화인듯',\n",
       " '영화 같은 실화라니 그들의 우정이 부럽다',\n",
       " '그 당시 사회배경 너무나 잘 묘사했고 우정 또한 뭉클하여 그 뒤끝에 찾아오는 감미로 움은 나긋한 와인과 같이 빠져들더라 이런 영화 오랜만',\n",
       " '그냥 최고 작품 상받은 이유를 알겠네요 그저 인종차 별만 다룬 영화는 아닌 듯 그래서 좋아요 여운이 굉장히 많이 남네요 마지막 장면에서 살짝 따뜻한 눈 시울이 생겼었으니까요',\n",
       " '영화 뿌리를 생각나게 하는 영화',\n",
       " '엄마랑 다시 보구싶다',\n",
       " '두 달간의 놀라운 여행이었다',\n",
       " '갈등 많던 시절 굳이 친할 필요가 없던 두 인간의 마음이 훈훈해지는 우정 스토리 마 허샬라 알리의 품위를 보여주는 연기에 주목',\n",
       " '아침에 일어나자 마자 조용하고 어두운 방에서 혼자 보았습니다 자극적이고 호기심을 자극하고 눈이 즐거운 영화만 시간이 금방 지나는 게 아니라는 것을 알았습니다',\n",
       " '굿굿 굿굿 즐거운 영화 입니다',\n",
       " '올해 본 영화 중 최고로 기억될 영화',\n",
       " '여행이 시작되고 아주 사소한 부분에서 서로 가까워지는 것을 발견할 수 있다',\n",
       " '왜 우리는 어벤져스에 열광하고 그린북은 모르나',\n",
       " '',\n",
       " '너무 재밌게 봤어요 애잔하면서 감동 ㅜㅠ 강추영화입니다 배우들 연기도 굿굿',\n",
       " '살면서 누군가에게 내가 나에게 누군가가 이런 관계가 될 수 있다면',\n",
       " 'ㅜㅜ 점 줘야함',\n",
       " '따뜻하고 솔직하고 웃겨요',\n",
       " '잔잔한 감동이 있는 영화예요 입가에 미소가 번지고 눈물도 살짝 여운이 많이 남네요',\n",
       " '무슨 말이 필요해',\n",
       " '정말 따뜻하고 감동적인 영화에요 넘 좋은 시간이었습니다',\n",
       " '잔잔해서 좋았어요 인종영화라 대단한 척 할거라는 선입견이 있었는대 잔잔하고 덤덤하게 그려내서 그렇기에 더 좋았습니다',\n",
       " '할리우드는 어벤저스 도 만든다 그린북 까지 있다 부럽다',\n",
       " '관람객 잔잔하게 마음이 따뜻해지는 영화였어요',\n",
       " '어른 남자들의 성장 드라마 순수하지만 서로 다른 남자들이 이해해가는 것을 보면서 많은 울림을 준다',\n",
       " '인생 영화에 하나 더 추가해야겠다 보는 내내 지루하지가 않았음',\n",
       " '마음이 따듯합니다',\n",
       " '관람객 재밋네요 내용도 너무 재밋엇어요',\n",
       " '보고 나서 마음까지 따뜻해지는 그런 영화',\n",
       " '너무 너무 너무 재밌게 봤습니다 꼭 보라고 마구 추천하고 싶은 영화입니다 마음이 따뜻해지네요',\n",
       " '최고다 정말',\n",
       " '이렇게 담백하면서 깊을 수가',\n",
       " '차별이 만연할 때에 이렇게까지 나 차별이 있는 줄 몰랐어요 재밌게 잘 풀었어요',\n",
       " '',\n",
       " '보고 나면 가슴 뭉클해지는 영화',\n",
       " '관람객 아무 기대 없이 봤는데 참 괜찮은 영화였습니다',\n",
       " '거짓과 위선의 시대를 사는 용기 있는 사람들의 이야기 받아 들이고 자신을 바꿀 수 있는 용기 세상의 시선에 맞설 수 있는 용기',\n",
       " '마지막까지 품격을 잃지 않는 영화',\n",
       " '답답할 만큼 착하지만 결국 따스한 감수성에 매료된다',\n",
       " '마지막 장면 보고 눈물이 찔끔 ㅎㅎ',\n",
       " '잔잔하면서 임펙트 있는 스토리',\n",
       " '정말 소중한 인생 영화 한편을 알게 되어서 행복하다',\n",
       " '아직도 편견은 있다 나 역시 그렇다는 걸 느낀다',\n",
       " '감동에 감동이 였던 것 같습니다',\n",
       " '인종차멸 이런 건 괸심없고 주인공들이 개성있고 별거도 아닌데 재미있네요',\n",
       " '관람객 정말 여운이 남네요 꼭 보세요',\n",
       " '관람객 웰메이드 지금은 상상도 못할 차별들이 그 당시엔 당연했겠지 사람들이 성소 수자들에 대해서도 마찬가지로 생각했음 좋겠다',\n",
       " '너무 재미있내요 피아노 소리도 좋구',\n",
       " '관람객 마무리까지 훈훈한 재미난 영화였습니다',\n",
       " '감동을 쥐어짜거나 극적이지 않아서 좋다 배우들의 미친 연기와 감독의 터질 때 팍 터지는 스토리라 인과 인종차별 메세지를 자연스레 전하는 천재적 연출 편견을 깨는 소소한 반전까지 작품성 오진다 상영관에서 보지 못한게 미안할 정도',\n",
       " '또 다른 감동을 안겨준 최고의 영화입니다',\n",
       " '백인 운전수를 둔 흑인 예술가가 뜨거운 태양 아래 가 축처럼 일하는 다른 흑인들을 보는 심정은 어땠을까 그리고 다르다고 생각했던 본인이 주류 백인들에게는 그저 평범한 흑인에 지나지 않는다는 것을 느꼈을 때 그의 심정은 어땠을까',\n",
       " '시간 가는 줄 모르고 봤다 크리스마스가 오질 않았으면 하는 바람도 있었나보다',\n",
       " '재밌고 아리고 슬프고 ㅅ',\n",
       " '음악 대사 영상 연기 다 점',\n",
       " '관람객 감동 그 자체 인생 영화라고 할 정도 였습니다',\n",
       " '재미있고 볼만한 영화다',\n",
       " '요즘 영화중 주연급 여자가 안나온다는 것만으로도 점 받아 마땅한 영화다',\n",
       " '진짜 꼭 보세요 두 번 보세요',\n",
       " '외로운 사람들은 첫 발자국을 떼기를 어려워한다',\n",
       " '관람객 부모님 보시라고 연휴에 예매해서 보여드렸는데 재미있게 보셨다고 합니다',\n",
       " '관람객 또 봐도 좋음 ㅠㅠㅠㅠ 왜 이제 봤을까',\n",
       " '딱 제 취향이네요 대사도 좋고 굿굿 굿',\n",
       " '인생 영화 한편 늘었네요',\n",
       " '관람객 본인은 그렇게 태어나고 싶어서 태어난 것도 아닌데 차별당하는 게 얼마나 마음이 아팠을까 마음이 너무 아팠던 영화이다 사람들이 꼭 한번 봤으면 하는 바램이다',\n",
       " '인종차별에 대한 편견이 얼마나 어리석은 가를 알 수 있는 잔잔하지만 최고의 영화',\n",
       " '남자의 영화 그래서 절친 둘에게 추천했고 답변은 구 웃',\n",
       " '영화관에서 보고 여운이 깊어서 또 찾아봄',\n",
       " '네이버 영화 평점에서 점 만점 주는 거 진짜 오랜만이다 영화의 내용과 연출의 짜임새 음악까지 모든 것이 완벽하다 가슴이 따듯해진다 나 또 한 영화 속 백인과 같은 편견에 둘러쌓여 남들을 경시하고 사는지 경계해야 겠다',\n",
       " '최고입니다 라는 말밖엔',\n",
       " '진짜 재밌네요 오랫만에 진짜 영화를 봤습니다',\n",
       " '보고 나면 친구와 치킨이 먹고 싶어지는 영화',\n",
       " '두 남자의 우정이 깊어지는 과정을 다룬 알찬 로드 무비 서로의 스테레오 타입이 아닌 진정한 자신이고 싶은 두 남자의 이야기 멋진 영화',\n",
       " '편견이 사라져가는 모습을 멋있게 표현했다',\n",
       " '펀 안하게 즐길 수 있는 명화',\n",
       " '인생 영화 연기 각본 영상미 음악 뭐 하나 빠지는 게 없다',\n",
       " '편견이 얼마나 무서운 것인지',\n",
       " '인생 영화 라 해도 되지 않을까 쉴틈 없이 재밌고 거침없이 비틀고 결국 나는 행복했다 남은 것은 편견과 품위에 대한 끝없는 상념',\n",
       " '잔잔한 책한권 읽은 듯한 영화',\n",
       " '실화가 만든 신화같은 영화',\n",
       " '매년 이런 영화를 볼 수 있다는 것에 감사하다 돈 셜리가 비 맞으며 내뱉는 대사는 이 영화의 백미다',\n",
       " '한번은 꼭 봐야 할 영화 맞네요',\n",
       " '인종차 별 없는 그린 사회를 지향하는 북 씨네 허남웅',\n",
       " '관람객 너무 좋았어요 처음엔 독립영화 뭐 그렇겠지 하고 봤는데 보는 내내 너무 유쾌하고 또 씁쓸하고 또 잔잔한 마음에 울림이 있고 정말 좋았던 것 같아요 추천합니다',\n",
       " '관람객 무거워질 수 있는 주제를 보는 내내 마음 따뜻하게 잘 풀어낸 수작 배우들의 연기도 몰입을 방해하지 않았다',\n",
       " '무거운 주제를 아주 위트있게 그러나 결코 가볍지 않게 풀어냈다 간만에 만난 수작이다',\n",
       " '관람객 대박입니다 역대급 영화',\n",
       " '비행기에서 보도 펑펑 움',\n",
       " '관람객 감동 그 자체입니다 가족의 소중함을 배웠습니다',\n",
       " '너무 억울하더라도 품위를 유지하는 것의 중요성에 대해 배웠다 이 교훈은 시대를 관통한다',\n",
       " '처음으로 감상평을 쓰게 한 영화 모든 사람들에게 추천해주고 싶은 영화 따봉',\n",
       " '관람객 생각만큼 재미있었던 영화 였습니다 마음이 따뜻해지던 영화였어요',\n",
       " '최고 에요 오오 요오오오',\n",
       " '관람객 인종차 별 없어져야 한다',\n",
       " '에 추가된 내 또 하나의 인생 작나이가 들어갈수록 영화에 대한 눈높이가 높아지는데 정말 간만에 만나는 수작',\n",
       " '관람객 왜 우리는 부정하고 있는지 그들은 이렇게 존재하고 있는데',\n",
       " '그냥 최고였습니다 배우들의 연기나 내용이나 흠잡을 곳이 없었습니다',\n",
       " '관람객 고귀함이 무언지 가르쳐준 영화',\n",
       " '관람객 사람과 사람 사이 가장 중요한 것은 편견없이 상대를 바라보는 것 이 아닐까요 따뜻 훈훈한 영화입니다',\n",
       " '관람객 나도 정말 많은 편견을 가지고 있었구나를 느끼며 앞으로는 그러지 않길 다짐하게 되는 영화입니다 많은 사람들이 봤으면 좋겠어요 모두 다 챙겨가고 싶은 장면들 뿐입니다',\n",
       " '관람객 두껍고 단단한 수용하기 어려운 세상의 편견앞에 품위로 맞서는 주인공 셜리박사에게 위로와 존경의 박수를 보냅니다 존의 의리에도 찬사를',\n",
       " '',\n",
       " '관람객 감히 말할 수 있다 올해 최고의 영화',\n",
       " '최고였어요',\n",
       " '마음 편안하게 볼 수 있는 영화',\n",
       " '기대 없이 봐서 인지 더 여운이 남는 영화였습니다 아카데미상받은 영화는 가능한 챙겨봐야겠다는 생각이 들게 하는 영화',\n",
       " '정말 위대한 영화네요 스토리 유머 배경 다 좋습니다 평점이 이해가 가는 영화네요 근데 정말 저 운전수가 반지의 제왕 아라곤이라고 ㅠ 세월이여',\n",
       " '진짜 재미짐 ㅋ 흑인과 백인의 우정을 클래식하지만 위트 있게 만듬 두배우 연기도 일품이고 케미가 잘 맞음',\n",
       " '꼭 보세요 마음이 따뜻해지고 오랜만에 영화다운 영화에요 피부색 하나로 계급을 따지는 인간이야 말로 지구상에서 가장 하찮은 존재죠',\n",
       " '관람객 인종 차별이라는 다소 흔하고 무거운 주제를 신선하고 가볍게 풀어냈다 색감 음악 연출 삼박자가 어우러진 다 채로운 영화였다',\n",
       " '담백하고 깔끔하고 덤덤하며 쓸쓸하고도 감동적이다',\n",
       " '그 정도 까지는 아닌 듯 합니다',\n",
       " '내용도 훈훈한 영화도 잘 만들고 네티즌 평이 높은 이유가 있다 점 줄 수 밖에 없네',\n",
       " '멋진 영화입니다 인간은 모두 존엄합니다',\n",
       " '행복해지는 기분 좋아지는 영화 셜리가 오렌지 버드에서 신나게 연주할 때 비로소 편안함을 느꼈다',\n",
       " '마블 어벤져스가 훨신 제밌음',\n",
       " '재밌더라 몇 번 울기도 굳이다',\n",
       " '이런 영화 만들어 주셔서 감사합니다 잘 봤습니다',\n",
       " '인간을 향한 사랑과 긍휼로 가득한 영화 뭉클함이 처음부터 끝까지 계속 된다 오랜만에 기품 있고 멋진 영화',\n",
       " '감동이 있는 영화입니다 생각도 하게 되고 여윤이 오랫동안 남는 영화네요 강추입니다',\n",
       " '피아노선율부터 배우들 연기 전부 다 점',\n",
       " '그린북과 함께 한 반지의 제왕 왕의 귀환',\n",
       " '그린 북으로 인해 피터 패럴리란 이름이 각인될 듯 미국에서 흑인 노예에 대한 인식은 조선시대의 양반과 노비에 비견될까 비고 모텐슨의 연기는 레알 이태리 출신이 하는 것 같았다',\n",
       " '그냥 점 주고 싶음 뭔지 잘 몰라서',\n",
       " '',\n",
       " '감동도 있고 교훈도 있는 멋진 영화',\n",
       " '관람객 잔잔 하면서 느끼을 주는 영화',\n",
       " '보고 느끼고 배울 수 있는 영화였습니다 주저 없이 이 영화를 추천드립니다',\n",
       " '한국에서 만들었으면 어떤 배우가 했을까 궁금한 한국에서도 이런 영화가 나왔으면 하는 시각적으로 가 아닌 미음으로 편안하게 기대를 안하고 봐서 인지 간만에 너무 좋은 영화였습니다',\n",
       " '생각이 많아지는 밤 별이 부족하다',\n",
       " '관람객 아카데미 작품상 다운 면모',\n",
       " '관람객 잔잔하면서도 따뜻한 영화 마 허슐라 알리 연기는 최고였어요 이게 실화라니 더욱 감동',\n",
       " '관람객 마법의 니 그로',\n",
       " '관람객 많은 생각을 하는 좋은 영화',\n",
       " '관람객 잔잔하게 웃음을 짓게 만드는 영화였습니다',\n",
       " '이 사회의 선입견과 편견이 얼마나 지독하고 위험한지를 또 한번 알려주는 영화 완전 추천',\n",
       " '점 무조건 점',\n",
       " '충분히 지적인 성숙을 이뤘다고 자신하는 이들이 이 영화를 보고 더욱더 성장하는 계기가 되면 좋겠습니다',\n",
       " '관람객 짱 있었습니다 하하하',\n",
       " '대사가 너무 웃김 근래 보기 힘든 수작',\n",
       " '편견 선입견 그리고 차별 누군가에게는 지옥같은 것들이지만 그걸 이겨내기 위해서는 진정한 용기가 필요하다 그런데 진정한 우정의 힘이 있으면 용기가 더 생길거 같다 배우들의 연기가 모든 것을 압도한 영화 같다',\n",
       " '빗속에서 셜리의 장면은 너무 강렬했다',\n",
       " '이 영화가 주는 감동은 정말 고급지다고 할 수 있다',\n",
       " '관람객 세상의 편견이 바뀌길 바란다',\n",
       " '재밌는 영화입니다 기회생기면 한 번 보시길',\n",
       " '점잖은 말투로 뒤에서 나를 꾸짖는 영화다',\n",
       " '인생 영화입니다 끝나고 며칠이 지나도 계속 생각이 나고 영화 보는 내내 잔잔하게 행복했네요',\n",
       " '관람객 흑인에 대해 인종에 대해 백인에 대해 미국에 대해 다시 한번 생각해보게 된 소중한 영화',\n",
       " '말이 필요 없는 영화입니다 꼭 보세요',\n",
       " '오랜만에 만나는 위트 재미 감동 있는 멋진 영화였습니다 비고모 텐슨 연기가 너무 훌륭해요',\n",
       " '관람객 놓쳐서는 안될 올해의 영화',\n",
       " '흑인과 백인사의 인종차별의 추악함을 보여주는 영화 하지만 정말 안타까운 영화 하지만 일부 따뜻한 흑인도 있지만 그렇지 않은 몇몇 흑인들 때문에 더더욱 인종차별이 심하지 ㅠㅠㅠㅠ 나도 흑인은 무섭 마음은 따뜻한 흑인 접한 적 있지만',\n",
       " '손가락으로 리뷰를 남기고 싶지 않은 영화',\n",
       " '네이버라는 호랑이굴에서 등이라니',\n",
       " '올해의 영화 상영관이 적어서 진짜 아쉽다',\n",
       " '그 길에서 그들은 진정한 친구가 되었다',\n",
       " '인생 영화 인종차별에 대해 생각하게 해주는 영화이자 모든 차별은 없어져야 한다고 생각하게 해주는 영화 현실적이고 재밌기까지 하다',\n",
       " '간만에 착한 영화 너무 좋았음',\n",
       " '잔잔한 감동 국내에서 흥행을 못해서 아쉬울뿐',\n",
       " '편견과 차별을 이겨내는 멋진 우정',\n",
       " '재미있는 영화였다 시간 가는 줄 모르고 본 영화',\n",
       " '감동적인 영화입니다 적극 추천합니다',\n",
       " '엔딩 크랫딧이 반전이 였네요 이 모든 게 실화였다니',\n",
       " '실화인줄도 모르고 봤다 정말 재밌다 왜 투어를 주만 했을까 영화 끝나가는 게 정말 정말 아쉬웠던 영화 탑 안에 든다 ㅋㅋ 꼭 보시길',\n",
       " '최곱니다 이말 밖에는 안나오네요',\n",
       " '재미와 감동이란게 이런 것인듯요 중간중간 피아노 연주도 소름 돋게 좋아요',\n",
       " '너무나 재밌게 본 작품입니다 필견',\n",
       " '영화관은 돈만 벌면 되는 거죠 이런 영화가 많은 곳에서 상영되지 않는 게 너무 밉습니다 최고의 영화입니다',\n",
       " '추천 불과 년도 안되는 사이에 이렇게 세상이 좋아졌다',\n",
       " '둘의 케미가 좋았다 그리고 죠팽에 빵터짐ㅋ',\n",
       " '편견과 편견을 깨는 내용을 현실적으로 보여주어 평등과 자유에 대해 생각하는 기회를 마련해준 영화로 좋은 영화 감상 시간이었습니다',\n",
       " '올해 본 최고의 영화 여운이 진하게 남는 영화에요',\n",
       " '비오는데 셜리가 본인에 정체성에 울부짖는데 순간 가슴이 먹먹했다 번 보고 번 더 봐야 하는 영화 언터 쳐블 우정보다 더 잼잼 인종차별에 대해 다시 한번 느끼는 영화입니다 그냥 무조껀 보세요',\n",
       " '관람객 마 허샬라 알리 셜리 본인 가져다 놓은 것 아닌가요 안아주고 싶어요',\n",
       " '최고네요 시간 가는 줄 모르고 봤습니다',\n",
       " '우린 어떤 시선을 가져야 하는가',\n",
       " '두 시간이 금새 지나갔다 살 아들이랑 봤는데 같이 웃고 같이 이해했다',\n",
       " '메리크리스마스 이 한마디가 이토록 감동적일줄은',\n",
       " '정말 최고의 영화입니다 ㅠㅠㅠ',\n",
       " '최고의 영화입니다 꼭 보세요',\n",
       " '아 내 인성이 참 좋아보여요 주변 환경이 역시 중요하다는 생각 최소한의 기회가 균등하게 가야할텐데 중간에 밭갈던 흑인들을 보며 찡했어요',\n",
       " '최고의 영화인걸 어떻게 증명하지 그 시절 흑인들이 당한 갖가지 모욕적인 차별에 분통이 터지고 또 두 사람의 티격태격에 웃다가 마지막에 서로 정들고 서로를 이해하는 모습에 눈물이',\n",
       " '보는 내내 의미 있고 깔끔했어요 올레티비로 결제한 내 돈 전혀 아깝지 않음',\n",
       " '관람객 의미있고 먹먹한 주제를 군더더기 없는 장면과 배우들의 훌륭한 연기로 무겁지 않게 담아낸 수작',\n",
       " '너무 재밌는 영화',\n",
       " '사실과 다를지 언정 아름다운 동화를 본 느낌이 들었다 따듯한 겨울에 어울리는 영화',\n",
       " '관람객 편견에 대한 모든 고군 분투하는 삶들에게',\n",
       " '기분 좋아지는 영화 셜리의 용기에 박수를 보낸다',\n",
       " '또 하나의 인생 영화 두배우에게 박수를',\n",
       " '매듭이 정말 잘 만들어진 단 분도 지루하지 않은 드라마',\n",
       " '마음이 한 켠이 따뜻해졌다',\n",
       " '나도 모르게 웃음도 짓고 감동도 주는 영화',\n",
       " '라라랜드 이후로 최고의 마케팅 영화',\n",
       " '선입견이라는 게 참 무섭다는 걸 따뜻하게 풀어낸 영화',\n",
       " '세상엔 먼저 움직이는 게 두려워 외로운 사람들로 넘쳐나요 많이 와닿더라 아무리 세상이 각박하더라도 주변 사람들과 격없이 지내는 게 최고다',\n",
       " '클레멘타인에 비하면 새발의 피다',\n",
       " '너무 재밌고 감동적이었다 만족스럽다',\n",
       " '시간이 어떻게 지나갔는지 모를 정도로 재미있고 감동적이었다 영화 속에 내가 있는 듯',\n",
       " '별 점 이상 주고 싶네요 안봤으면 큰일 날 뻔 했어요 힐링 그 자체네요 더 볼 수 있게 해야 되는 영화라 생각 듭니다',\n",
       " '과장 되지도 억치스럽지 않은 잔잔하고 은은한 재미를 선사한 최근에 보기 드문 포근한 영화임 네티즌의 평점으로 시작된 감상이 추천으로 이어지네요 많은 사람이 간만에 편한히 즐겼으면 하는 영화임 강추입니다',\n",
       " '난 떠돌이토니가 아라곤 이였다는 사실이 제일 놀랍다',\n",
       " '진심 은근히 재미있음 듈다 매력적 ㅋ',\n",
       " '관람객 마지막에 아내가 셜리박사를 안으면서 하는 대사는 진짜 모든 걸 말하는 거 같아서 진심으로 눈물날뻔',\n",
       " '마지막에 아내가 하는 대사가 러닝타임 내내 있었던 일들을 함축적으로 보여주는데 감동적이에요',\n",
       " '관람객 정말 따뜻한 내용의 영화에요 추천합니다',\n",
       " '관람객 아카데미 작품상을 괜히 받은게 아니네요 작위적이지 않으면서도 너무나 감동적인 영화였습니다 우리에게 스며든 편견이 얼마나 중요하고도 무서운 것인지 다시금 깨닫게 되는 시간이었어요',\n",
       " '너무 재밋습니다 꼭 봐야',\n",
       " '아라곤 형 진짜 총 없는 줄 알았어',\n",
       " '관람객 기대 별로 안했는데 너무나 좋았습니다 연기도 좋고 각본도 인상적이었습니다',\n",
       " '관람객 우리가 갖는 인종에 대한 편견은 다양한 역사 문화 생활 속에 녹아든 색에 대한 선입견의 영향도 있을 것 같다',\n",
       " '유쾌하지만 나름의 비애가 담겨있고 두 남자의 우정을 그린 영화이다 쏠쏠한 재미와 감동이 있다',\n",
       " '일요일 최고의 선택이었다 기대 안했는데 정말 재미있었습니다',\n",
       " '여운이 많이 남는 영화였습니다',\n",
       " '누워서 보다가 제대로 보기 위해 몇 번을 일어났는지 모른다 잔잔하면서 재미있고 뻔한데도 무지 감동적이다 특별한 메시지는 없지만 그냥 영화 자체가 특별하다',\n",
       " '시간 가는 줄 모르고 느끼는 게 많아지는 영화네요',\n",
       " '기다리던 겟아웃이 여기에',\n",
       " '큰 사건이나 이벤트 없이도 러닝타임 동안 몰입해서 재밌게 봤습니다',\n",
       " '셜리와 토니의 우정이 너무 부럽네요 두 배우의 연기 정말 좋았습니다',\n",
       " '관람객 아직 못본 저를 기다려준 듯 여운이 긴 영화 못본 분들 서둘러 보세요',\n",
       " '평점 주려고 처음으로 리뷰써보는 영화네요 꼭 보세요 ㅎㅎ 너무 좋은 영화',\n",
       " '감동적이고 엔딩이 깔끔해서 흐뭇했다 두 남자의 케미가 멋지고 셜리박사의 당당한 태도와 음성이 너무 매력적',\n",
       " '진짜 보는 내내 웃음이 끊이질 않았고 시간 가는 줄 모르고 봤어요 자칫 무겁고 어려운 주제를 이렇게 위트 있게도 풀어내고 무조건 보세요',\n",
       " '현평점 위인 이유가 있네요',\n",
       " '관람객 벚꽃은 피고 봄이 찾아왔지만 내 마음은 아직 겨울 이었는데 오늘 이 영화를 보고 내 마음의 계절이 바뀌어 봄 이 되었다',\n",
       " '최고의 영화는 아닐지라도 다섯 손가락 안에는 꼽을만한 영화',\n",
       " '관람객 오래 오래 여운이 남을 좋은 영화네요 이런 영화를 많이들 봐야 좀 더 좋은 세상이 될 것 같습니다',\n",
       " '년에 본 영화인데 이 영화가 년 년 년 언제 만들었다고 해도 믿을만한 할리우드의 클래식한 생각과 연출 유머가 있다 이런 것이 클래식이다',\n",
       " '오랜만에 영화다운 영화를 보았습니다',\n",
       " '재밌었다 흑인들이 겪은 차별과 불합리를 보여준다 근데 아시아 인종 보고는 자막에 짱 깨라고 되어있더라 실제로 짱개라고 했는지 번역가가 그렇게 번역했는지 모르겠지만 흑인 차별에 대한 내용의 영화에서 아시아인은 짱개라고 하는 건 많이 아쉬웠다',\n",
       " '아름다운 영화였습니다',\n",
       " '멋진 영화다 유머도 피아노 연주도 작은 울림을 주는 결말도',\n",
       " '추천드리는 영화입니다',\n",
       " '관람객 오랜만에 만난 좋은 영화',\n",
       " '간만에 제대로 본 영화',\n",
       " '역시 평점 높은데는 다 이유가 있네요 잔잔하지만 지루할 틈 없고 재밌고 웃음과 감동 이 있네요 강추합니다',\n",
       " '관람객 잔상을 남기는 배우들의 연기와 대사들 장면들이 오래동안 기억 남을 것 같다',\n",
       " '관람객 개봉한지 달이 넘은 영화지만 올 해 꼭 봐야 할 영화 최신작들 대신 이 영화 보길 너무 잘 한 거 같습니다 연기도 음악도 영상도 모두 너무 좋았습니다',\n",
       " '관람객 꼭 봐야 할 영화 배우들 연기가 훌륭하고 스토리가 탄탄해서 분 내내 재미와 담동이 있었던 작품',\n",
       " '관람객 초반부에는 둘의 불협 화음이 내내 불안할 것 같았는데 마지막 재즈 피아노를 치는 셜리가 치는 재즈처럼 멋지게 어우러 진',\n",
       " '관람객 토니와 돈 셜리 박사가 함께 여행하며 쌓아가는 우정과 함께 각자의 정체성을 찾아가는 여정이 아름다웠습니다 배우들의 연기도 뛰어났고 음악도 멋졌습니다 재미와 감동을 동시에 느낄 수 있었던 영화라 두 번 봤는데 두 번 다 좋았어요',\n",
       " '약간 예측 가능한 스토리이지만 훈훈한 버디 무비 같기도 한 영화',\n",
       " '관람객 마지막에 편지 쓰는 거 도와줘서 고맙다고 할 때 ㅎㅎ 빵터졌음 찡하고 마음 따뜻해지는 영화',\n",
       " '편견에 대해 자신을 뒤돌아보게 하는 작품 메세지와 대중성 모두 잡은 명작',\n",
       " '만점 만점 만점 만점 만점만점',\n",
       " '관람객 감동 재미 다 갖춘 오랜만에 감동',\n",
       " '관람객 볼만한 영화가 없어서 평점이 좋아서 보게 된 영화 깊은 여운이 남는 거 같아요 강추합니다',\n",
       " '관람객 보고 와서 길거리에서 치킨을 손으로 집어먹으면서 깊은 사색을 해보았던 촤고 급 영화',\n",
       " '끊임없는 디테일에 감동한 영화',\n",
       " '관람객 흑인 조차도 자신을 니 거 라고 할 정도로 흑인의 인권은 없는 그리고 백인 지주계층의 이중성에 대해서도 실화적으로 표현해낸 그런 영화인 점에서 과연 헐리우드구나 하는 그런 영화',\n",
       " '가나다 라 마바사아 자 차카타파하',\n",
       " '명작이다 영화관에서 볼걸 ㅠㅠㅠ',\n",
       " '정말 여운이 많이 남는 영화입니다 에서 다섯 번째 결제하고 또 다시 보고 있어요 소장용으로 나오면 좋겠네요',\n",
       " '인종차 별 슬펐어요 명재 인생 영화에요',\n",
       " '아름답다 정말 모두에게 추천하고픈 영화',\n",
       " '사실 내용은 뻔하지만 영화는 볼만 했음',\n",
       " '버릴게 한개도 없던 영화',\n",
       " '오랜만에 좋은 영화 감상했습니다',\n",
       " '억지 감동 일까봐 몇 번을 망설이 다 봤는데 세상 담백한 영화였음',\n",
       " '관람객 크리스마스 때 다시 만나요',\n",
       " '관람객 당연히 문제가 있죠 한쪽으로 기울었어요',\n",
       " '너무 나도 여운이 깊게 남는 영화',\n",
       " '관람객 호평에도 불구하고 초반에는 생각보다 잔잔하고 별로라 생각됐는데 영화를 다 보고 나니 감동이 차 오르네요 시대와 지역의 모습을 현실감 있게 보여준 정말 좋은 영화입니다',\n",
       " '관람객 나무랄데 없이 좋은 영화입니다 사람의 만남이란 이런 것이겠지요',\n",
       " '이런 수작은 만밖에 안되네 ㅋㅋㅋ 진짜 국민수준들 노답이다 ㅋㅋㅋㅋ',\n",
       " '짱짱 정말 감동적이고 잘만든 영화입니다',\n",
       " '굿 고풍스런 거 좋아',\n",
       " '내 인생 영화됐음 부디 박사님이 외롭지 않길',\n",
       " '완벽한 영화 보는 내내 너무 따뜻해짐',\n",
       " '어떠한 차별도 없다는 걸 보여준 최고의 영화',\n",
       " '작위적인 면은 있다 그러나 참으로 따듯한 의미를 지닌 영화다',\n",
       " '어설픈 신파가 아닌 정말 가슴이 따뜻해지는 영화 그리고 비록 한국인으로서는 다른 세계 이야기 같은 백인흑인 차별의 과거실태를 뼈저리게 느끼게 해주는 최고의 영화',\n",
       " '최고입니다 나도 모르게 가진 편견이 있음을 느끼는 시간이었어요',\n",
       " '세상을 바꾸는 것은 천재성 만으론 충분하지 않아요 용기가 있어야 해요 돈 셜리의 용기와 그 편견을 마주한 토니의 깨달음 곳곳에 묻어나는 감독의 미쟝 센들이 보기 즐겁다',\n",
       " '한번쯤은 볼만한 영화임',\n",
       " '관람객 잔잔한 인간미와 감동뭉클한 영화 좋아요',\n",
       " '관람객 그 시대의 차별이 지금 우리 주변에는 없는지 살펴 보게 되는 영화입니다',\n",
       " '관람객 흥미롭고 기분 좋은 영화',\n",
       " '관람객 편견없는 살기 좋은 세상을 꿈꾸면서도 내안에 남아있는 편견을 반성하게 된 영화',\n",
       " '아카데미 받을만 하네 간만에 여운이 찐한 영화 봤다',\n",
       " '관람객 생각할 거리를 던져주는 영화',\n",
       " '왜 점이 만점이지 점 주고 싶다',\n",
       " '영화 한편이 어떻게 사람의 마음을 움직이는지 보여주는 영화 실화라는 점에서 더 따뜻해지는 영화 차별을 극복하는 용기보다 차별을 받아 들이는 용기의 소중함 알려준 인생 영화 한편 등극',\n",
       " '떠버리토니가 반지의 제왕 아라곤 이였다니 내용은 물론이고 대사 한마디 한마디 연기가 정말',\n",
       " '사람과 사람이 만나 어떻게 변해 가는 지 알 수 있는 최고의 명작',\n",
       " '내 부족한 글을 남기기 부끄러울 정도로 완벽히 채워주는 영화',\n",
       " '관람객 정말 좋은 영화입니다 추천해요',\n",
       " '관람객 감동과 재미로 가득 차 지루할 틈이 없는 영화',\n",
       " '생각했던 것보다 훠얼씬 재미있었당',\n",
       " '그가 평생 연주하고 싶었던 클래식 음악 쇼팽을 흑인 전용 펍에서 낡은 피아노로 비로소 연주하는 장면은 가히 압권이었다',\n",
       " '관람객 삶에 지혜를 주는 명대사가 많은 영화 보고 나면 마음이 따뜻해져요',\n",
       " '너무 재밌게 봤네요 영화가 끝난 후 가슴이 따뜻해 지는 영화',\n",
       " '선플 구걸신라배씨 배철수가 백인구걸 주의에 충실하느라 엘비스 프레슬리는 넣고 무시했던 진짜 위대한 록 큰롤 뮤지션 이름이 나와서 반가웠슴둥',\n",
       " '관람객 편견과 위선 휴머니즘과 우정이 헐리우드 스타일로 잘 빚어진 영화',\n",
       " '차별이 팽배했던 그 시대를 알지는 못하지만 차분하게 잘 표현한 거 같다 자극적인 장면 없이 그저 소소하게 영화에 빠져든다 피아노 선율이 좋은 건 덤 흑인이 게 이였던 건 흠이라면 흠',\n",
       " '장면마다 잔잔하게 감동을 받는다',\n",
       " '진짜 대박 영화 힐링 됩니다',\n",
       " '번 봤음 다시 볼수록 더 재밌음 더 할나위 없이 좋은 영화',\n",
       " '아무런 정보 기대 없이 봤다가 감동 제대로 받게 된 영화 토니 립 자체인듯 자연스런 배역을 보여준 배우가 알고 보니 반지의 제왕의 카리스마 배우 비고 모텐슨 교양 있고 클래식한 영어 악센트와 제스처 표정을 연기한 흑인 배우에게도 찬사를 보낸다',\n",
       " '편견 백인도 흑인도 동양인도 서양인도 어느 지역의 사람도 아닌 그저 같은 하늘 아래 숨 쉬며 살아가는 다 같은 소중한 사람이라는 것 다름을 인정하는 것 용기',\n",
       " '수작중에서도 수작이다 여운이 오래 남아서 가슴이 뭉클하다 인종차 별뿐 아니라 우리에게 주는 따뜻한 메세지가 대단한 것 같다 오래 기억에 남을 영화다',\n",
       " '관람객 오랫만에 영화 같은 영화 보았네요 생각하게 하는 영화 인간의 연약함과 더 불어 함께 어울려 가며 서로를 살아 나게 하는 그런 감동을 받은 영화였습니다',\n",
       " '보면서 웃었고 한편으론 울뻔',\n",
       " '제 인생 영화입니다 크리스마스 시즌에 나왔더라면',\n",
       " '인종차별 속에서 피어난 우정 계속 친구로 지냈단 말이 더 감동적',\n",
       " '관람객 영화도 넘 재밌고 극장도 넘 깨끗했어오',\n",
       " '극장에서 본 한국 관객들에게 경의를',\n",
       " '관람객 감동입니다 ㅎ 재밌게 느낄 수 있는 영화',\n",
       " ...]"
      ]
     },
     "execution_count": 46,
     "metadata": {},
     "output_type": "execute_result"
    }
   ],
   "source": [
    "data2['review2'].tolist()"
   ]
  },
  {
   "cell_type": "code",
   "execution_count": null,
   "metadata": {},
   "outputs": [],
   "source": [
    "mr2[data2.index].shape"
   ]
  },
  {
   "cell_type": "markdown",
   "metadata": {},
   "source": [
    "# Find 최적의 Topics의 수, K"
   ]
  },
  {
   "cell_type": "code",
   "execution_count": null,
   "metadata": {},
   "outputs": [],
   "source": []
  }
 ],
 "metadata": {
  "kernelspec": {
   "display_name": "keras",
   "language": "python",
   "name": "keras"
  },
  "language_info": {
   "codemirror_mode": {
    "name": "ipython",
    "version": 3
   },
   "file_extension": ".py",
   "mimetype": "text/x-python",
   "name": "python",
   "nbconvert_exporter": "python",
   "pygments_lexer": "ipython3",
   "version": "3.6.8"
  }
 },
 "nbformat": 4,
 "nbformat_minor": 2
}
